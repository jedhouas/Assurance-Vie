{
  "nbformat": 4,
  "nbformat_minor": 0,
  "metadata": {
    "colab": {
      "name": "HOUAS_DELRUE.ipynb",
      "provenance": [],
      "collapsed_sections": [],
      "include_colab_link": true
    },
    "kernelspec": {
      "name": "python3",
      "display_name": "Python 3"
    }
  },
  "cells": [
    {
      "cell_type": "markdown",
      "metadata": {
        "id": "view-in-github",
        "colab_type": "text"
      },
      "source": [
        "<a href=\"https://colab.research.google.com/github/jedhouas/Assurance-Vie/blob/master/HOUAS_DELRUE.ipynb\" target=\"_parent\"><img src=\"https://colab.research.google.com/assets/colab-badge.svg\" alt=\"Open In Colab\"/></a>"
      ]
    },
    {
      "cell_type": "markdown",
      "metadata": {
        "id": "QlKKfNz9Dd1T",
        "colab_type": "text"
      },
      "source": [
        "# **ASSURANCE VIE**\n",
        "\n",
        "\n",
        "---\n",
        "\n",
        "### Jed HOUAS & Thomas DELRUE\n",
        "\n",
        "Janvier 2020\n"
      ]
    },
    {
      "cell_type": "code",
      "metadata": {
        "id": "Oh9L2zesCWEb",
        "colab_type": "code",
        "colab": {}
      },
      "source": [
        "import numpy as np\n",
        "import pandas as pd\n",
        "from datetime import datetime as dt\n",
        "from dateutil.relativedelta import relativedelta\n",
        "import matplotlib.pyplot as plt\n",
        "from math import *\n",
        "import scipy.stats as stats\n",
        "import autograd.numpy as grad\n",
        "import numpy.linalg as linalg"
      ],
      "execution_count": 0,
      "outputs": []
    },
    {
      "cell_type": "code",
      "metadata": {
        "id": "3QZ9hXMHUtLo",
        "colab_type": "code",
        "outputId": "9d7614e3-204a-41ba-8f61-4cc4174e38d9",
        "colab": {
          "base_uri": "https://localhost:8080/",
          "height": 1000
        }
      },
      "source": [
        "!pip install actuariat_python\n",
        "!pip install lmfit\n",
        "!pip install lifelines"
      ],
      "execution_count": 0,
      "outputs": [
        {
          "output_type": "stream",
          "text": [
            "Collecting actuariat_python\n",
            "\u001b[?25l  Downloading https://files.pythonhosted.org/packages/e3/b2/fffd0439a39d234fdd2433b12e2e251d1cd4e3f2ff35fbc005c2080cee30/actuariat_python-0.3.573-py3-none-any.whl (203kB)\n",
            "\u001b[K     |████████████████████████████████| 204kB 9.4MB/s \n",
            "\u001b[?25hCollecting pyquickhelper>=1.5.2259\n",
            "\u001b[?25l  Downloading https://files.pythonhosted.org/packages/df/2a/8e4f8dae3864e7cd1a213f7049053e13b68131725cde455006b8c8f10443/pyquickhelper-1.9.3299-py3-none-any.whl (2.2MB)\n",
            "\u001b[K     |████████████████████████████████| 2.2MB 50.0MB/s \n",
            "\u001b[?25hRequirement already satisfied: numpy in /usr/local/lib/python3.6/dist-packages (from actuariat_python) (1.17.5)\n",
            "Collecting pyensae\n",
            "\u001b[?25l  Downloading https://files.pythonhosted.org/packages/d5/f6/4e20836a7177e40e5bc559ee891f9edc5be78050a6fafcd97414ddabd6c8/pyensae-1.3.825-py3-none-any.whl (468kB)\n",
            "\u001b[K     |████████████████████████████████| 471kB 49.4MB/s \n",
            "\u001b[?25hRequirement already satisfied: jupyter in /usr/local/lib/python3.6/dist-packages (from actuariat_python) (1.0.0)\n",
            "Collecting mlstatpy\n",
            "\u001b[?25l  Downloading https://files.pythonhosted.org/packages/50/1e/c5992ddd4fb06e849487d71791e970e8d864038a2058c8122cdd57934e6e/mlstatpy-0.1.335-py3-none-any.whl (40kB)\n",
            "\u001b[K     |████████████████████████████████| 51kB 7.1MB/s \n",
            "\u001b[?25hRequirement already satisfied: pandas in /usr/local/lib/python3.6/dist-packages (from actuariat_python) (0.25.3)\n",
            "Requirement already satisfied: scikit-learn in /usr/local/lib/python3.6/dist-packages (from actuariat_python) (0.22.1)\n",
            "Collecting pyrsslocal\n",
            "\u001b[?25l  Downloading https://files.pythonhosted.org/packages/d2/66/60ba1740fd586f306290b7e3c464f72c7e2ca4c7bc7f733cdc464f6465ac/pyrsslocal-0.8.250-py3-none-any.whl (255kB)\n",
            "\u001b[K     |████████████████████████████████| 256kB 28.8MB/s \n",
            "\u001b[?25hCollecting pymyinstall\n",
            "\u001b[?25l  Downloading https://files.pythonhosted.org/packages/11/89/d23da1fa8c04a93b702b8cc5cdd2c2efde597608dd4f9f817ec2a87d5735/pymyinstall-1.3.1776-py3-none-any.whl (2.1MB)\n",
            "\u001b[K     |████████████████████████████████| 2.1MB 54.0MB/s \n",
            "\u001b[?25hRequirement already satisfied: matplotlib in /usr/local/lib/python3.6/dist-packages (from actuariat_python) (3.1.2)\n",
            "Requirement already satisfied: notebook>=4.2.0 in /usr/local/lib/python3.6/dist-packages (from pyquickhelper>=1.5.2259->actuariat_python) (5.2.2)\n",
            "Requirement already satisfied: jupyter-client in /usr/local/lib/python3.6/dist-packages (from pyquickhelper>=1.5.2259->actuariat_python) (5.3.4)\n",
            "Collecting jyquickhelper\n",
            "\u001b[?25l  Downloading https://files.pythonhosted.org/packages/c4/a7/1f1dafac20e80af6c251394aa9770c6691a799018df23c7fe68dc8bac6a0/jyquickhelper-0.3.128-py3-none-any.whl (1.1MB)\n",
            "\u001b[K     |████████████████████████████████| 1.1MB 54.8MB/s \n",
            "\u001b[?25hCollecting sphinxcontrib-imagesvg\n",
            "  Downloading https://files.pythonhosted.org/packages/1d/12/c8e54d857dbaf3d868cf579ad5c9e7f539a42c447149de29a8d5cde6357e/sphinxcontrib_imagesvg-0.1-py2.py3-none-any.whl\n",
            "Requirement already satisfied: IPython>=5.0.0 in /usr/local/lib/python3.6/dist-packages (from pyquickhelper>=1.5.2259->actuariat_python) (5.5.0)\n",
            "Collecting multi-key-dict\n",
            "  Downloading https://files.pythonhosted.org/packages/6d/97/2e9c47ca1bbde6f09cb18feb887d5102e8eacd82fbc397c77b221f27a2ab/multi_key_dict-2.0.3.tar.gz\n",
            "Collecting sphinx-gallery\n",
            "\u001b[?25l  Downloading https://files.pythonhosted.org/packages/69/c0/8c6503dbf867b20e5bfcc082ab6ed5cd346169778bedf5a1e8641a22001d/sphinx-gallery-0.5.0.tar.gz (100kB)\n",
            "\u001b[K     |████████████████████████████████| 102kB 11.6MB/s \n",
            "\u001b[?25hRequirement already satisfied: docutils in /usr/local/lib/python3.6/dist-packages (from pyquickhelper>=1.5.2259->actuariat_python) (0.15.2)\n",
            "Collecting pylint\n",
            "\u001b[?25l  Downloading https://files.pythonhosted.org/packages/e9/59/43fc36c5ee316bb9aeb7cf5329cdbdca89e5749c34d5602753827c0aa2dc/pylint-2.4.4-py3-none-any.whl (302kB)\n",
            "\u001b[K     |████████████████████████████████| 307kB 43.7MB/s \n",
            "\u001b[?25hCollecting jupyter-sphinx\n",
            "  Downloading https://files.pythonhosted.org/packages/3e/6d/2c95e57bff5ff8c0ec242063d778a646022554a2435fb45cdb7eaaa1320f/jupyter_sphinx-0.2.3-py3-none-any.whl\n",
            "Requirement already satisfied: semantic-version in /usr/local/lib/python3.6/dist-packages (from pyquickhelper>=1.5.2259->actuariat_python) (2.8.4)\n",
            "Collecting autopep8\n",
            "\u001b[?25l  Downloading https://files.pythonhosted.org/packages/45/f3/24b437da561b6af4840c871fbbda32889ca304fc1f7b6cc3ada8b09f394a/autopep8-1.4.4.tar.gz (114kB)\n",
            "\u001b[K     |████████████████████████████████| 122kB 38.7MB/s \n",
            "\u001b[?25hCollecting docformatter\n",
            "  Downloading https://files.pythonhosted.org/packages/61/71/e3fd45565ed52e533b7e6a0766c36fe10e8eda30161f29c8f19e900e3381/docformatter-1.3.1.tar.gz\n",
            "Collecting coverage>=5.0\n",
            "\u001b[?25l  Downloading https://files.pythonhosted.org/packages/6a/58/df86640436e28ca46fa5e93e603c82abb0cba309b37cbaec1e1188ea53a6/coverage-5.0.3-cp36-cp36m-manylinux1_x86_64.whl (227kB)\n",
            "\u001b[K     |████████████████████████████████| 235kB 57.7MB/s \n",
            "\u001b[?25hRequirement already satisfied: nbconvert>=5.6.1 in /usr/local/lib/python3.6/dist-packages (from pyquickhelper>=1.5.2259->actuariat_python) (5.6.1)\n",
            "Collecting sphinx>=2.1\n",
            "\u001b[?25l  Downloading https://files.pythonhosted.org/packages/c4/bb/64c45dd915150952feda858a112a13dc43fb24df2f397d82cdbd4db274b6/Sphinx-2.3.1-py3-none-any.whl (2.7MB)\n",
            "\u001b[K     |████████████████████████████████| 2.7MB 57.2MB/s \n",
            "\u001b[?25hCollecting metakernel\n",
            "\u001b[?25l  Downloading https://files.pythonhosted.org/packages/ad/a9/0cd74cfbc9c4aeb117bdb7fd9ff12c3890be34ef5c77932e00ef4afaca98/metakernel-0.24.3-py2.py3-none-any.whl (208kB)\n",
            "\u001b[K     |████████████████████████████████| 215kB 47.4MB/s \n",
            "\u001b[?25hRequirement already satisfied: ipywidgets in /usr/local/lib/python3.6/dist-packages (from jupyter->actuariat_python) (7.5.1)\n",
            "Requirement already satisfied: qtconsole in /usr/local/lib/python3.6/dist-packages (from jupyter->actuariat_python) (4.6.0)\n",
            "Requirement already satisfied: jupyter-console in /usr/local/lib/python3.6/dist-packages (from jupyter->actuariat_python) (5.2.0)\n",
            "Requirement already satisfied: ipykernel in /usr/local/lib/python3.6/dist-packages (from jupyter->actuariat_python) (4.6.1)\n",
            "Requirement already satisfied: python-dateutil>=2.6.1 in /usr/local/lib/python3.6/dist-packages (from pandas->actuariat_python) (2.6.1)\n",
            "Requirement already satisfied: pytz>=2017.2 in /usr/local/lib/python3.6/dist-packages (from pandas->actuariat_python) (2018.9)\n",
            "Requirement already satisfied: joblib>=0.11 in /usr/local/lib/python3.6/dist-packages (from scikit-learn->actuariat_python) (0.14.1)\n",
            "Requirement already satisfied: scipy>=0.17.0 in /usr/local/lib/python3.6/dist-packages (from scikit-learn->actuariat_python) (1.4.1)\n",
            "Collecting feedparser\n",
            "\u001b[?25l  Downloading https://files.pythonhosted.org/packages/91/d8/7d37fec71ff7c9dbcdd80d2b48bcdd86d6af502156fc93846fb0102cb2c4/feedparser-5.2.1.tar.bz2 (192kB)\n",
            "\u001b[K     |████████████████████████████████| 194kB 53.7MB/s \n",
            "\u001b[?25hRequirement already satisfied: pip>=10.0 in /usr/local/lib/python3.6/dist-packages (from pymyinstall->actuariat_python) (19.3.1)\n",
            "Requirement already satisfied: setuptools in /usr/local/lib/python3.6/dist-packages (from pymyinstall->actuariat_python) (42.0.2)\n",
            "Requirement already satisfied: requests in /usr/local/lib/python3.6/dist-packages (from pymyinstall->actuariat_python) (2.21.0)\n",
            "Requirement already satisfied: urllib3 in /usr/local/lib/python3.6/dist-packages (from pymyinstall->actuariat_python) (1.24.3)\n",
            "Requirement already satisfied: cycler>=0.10 in /usr/local/lib/python3.6/dist-packages (from matplotlib->actuariat_python) (0.10.0)\n",
            "Requirement already satisfied: kiwisolver>=1.0.1 in /usr/local/lib/python3.6/dist-packages (from matplotlib->actuariat_python) (1.1.0)\n",
            "Requirement already satisfied: pyparsing!=2.0.4,!=2.1.2,!=2.1.6,>=2.0.1 in /usr/local/lib/python3.6/dist-packages (from matplotlib->actuariat_python) (2.4.6)\n",
            "Requirement already satisfied: ipython-genutils in /usr/local/lib/python3.6/dist-packages (from notebook>=4.2.0->pyquickhelper>=1.5.2259->actuariat_python) (0.2.0)\n",
            "Requirement already satisfied: traitlets>=4.2.1 in /usr/local/lib/python3.6/dist-packages (from notebook>=4.2.0->pyquickhelper>=1.5.2259->actuariat_python) (4.3.3)\n",
            "Requirement already satisfied: nbformat in /usr/local/lib/python3.6/dist-packages (from notebook>=4.2.0->pyquickhelper>=1.5.2259->actuariat_python) (5.0.3)\n",
            "Requirement already satisfied: terminado>=0.3.3; sys_platform != \"win32\" in /usr/local/lib/python3.6/dist-packages (from notebook>=4.2.0->pyquickhelper>=1.5.2259->actuariat_python) (0.8.3)\n",
            "Requirement already satisfied: tornado>=4 in /usr/local/lib/python3.6/dist-packages (from notebook>=4.2.0->pyquickhelper>=1.5.2259->actuariat_python) (4.5.3)\n",
            "Requirement already satisfied: jinja2 in /usr/local/lib/python3.6/dist-packages (from notebook>=4.2.0->pyquickhelper>=1.5.2259->actuariat_python) (2.10.3)\n",
            "Requirement already satisfied: jupyter-core in /usr/local/lib/python3.6/dist-packages (from notebook>=4.2.0->pyquickhelper>=1.5.2259->actuariat_python) (4.6.1)\n",
            "Requirement already satisfied: pyzmq>=13 in /usr/local/lib/python3.6/dist-packages (from jupyter-client->pyquickhelper>=1.5.2259->actuariat_python) (17.0.0)\n",
            "Requirement already satisfied: pygments in /usr/local/lib/python3.6/dist-packages (from IPython>=5.0.0->pyquickhelper>=1.5.2259->actuariat_python) (2.1.3)\n",
            "Requirement already satisfied: prompt-toolkit<2.0.0,>=1.0.4 in /usr/local/lib/python3.6/dist-packages (from IPython>=5.0.0->pyquickhelper>=1.5.2259->actuariat_python) (1.0.18)\n",
            "Requirement already satisfied: pexpect; sys_platform != \"win32\" in /usr/local/lib/python3.6/dist-packages (from IPython>=5.0.0->pyquickhelper>=1.5.2259->actuariat_python) (4.7.0)\n",
            "Requirement already satisfied: decorator in /usr/local/lib/python3.6/dist-packages (from IPython>=5.0.0->pyquickhelper>=1.5.2259->actuariat_python) (4.4.1)\n",
            "Requirement already satisfied: simplegeneric>0.8 in /usr/local/lib/python3.6/dist-packages (from IPython>=5.0.0->pyquickhelper>=1.5.2259->actuariat_python) (0.8.1)\n",
            "Requirement already satisfied: pickleshare in /usr/local/lib/python3.6/dist-packages (from IPython>=5.0.0->pyquickhelper>=1.5.2259->actuariat_python) (0.7.5)\n",
            "Requirement already satisfied: pillow in /usr/local/lib/python3.6/dist-packages (from sphinx-gallery->pyquickhelper>=1.5.2259->actuariat_python) (6.2.2)\n",
            "Collecting astroid<2.4,>=2.3.0\n",
            "\u001b[?25l  Downloading https://files.pythonhosted.org/packages/ad/ae/86734823047962e7b8c8529186a1ac4a7ca19aaf1aa0c7713c022ef593fd/astroid-2.3.3-py3-none-any.whl (205kB)\n",
            "\u001b[K     |████████████████████████████████| 215kB 47.4MB/s \n",
            "\u001b[?25hCollecting isort<5,>=4.2.5\n",
            "\u001b[?25l  Downloading https://files.pythonhosted.org/packages/e5/b0/c121fd1fa3419ea9bfd55c7f9c4fedfec5143208d8c7ad3ce3db6c623c21/isort-4.3.21-py2.py3-none-any.whl (42kB)\n",
            "\u001b[K     |████████████████████████████████| 51kB 6.5MB/s \n",
            "\u001b[?25hCollecting mccabe<0.7,>=0.6\n",
            "  Downloading https://files.pythonhosted.org/packages/87/89/479dc97e18549e21354893e4ee4ef36db1d237534982482c3681ee6e7b57/mccabe-0.6.1-py2.py3-none-any.whl\n",
            "Collecting pycodestyle>=2.4.0\n",
            "\u001b[?25l  Downloading https://files.pythonhosted.org/packages/0e/0c/04a353e104d2f324f8ee5f4b32012618c1c86dd79e52a433b64fceed511b/pycodestyle-2.5.0-py2.py3-none-any.whl (51kB)\n",
            "\u001b[K     |████████████████████████████████| 51kB 6.8MB/s \n",
            "\u001b[?25hCollecting untokenize\n",
            "  Downloading https://files.pythonhosted.org/packages/f7/46/e7cea8159199096e1df52da20a57a6665da80c37fb8aeb848a3e47442c32/untokenize-0.1.1.tar.gz\n",
            "Requirement already satisfied: mistune<2,>=0.8.1 in /usr/local/lib/python3.6/dist-packages (from nbconvert>=5.6.1->pyquickhelper>=1.5.2259->actuariat_python) (0.8.4)\n",
            "Requirement already satisfied: pandocfilters>=1.4.1 in /usr/local/lib/python3.6/dist-packages (from nbconvert>=5.6.1->pyquickhelper>=1.5.2259->actuariat_python) (1.4.2)\n",
            "Requirement already satisfied: defusedxml in /usr/local/lib/python3.6/dist-packages (from nbconvert>=5.6.1->pyquickhelper>=1.5.2259->actuariat_python) (0.6.0)\n",
            "Requirement already satisfied: bleach in /usr/local/lib/python3.6/dist-packages (from nbconvert>=5.6.1->pyquickhelper>=1.5.2259->actuariat_python) (3.1.0)\n",
            "Requirement already satisfied: testpath in /usr/local/lib/python3.6/dist-packages (from nbconvert>=5.6.1->pyquickhelper>=1.5.2259->actuariat_python) (0.4.4)\n",
            "Requirement already satisfied: entrypoints>=0.2.2 in /usr/local/lib/python3.6/dist-packages (from nbconvert>=5.6.1->pyquickhelper>=1.5.2259->actuariat_python) (0.3)\n",
            "Collecting sphinxcontrib-htmlhelp\n",
            "\u001b[?25l  Downloading https://files.pythonhosted.org/packages/e4/35/80a67cc493f4a8a9634ab203a77aaa1b84d79ccb1c02eca72cb084d2c7f7/sphinxcontrib_htmlhelp-1.0.2-py2.py3-none-any.whl (96kB)\n",
            "\u001b[K     |████████████████████████████████| 102kB 10.9MB/s \n",
            "\u001b[?25hRequirement already satisfied: imagesize in /usr/local/lib/python3.6/dist-packages (from sphinx>=2.1->pyquickhelper>=1.5.2259->actuariat_python) (1.2.0)\n",
            "Requirement already satisfied: snowballstemmer>=1.1 in /usr/local/lib/python3.6/dist-packages (from sphinx>=2.1->pyquickhelper>=1.5.2259->actuariat_python) (2.0.0)\n",
            "Collecting sphinxcontrib-devhelp\n",
            "\u001b[?25l  Downloading https://files.pythonhosted.org/packages/b0/a3/fea98741f0b2f2902fbf6c35c8e91b22cd0dd13387291e81d457f9a93066/sphinxcontrib_devhelp-1.0.1-py2.py3-none-any.whl (84kB)\n",
            "\u001b[K     |████████████████████████████████| 92kB 10.8MB/s \n",
            "\u001b[?25hCollecting sphinxcontrib-applehelp\n",
            "\u001b[?25l  Downloading https://files.pythonhosted.org/packages/13/9a/4428b3114d654cb1cd34d90d5e6fab938d5436f94a571155187ea1dd78b4/sphinxcontrib_applehelp-1.0.1-py2.py3-none-any.whl (121kB)\n",
            "\u001b[K     |████████████████████████████████| 122kB 64.7MB/s \n",
            "\u001b[?25hRequirement already satisfied: packaging in /usr/local/lib/python3.6/dist-packages (from sphinx>=2.1->pyquickhelper>=1.5.2259->actuariat_python) (20.0)\n",
            "Collecting sphinxcontrib-jsmath\n",
            "  Downloading https://files.pythonhosted.org/packages/c2/42/4c8646762ee83602e3fb3fbe774c2fac12f317deb0b5dbeeedd2d3ba4b77/sphinxcontrib_jsmath-1.0.1-py2.py3-none-any.whl\n",
            "Collecting sphinxcontrib-serializinghtml\n",
            "\u001b[?25l  Downloading https://files.pythonhosted.org/packages/57/b3/3648e48fa5682e61e9839d62de4e23af1795ceb738d68d73bd974257a95c/sphinxcontrib_serializinghtml-1.1.3-py2.py3-none-any.whl (89kB)\n",
            "\u001b[K     |████████████████████████████████| 92kB 9.7MB/s \n",
            "\u001b[?25hCollecting sphinxcontrib-qthelp\n",
            "\u001b[?25l  Downloading https://files.pythonhosted.org/packages/ce/5b/4747c3ba98b3a3e21a66faa183d8f79b9ded70e74212a7988d236a6eb78a/sphinxcontrib_qthelp-1.0.2-py2.py3-none-any.whl (90kB)\n",
            "\u001b[K     |████████████████████████████████| 92kB 10.4MB/s \n",
            "\u001b[?25hRequirement already satisfied: alabaster<0.8,>=0.7 in /usr/local/lib/python3.6/dist-packages (from sphinx>=2.1->pyquickhelper>=1.5.2259->actuariat_python) (0.7.12)\n",
            "Requirement already satisfied: babel!=2.0,>=1.3 in /usr/local/lib/python3.6/dist-packages (from sphinx>=2.1->pyquickhelper>=1.5.2259->actuariat_python) (2.8.0)\n",
            "Collecting portalocker\n",
            "  Downloading https://files.pythonhosted.org/packages/91/db/7bc703c0760df726839e0699b7f78a4d8217fdc9c7fcb1b51b39c5a22a4e/portalocker-1.5.2-py2.py3-none-any.whl\n",
            "Collecting ipyparallel\n",
            "\u001b[?25l  Downloading https://files.pythonhosted.org/packages/3f/82/aaa7a357845a98d4028f27c799f0d3bb2fe55fc1247c73dc712b4ae2344c/ipyparallel-6.2.4-py2.py3-none-any.whl (198kB)\n",
            "\u001b[K     |████████████████████████████████| 204kB 62.6MB/s \n",
            "\u001b[?25hRequirement already satisfied: widgetsnbextension~=3.5.0 in /usr/local/lib/python3.6/dist-packages (from ipywidgets->jupyter->actuariat_python) (3.5.1)\n",
            "Requirement already satisfied: six>=1.5 in /usr/local/lib/python3.6/dist-packages (from python-dateutil>=2.6.1->pandas->actuariat_python) (1.12.0)\n",
            "Requirement already satisfied: chardet<3.1.0,>=3.0.2 in /usr/local/lib/python3.6/dist-packages (from requests->pymyinstall->actuariat_python) (3.0.4)\n",
            "Requirement already satisfied: certifi>=2017.4.17 in /usr/local/lib/python3.6/dist-packages (from requests->pymyinstall->actuariat_python) (2019.11.28)\n",
            "Requirement already satisfied: idna<2.9,>=2.5 in /usr/local/lib/python3.6/dist-packages (from requests->pymyinstall->actuariat_python) (2.8)\n",
            "Requirement already satisfied: jsonschema!=2.5.0,>=2.4 in /usr/local/lib/python3.6/dist-packages (from nbformat->notebook>=4.2.0->pyquickhelper>=1.5.2259->actuariat_python) (2.6.0)\n",
            "Requirement already satisfied: ptyprocess; os_name != \"nt\" in /usr/local/lib/python3.6/dist-packages (from terminado>=0.3.3; sys_platform != \"win32\"->notebook>=4.2.0->pyquickhelper>=1.5.2259->actuariat_python) (0.6.0)\n",
            "Requirement already satisfied: MarkupSafe>=0.23 in /usr/local/lib/python3.6/dist-packages (from jinja2->notebook>=4.2.0->pyquickhelper>=1.5.2259->actuariat_python) (1.1.1)\n",
            "Requirement already satisfied: wcwidth in /usr/local/lib/python3.6/dist-packages (from prompt-toolkit<2.0.0,>=1.0.4->IPython>=5.0.0->pyquickhelper>=1.5.2259->actuariat_python) (0.1.8)\n",
            "Collecting typed-ast<1.5,>=1.4.0; implementation_name == \"cpython\" and python_version < \"3.8\"\n",
            "\u001b[?25l  Downloading https://files.pythonhosted.org/packages/90/ed/5459080d95eb87a02fe860d447197be63b6e2b5e9ff73c2b0a85622994f4/typed_ast-1.4.1-cp36-cp36m-manylinux1_x86_64.whl (737kB)\n",
            "\u001b[K     |████████████████████████████████| 747kB 45.2MB/s \n",
            "\u001b[?25hCollecting lazy-object-proxy==1.4.*\n",
            "\u001b[?25l  Downloading https://files.pythonhosted.org/packages/0b/dd/b1e3407e9e6913cf178e506cd0dee818e58694d9a5cd1984e3f6a8b9a10f/lazy_object_proxy-1.4.3-cp36-cp36m-manylinux1_x86_64.whl (55kB)\n",
            "\u001b[K     |████████████████████████████████| 61kB 8.6MB/s \n",
            "\u001b[?25hRequirement already satisfied: wrapt==1.11.* in /usr/local/lib/python3.6/dist-packages (from astroid<2.4,>=2.3.0->pylint->pyquickhelper>=1.5.2259->actuariat_python) (1.11.2)\n",
            "Requirement already satisfied: webencodings in /usr/local/lib/python3.6/dist-packages (from bleach->nbconvert>=5.6.1->pyquickhelper>=1.5.2259->actuariat_python) (0.5.1)\n",
            "Building wheels for collected packages: multi-key-dict, sphinx-gallery, autopep8, docformatter, feedparser, untokenize\n",
            "  Building wheel for multi-key-dict (setup.py) ... \u001b[?25l\u001b[?25hdone\n",
            "  Created wheel for multi-key-dict: filename=multi_key_dict-2.0.3-cp36-none-any.whl size=9300 sha256=1b2366cb761b6065a559d28b9d34e7f7d97d433df3e0591f5e84343288d626c6\n",
            "  Stored in directory: /root/.cache/pip/wheels/1d/26/5b/ac32658fddc88f045a516406ff69cafabaab2602eb96bbe2f0\n",
            "  Building wheel for sphinx-gallery (setup.py) ... \u001b[?25l\u001b[?25hdone\n",
            "  Created wheel for sphinx-gallery: filename=sphinx_gallery-0.5.0-cp36-none-any.whl size=101620 sha256=e362b39376395ef24e6bba7807e6230d4d2d0d28e2ccbf0123a13c953aa56d85\n",
            "  Stored in directory: /root/.cache/pip/wheels/40/12/7d/a755e2b2c1beb309b9e9d53d7aaf22426e625eeb5ca570fbbd\n",
            "  Building wheel for autopep8 (setup.py) ... \u001b[?25l\u001b[?25hdone\n",
            "  Created wheel for autopep8: filename=autopep8-1.4.4-py2.py3-none-any.whl size=42631 sha256=7f410046f94a974ffbc45af3dfc0b74c3b57f04d8cb31ecb82a0fbe7abf6c346\n",
            "  Stored in directory: /root/.cache/pip/wheels/7e/f5/4b/c19e6276126325eb8071b273347c05a830c37a82b9b3b81510\n",
            "  Building wheel for docformatter (setup.py) ... \u001b[?25l\u001b[?25hdone\n",
            "  Created wheel for docformatter: filename=docformatter-1.3.1-cp36-none-any.whl size=11623 sha256=6c364101e3122cbe57319c25efa059d685293322984684201cdfddd96330c0ce\n",
            "  Stored in directory: /root/.cache/pip/wheels/34/8b/fd/c3df4ec633339bdae89d61ddafb831ce6d2885cfd48c416f6c\n",
            "  Building wheel for feedparser (setup.py) ... \u001b[?25l\u001b[?25hdone\n",
            "  Created wheel for feedparser: filename=feedparser-5.2.1-cp36-none-any.whl size=44940 sha256=a929c44c3666bc282ee4ade9119460ffe067fed6c5c61ae3a289751601904d5a\n",
            "  Stored in directory: /root/.cache/pip/wheels/8c/69/b7/f52763c41c5471df57703a0ef718a32a5e81ee35dcf6d4f97f\n",
            "  Building wheel for untokenize (setup.py) ... \u001b[?25l\u001b[?25hdone\n",
            "  Created wheel for untokenize: filename=untokenize-0.1.1-cp36-none-any.whl size=2897 sha256=4a3b41279ab88a5e9c6f3bee6e8d1269258ba68f12b22b7faa0edaa3f67e53ec\n",
            "  Stored in directory: /root/.cache/pip/wheels/f4/a0/63/012f35213063bcd1d92a1bb5f4a570fec73e2a0a335a9a7295\n",
            "Successfully built multi-key-dict sphinx-gallery autopep8 docformatter feedparser untokenize\n",
            "\u001b[31mERROR: datascience 0.10.6 has requirement coverage==3.7.1, but you'll have coverage 5.0.3 which is incompatible.\u001b[0m\n",
            "\u001b[31mERROR: datascience 0.10.6 has requirement folium==0.2.1, but you'll have folium 0.8.3 which is incompatible.\u001b[0m\n",
            "\u001b[31mERROR: coveralls 0.5 has requirement coverage<3.999,>=3.6, but you'll have coverage 5.0.3 which is incompatible.\u001b[0m\n",
            "Installing collected packages: jyquickhelper, sphinxcontrib-htmlhelp, sphinxcontrib-devhelp, sphinxcontrib-applehelp, sphinxcontrib-jsmath, sphinxcontrib-serializinghtml, sphinxcontrib-qthelp, sphinx, sphinxcontrib-imagesvg, multi-key-dict, sphinx-gallery, typed-ast, lazy-object-proxy, astroid, isort, mccabe, pylint, jupyter-sphinx, pycodestyle, autopep8, untokenize, docformatter, coverage, portalocker, ipyparallel, metakernel, pyquickhelper, pyensae, mlstatpy, feedparser, pyrsslocal, pymyinstall, actuariat-python\n",
            "  Found existing installation: Sphinx 1.8.5\n",
            "    Uninstalling Sphinx-1.8.5:\n",
            "      Successfully uninstalled Sphinx-1.8.5\n",
            "  Found existing installation: coverage 3.7.1\n",
            "    Uninstalling coverage-3.7.1:\n",
            "      Successfully uninstalled coverage-3.7.1\n",
            "Successfully installed actuariat-python-0.3.573 astroid-2.3.3 autopep8-1.4.4 coverage-5.0.3 docformatter-1.3.1 feedparser-5.2.1 ipyparallel-6.2.4 isort-4.3.21 jupyter-sphinx-0.2.3 jyquickhelper-0.3.128 lazy-object-proxy-1.4.3 mccabe-0.6.1 metakernel-0.24.3 mlstatpy-0.1.335 multi-key-dict-2.0.3 portalocker-1.5.2 pycodestyle-2.5.0 pyensae-1.3.825 pylint-2.4.4 pymyinstall-1.3.1776 pyquickhelper-1.9.3299 pyrsslocal-0.8.250 sphinx-2.3.1 sphinx-gallery-0.5.0 sphinxcontrib-applehelp-1.0.1 sphinxcontrib-devhelp-1.0.1 sphinxcontrib-htmlhelp-1.0.2 sphinxcontrib-imagesvg-0.1 sphinxcontrib-jsmath-1.0.1 sphinxcontrib-qthelp-1.0.2 sphinxcontrib-serializinghtml-1.1.3 typed-ast-1.4.1 untokenize-0.1.1\n"
          ],
          "name": "stdout"
        },
        {
          "output_type": "display_data",
          "data": {
            "application/vnd.colab-display-data+json": {
              "pip_warning": {
                "packages": [
                  "sphinxcontrib"
                ]
              }
            }
          },
          "metadata": {
            "tags": []
          }
        },
        {
          "output_type": "stream",
          "text": [
            "Collecting lmfit\n",
            "\u001b[?25l  Downloading https://files.pythonhosted.org/packages/82/99/e7cc83cb946955232477554248e86cb43691d8dd30be1d6ac70d64c202d3/lmfit-1.0.0.tar.gz (258kB)\n",
            "\r\u001b[K     |█▎                              | 10kB 19.4MB/s eta 0:00:01\r\u001b[K     |██▌                             | 20kB 6.1MB/s eta 0:00:01\r\u001b[K     |███▉                            | 30kB 6.8MB/s eta 0:00:01\r\u001b[K     |█████                           | 40kB 5.5MB/s eta 0:00:01\r\u001b[K     |██████▎                         | 51kB 6.0MB/s eta 0:00:01\r\u001b[K     |███████▋                        | 61kB 7.1MB/s eta 0:00:01\r\u001b[K     |████████▉                       | 71kB 7.1MB/s eta 0:00:01\r\u001b[K     |██████████▏                     | 81kB 6.9MB/s eta 0:00:01\r\u001b[K     |███████████▍                    | 92kB 7.6MB/s eta 0:00:01\r\u001b[K     |████████████▋                   | 102kB 8.2MB/s eta 0:00:01\r\u001b[K     |██████████████                  | 112kB 8.2MB/s eta 0:00:01\r\u001b[K     |███████████████▏                | 122kB 8.2MB/s eta 0:00:01\r\u001b[K     |████████████████▌               | 133kB 8.2MB/s eta 0:00:01\r\u001b[K     |█████████████████▊              | 143kB 8.2MB/s eta 0:00:01\r\u001b[K     |███████████████████             | 153kB 8.2MB/s eta 0:00:01\r\u001b[K     |████████████████████▎           | 163kB 8.2MB/s eta 0:00:01\r\u001b[K     |█████████████████████▌          | 174kB 8.2MB/s eta 0:00:01\r\u001b[K     |██████████████████████▉         | 184kB 8.2MB/s eta 0:00:01\r\u001b[K     |████████████████████████        | 194kB 8.2MB/s eta 0:00:01\r\u001b[K     |█████████████████████████▎      | 204kB 8.2MB/s eta 0:00:01\r\u001b[K     |██████████████████████████▋     | 215kB 8.2MB/s eta 0:00:01\r\u001b[K     |███████████████████████████▉    | 225kB 8.2MB/s eta 0:00:01\r\u001b[K     |█████████████████████████████▏  | 235kB 8.2MB/s eta 0:00:01\r\u001b[K     |██████████████████████████████▍ | 245kB 8.2MB/s eta 0:00:01\r\u001b[K     |███████████████████████████████▋| 256kB 8.2MB/s eta 0:00:01\r\u001b[K     |████████████████████████████████| 266kB 8.2MB/s \n",
            "\u001b[?25hCollecting asteval>=0.9.16\n",
            "\u001b[?25l  Downloading https://files.pythonhosted.org/packages/e4/3b/8aaee90977588fa3e88d7a495af306d6f4a1c1c01c8f0fe0de1fc43d0908/asteval-0.9.18.tar.gz (52kB)\n",
            "\r\u001b[K     |██████▏                         | 10kB 25.7MB/s eta 0:00:01\r\u001b[K     |████████████▍                   | 20kB 31.6MB/s eta 0:00:01\r\u001b[K     |██████████████████▋             | 30kB 38.1MB/s eta 0:00:01\r\u001b[K     |████████████████████████▉       | 40kB 30.6MB/s eta 0:00:01\r\u001b[K     |███████████████████████████████ | 51kB 23.4MB/s eta 0:00:01\r\u001b[K     |████████████████████████████████| 61kB 7.2MB/s \n",
            "\u001b[?25hRequirement already satisfied: numpy>=1.16 in /usr/local/lib/python3.6/dist-packages (from lmfit) (1.17.5)\n",
            "Requirement already satisfied: scipy>=1.2 in /usr/local/lib/python3.6/dist-packages (from lmfit) (1.4.1)\n",
            "Collecting uncertainties>=3.0.1\n",
            "\u001b[?25l  Downloading https://files.pythonhosted.org/packages/2a/c2/babbe5b16141859dd799ed31c03987100a7b6d0ca7c0ed4429c96ce60fdf/uncertainties-3.1.2.tar.gz (232kB)\n",
            "\r\u001b[K     |█▍                              | 10kB 20.6MB/s eta 0:00:01\r\u001b[K     |██▉                             | 20kB 27.0MB/s eta 0:00:01\r\u001b[K     |████▎                           | 30kB 33.0MB/s eta 0:00:01\r\u001b[K     |█████▋                          | 40kB 34.7MB/s eta 0:00:01\r\u001b[K     |███████                         | 51kB 20.6MB/s eta 0:00:01\r\u001b[K     |████████▌                       | 61kB 23.0MB/s eta 0:00:01\r\u001b[K     |█████████▉                      | 71kB 14.7MB/s eta 0:00:01\r\u001b[K     |███████████▎                    | 81kB 15.3MB/s eta 0:00:01\r\u001b[K     |████████████▊                   | 92kB 16.6MB/s eta 0:00:01\r\u001b[K     |██████████████                  | 102kB 15.8MB/s eta 0:00:01\r\u001b[K     |███████████████▌                | 112kB 15.8MB/s eta 0:00:01\r\u001b[K     |█████████████████               | 122kB 15.8MB/s eta 0:00:01\r\u001b[K     |██████████████████▎             | 133kB 15.8MB/s eta 0:00:01\r\u001b[K     |███████████████████▊            | 143kB 15.8MB/s eta 0:00:01\r\u001b[K     |█████████████████████▏          | 153kB 15.8MB/s eta 0:00:01\r\u001b[K     |██████████████████████▌         | 163kB 15.8MB/s eta 0:00:01\r\u001b[K     |████████████████████████        | 174kB 15.8MB/s eta 0:00:01\r\u001b[K     |█████████████████████████▍      | 184kB 15.8MB/s eta 0:00:01\r\u001b[K     |██████████████████████████▊     | 194kB 15.8MB/s eta 0:00:01\r\u001b[K     |████████████████████████████▏   | 204kB 15.8MB/s eta 0:00:01\r\u001b[K     |█████████████████████████████▋  | 215kB 15.8MB/s eta 0:00:01\r\u001b[K     |███████████████████████████████ | 225kB 15.8MB/s eta 0:00:01\r\u001b[K     |████████████████████████████████| 235kB 15.8MB/s \n",
            "\u001b[?25hBuilding wheels for collected packages: lmfit, asteval, uncertainties\n",
            "  Building wheel for lmfit (setup.py) ... \u001b[?25l\u001b[?25hdone\n",
            "  Created wheel for lmfit: filename=lmfit-1.0.0-cp36-none-any.whl size=87915 sha256=2efc618fd4368e9c4e3b0b17caf7db94a95837eb92f130f929c56a61a97f6d88\n",
            "  Stored in directory: /root/.cache/pip/wheels/1f/93/e9/8d3f759e466f5bbfed3ba1d7dc5b3d4389c469a1ec9a2acaee\n",
            "  Building wheel for asteval (setup.py) ... \u001b[?25l\u001b[?25hdone\n",
            "  Created wheel for asteval: filename=asteval-0.9.18-cp36-none-any.whl size=17382 sha256=889ed16b697b8c3b20e8f3593245a353f0708396ccf4f9cc41806eb18405df34\n",
            "  Stored in directory: /root/.cache/pip/wheels/1c/53/1b/28d929700c9633b1786a4982e6db564ec8326a8930234dcc19\n",
            "  Building wheel for uncertainties (setup.py) ... \u001b[?25l\u001b[?25hdone\n",
            "  Created wheel for uncertainties: filename=uncertainties-3.1.2-cp36-none-any.whl size=96458 sha256=203d9f7488fc4694019f06f58be273c6cfeebde088ed4869c3a9ae48d51cbe32\n",
            "  Stored in directory: /root/.cache/pip/wheels/d9/d3/0e/5b0b743a8abd50373705427438456da5dc2621891138d7a618\n",
            "Successfully built lmfit asteval uncertainties\n",
            "Installing collected packages: asteval, uncertainties, lmfit\n",
            "Successfully installed asteval-0.9.18 lmfit-1.0.0 uncertainties-3.1.2\n",
            "Collecting lifelines\n",
            "\u001b[?25l  Downloading https://files.pythonhosted.org/packages/a5/8e/56c7d3bba5cf2f579a664c553900a2273802e0582bd4bdd809cdd6755b01/lifelines-0.23.6-py2.py3-none-any.whl (407kB)\n",
            "\u001b[K     |████████████████████████████████| 409kB 8.5MB/s \n",
            "\u001b[?25hRequirement already satisfied: pandas>=0.23.0 in /usr/local/lib/python3.6/dist-packages (from lifelines) (0.25.3)\n",
            "Requirement already satisfied: scipy>=1.0 in /usr/local/lib/python3.6/dist-packages (from lifelines) (1.4.1)\n",
            "Requirement already satisfied: autograd>=1.3 in /usr/local/lib/python3.6/dist-packages (from lifelines) (1.3)\n",
            "Requirement already satisfied: matplotlib>=3.0 in /usr/local/lib/python3.6/dist-packages (from lifelines) (3.1.2)\n",
            "Collecting autograd-gamma>=0.3\n",
            "  Downloading https://files.pythonhosted.org/packages/3e/87/788c4bf90cc5c534cb3b7fdb5b719175e33e2658decce75e35e2ce69766f/autograd_gamma-0.4.1-py2.py3-none-any.whl\n",
            "Requirement already satisfied: numpy>=1.14.0 in /usr/local/lib/python3.6/dist-packages (from lifelines) (1.17.5)\n",
            "Requirement already satisfied: pytz>=2017.2 in /usr/local/lib/python3.6/dist-packages (from pandas>=0.23.0->lifelines) (2018.9)\n",
            "Requirement already satisfied: python-dateutil>=2.6.1 in /usr/local/lib/python3.6/dist-packages (from pandas>=0.23.0->lifelines) (2.6.1)\n",
            "Requirement already satisfied: future>=0.15.2 in /usr/local/lib/python3.6/dist-packages (from autograd>=1.3->lifelines) (0.16.0)\n",
            "Requirement already satisfied: cycler>=0.10 in /usr/local/lib/python3.6/dist-packages (from matplotlib>=3.0->lifelines) (0.10.0)\n",
            "Requirement already satisfied: pyparsing!=2.0.4,!=2.1.2,!=2.1.6,>=2.0.1 in /usr/local/lib/python3.6/dist-packages (from matplotlib>=3.0->lifelines) (2.4.6)\n",
            "Requirement already satisfied: kiwisolver>=1.0.1 in /usr/local/lib/python3.6/dist-packages (from matplotlib>=3.0->lifelines) (1.1.0)\n",
            "Requirement already satisfied: six>=1.5 in /usr/local/lib/python3.6/dist-packages (from python-dateutil>=2.6.1->pandas>=0.23.0->lifelines) (1.12.0)\n",
            "Requirement already satisfied: setuptools in /usr/local/lib/python3.6/dist-packages (from kiwisolver>=1.0.1->matplotlib>=3.0->lifelines) (42.0.2)\n",
            "Installing collected packages: autograd-gamma, lifelines\n",
            "Successfully installed autograd-gamma-0.4.1 lifelines-0.23.6\n"
          ],
          "name": "stdout"
        }
      ]
    },
    {
      "cell_type": "code",
      "metadata": {
        "id": "_NhMYKvRUsjY",
        "colab_type": "code",
        "colab": {}
      },
      "source": [
        "from actuariat_python.plots import plot_population_pyramid\n",
        "from lmfit import Model, Parameters\n",
        "from lifelines import KaplanMeierFitter\n",
        "from lifelines import SplineFitter\n",
        "from lifelines.fitters import ParametricUnivariateFitter\n",
        "from lifelines.utils import find_best_parametric_model"
      ],
      "execution_count": 0,
      "outputs": []
    },
    {
      "cell_type": "code",
      "metadata": {
        "id": "NRK6yKoCrmM1",
        "colab_type": "code",
        "colab": {}
      },
      "source": [
        "import warnings\n",
        "warnings.filterwarnings(\"ignore\")"
      ],
      "execution_count": 0,
      "outputs": []
    },
    {
      "cell_type": "code",
      "metadata": {
        "id": "n6pgLR5pHlLM",
        "colab_type": "code",
        "outputId": "61641ee4-4039-438f-ad8e-b30ea096cefa",
        "colab": {
          "base_uri": "https://localhost:8080/",
          "height": 118
        }
      },
      "source": [
        "# Mount drive content\n",
        "from google.colab import drive\n",
        "drive.mount('/content/drive')"
      ],
      "execution_count": 0,
      "outputs": [
        {
          "output_type": "stream",
          "text": [
            "Go to this URL in a browser: https://accounts.google.com/o/oauth2/auth?client_id=947318989803-6bn6qk8qdgf4n4g3pfee6491hc0brc4i.apps.googleusercontent.com&redirect_uri=urn%3aietf%3awg%3aoauth%3a2.0%3aoob&response_type=code&scope=email%20https%3a%2f%2fwww.googleapis.com%2fauth%2fdocs.test%20https%3a%2f%2fwww.googleapis.com%2fauth%2fdrive%20https%3a%2f%2fwww.googleapis.com%2fauth%2fdrive.photos.readonly%20https%3a%2f%2fwww.googleapis.com%2fauth%2fpeopleapi.readonly\n",
            "\n",
            "Enter your authorization code:\n",
            "··········\n",
            "Mounted at /content/drive\n"
          ],
          "name": "stdout"
        }
      ]
    },
    {
      "cell_type": "markdown",
      "metadata": {
        "id": "zUyu_8Rxfvi6",
        "colab_type": "text"
      },
      "source": [
        "# **1) Construction d'une base de données**"
      ]
    },
    {
      "cell_type": "code",
      "metadata": {
        "id": "xX_L8gJJHtSn",
        "colab_type": "code",
        "colab": {}
      },
      "source": [
        "# Importer les données dans des DataFrames\n",
        "df_contrats = pd.read_csv('/content/drive/My Drive/Colab Notebooks/Assurance Vie/Base_Contrats.csv', sep=\";\")\n",
        "df_mouvements = pd.read_csv('/content/drive/My Drive/Colab Notebooks/Assurance Vie/Base_Mouvements.csv', sep=\";\")\n",
        "df_deaths = pd.read_csv('/content/drive/My Drive/Colab Notebooks/Assurance Vie/Deaths.csv', sep=\";\")\n",
        "df_exposures = pd.read_csv('/content/drive/My Drive/Colab Notebooks/Assurance Vie/Exposures.csv', sep=\";\")\n",
        "df_death_rates = pd.read_csv('/content/drive/My Drive/Colab Notebooks/Assurance Vie/Mx_1x1.csv', sep=\";\")\n",
        "df_THTF0002 = pd.read_csv('/content/drive/My Drive/Colab Notebooks/Assurance Vie/TH-TF-00-02.csv', sep=\";\")"
      ],
      "execution_count": 0,
      "outputs": []
    },
    {
      "cell_type": "code",
      "metadata": {
        "id": "nVhBeCCqgIPL",
        "colab_type": "code",
        "outputId": "d63492f5-a915-456a-cfd6-c9ca27ae72bf",
        "colab": {
          "base_uri": "https://localhost:8080/",
          "height": 76
        }
      },
      "source": [
        "df_contrats.head(1)"
      ],
      "execution_count": 0,
      "outputs": [
        {
          "output_type": "execute_result",
          "data": {
            "text/html": [
              "<div>\n",
              "<style scoped>\n",
              "    .dataframe tbody tr th:only-of-type {\n",
              "        vertical-align: middle;\n",
              "    }\n",
              "\n",
              "    .dataframe tbody tr th {\n",
              "        vertical-align: top;\n",
              "    }\n",
              "\n",
              "    .dataframe thead th {\n",
              "        text-align: right;\n",
              "    }\n",
              "</style>\n",
              "<table border=\"1\" class=\"dataframe\">\n",
              "  <thead>\n",
              "    <tr style=\"text-align: right;\">\n",
              "      <th></th>\n",
              "      <th>Cnt</th>\n",
              "      <th>Pays</th>\n",
              "      <th>ChargementsGestion</th>\n",
              "      <th>ChargementsSous</th>\n",
              "      <th>CommSous</th>\n",
              "      <th>FreqChgts</th>\n",
              "      <th>TypFisc</th>\n",
              "      <th>Reseau</th>\n",
              "      <th>TxGaranti</th>\n",
              "      <th>Fonds</th>\n",
              "      <th>CSP</th>\n",
              "      <th>Sexe</th>\n",
              "      <th>Civilite</th>\n",
              "      <th>DatNaiss</th>\n",
              "      <th>DatEffet</th>\n",
              "      <th>DatDC</th>\n",
              "      <th>CodSitu</th>\n",
              "      <th>PM</th>\n",
              "    </tr>\n",
              "  </thead>\n",
              "  <tbody>\n",
              "    <tr>\n",
              "      <th>0</th>\n",
              "      <td>66063878.0</td>\n",
              "      <td>FRA</td>\n",
              "      <td>0.99</td>\n",
              "      <td>4.0</td>\n",
              "      <td>0.0</td>\n",
              "      <td>4</td>\n",
              "      <td>STD</td>\n",
              "      <td>Salarie</td>\n",
              "      <td>0.0</td>\n",
              "      <td>EUR</td>\n",
              "      <td>NR</td>\n",
              "      <td>M</td>\n",
              "      <td>M</td>\n",
              "      <td>18/10/2011</td>\n",
              "      <td>12/04/2012</td>\n",
              "      <td>NaN</td>\n",
              "      <td>En Cours</td>\n",
              "      <td>131.16</td>\n",
              "    </tr>\n",
              "  </tbody>\n",
              "</table>\n",
              "</div>"
            ],
            "text/plain": [
              "          Cnt Pays  ChargementsGestion  ...  DatDC   CodSitu      PM\n",
              "0  66063878.0  FRA                0.99  ...    NaN  En Cours  131.16\n",
              "\n",
              "[1 rows x 18 columns]"
            ]
          },
          "metadata": {
            "tags": []
          },
          "execution_count": 7
        }
      ]
    },
    {
      "cell_type": "code",
      "metadata": {
        "id": "IrHVtQy04bXV",
        "colab_type": "code",
        "outputId": "5c3ce8da-b463-4ca9-d594-64d97d15cf43",
        "colab": {
          "base_uri": "https://localhost:8080/",
          "height": 76
        }
      },
      "source": [
        "df_mouvements.head(1)"
      ],
      "execution_count": 0,
      "outputs": [
        {
          "output_type": "execute_result",
          "data": {
            "text/html": [
              "<div>\n",
              "<style scoped>\n",
              "    .dataframe tbody tr th:only-of-type {\n",
              "        vertical-align: middle;\n",
              "    }\n",
              "\n",
              "    .dataframe tbody tr th {\n",
              "        vertical-align: top;\n",
              "    }\n",
              "\n",
              "    .dataframe thead th {\n",
              "        text-align: right;\n",
              "    }\n",
              "</style>\n",
              "<table border=\"1\" class=\"dataframe\">\n",
              "  <thead>\n",
              "    <tr style=\"text-align: right;\">\n",
              "      <th></th>\n",
              "      <th>Cnt</th>\n",
              "      <th>Pays</th>\n",
              "      <th>TypFisc</th>\n",
              "      <th>Reseau</th>\n",
              "      <th>TxGaranti</th>\n",
              "      <th>Fonds</th>\n",
              "      <th>CSP</th>\n",
              "      <th>Sexe</th>\n",
              "      <th>Civilite</th>\n",
              "      <th>DatNaiss</th>\n",
              "      <th>DatEffetCnt</th>\n",
              "      <th>DatEffet</th>\n",
              "      <th>Typo</th>\n",
              "      <th>Montant</th>\n",
              "    </tr>\n",
              "  </thead>\n",
              "  <tbody>\n",
              "    <tr>\n",
              "      <th>0</th>\n",
              "      <td>71942509.0</td>\n",
              "      <td>FRA</td>\n",
              "      <td>STD</td>\n",
              "      <td>Salarie</td>\n",
              "      <td>0.5</td>\n",
              "      <td>EUR</td>\n",
              "      <td>NR</td>\n",
              "      <td>M</td>\n",
              "      <td>M</td>\n",
              "      <td>16/12/1953</td>\n",
              "      <td>18/03/2005</td>\n",
              "      <td>29/10/2006</td>\n",
              "      <td>DC</td>\n",
              "      <td>282.467139</td>\n",
              "    </tr>\n",
              "  </tbody>\n",
              "</table>\n",
              "</div>"
            ],
            "text/plain": [
              "          Cnt Pays TypFisc   Reseau  ...  DatEffetCnt    DatEffet Typo     Montant\n",
              "0  71942509.0  FRA     STD  Salarie  ...   18/03/2005  29/10/2006   DC  282.467139\n",
              "\n",
              "[1 rows x 14 columns]"
            ]
          },
          "metadata": {
            "tags": []
          },
          "execution_count": 8
        }
      ]
    },
    {
      "cell_type": "code",
      "metadata": {
        "id": "WCyIXy0LB4DL",
        "colab_type": "code",
        "outputId": "7e14511d-cf21-4419-e6c6-9a888201c0d5",
        "colab": {
          "base_uri": "https://localhost:8080/",
          "height": 50
        }
      },
      "source": [
        "print(\"taille base contrats:\", len(df_contrats))\n",
        "print(\"taille base mouvements:\", len(df_mouvements))"
      ],
      "execution_count": 0,
      "outputs": [
        {
          "output_type": "stream",
          "text": [
            "taille base contrats: 693198\n",
            "taille base mouvements: 1517869\n"
          ],
          "name": "stdout"
        }
      ]
    },
    {
      "cell_type": "markdown",
      "metadata": {
        "id": "KbxX3PKJgSV7",
        "colab_type": "text"
      },
      "source": [
        "Pour la lisibilité, on supprime les colonnes qui ne seront pas utilisées."
      ]
    },
    {
      "cell_type": "code",
      "metadata": {
        "id": "lUhzcxWSewH5",
        "colab_type": "code",
        "colab": {}
      },
      "source": [
        "# Colonnes inutiles\n",
        "\n",
        "# Pays\n",
        "df_contrats = df_contrats.drop(columns=\"Pays\")\n",
        "df_mouvements = df_mouvements.drop(columns=\"Pays\")\n",
        "# Type Fiscalité\n",
        "df_contrats = df_contrats.drop(columns=\"TypFisc\")\n",
        "df_mouvements = df_mouvements.drop(columns=\"TypFisc\")\n",
        "# Reseau\n",
        "df_contrats = df_contrats.drop(columns=\"Reseau\")\n",
        "df_mouvements = df_mouvements.drop(columns=\"Reseau\")\n",
        "# CSP\n",
        "df_contrats = df_contrats.drop(columns=\"CSP\")\n",
        "df_mouvements = df_mouvements.drop(columns=\"CSP\")\n",
        "# # Civilité\n",
        "df_contrats = df_contrats.drop(columns=\"Civilite\")\n",
        "df_mouvements = df_mouvements.drop(columns=\"Civilite\")"
      ],
      "execution_count": 0,
      "outputs": []
    },
    {
      "cell_type": "code",
      "metadata": {
        "id": "ihdLkCf6liUb",
        "colab_type": "code",
        "outputId": "1777d23a-ec46-4558-cd1a-df7277eba860",
        "colab": {
          "base_uri": "https://localhost:8080/",
          "height": 33
        }
      },
      "source": [
        "df_contrats.CodSitu.unique()"
      ],
      "execution_count": 0,
      "outputs": [
        {
          "output_type": "execute_result",
          "data": {
            "text/plain": [
              "array(['En Cours', 'Resilie', 'Sinistre'], dtype=object)"
            ]
          },
          "metadata": {
            "tags": []
          },
          "execution_count": 11
        }
      ]
    },
    {
      "cell_type": "markdown",
      "metadata": {
        "id": "IgAnA02JAumX",
        "colab_type": "text"
      },
      "source": [
        "Il y a 3 situations possibles pour un contrat: \n",
        "\n",
        "\n",
        "*   en cours\n",
        "*   résilié\n",
        "*   sinistré (cas de décès)"
      ]
    },
    {
      "cell_type": "code",
      "metadata": {
        "id": "q6UJZv9vpglX",
        "colab_type": "code",
        "outputId": "1e184dab-1453-4486-ee15-5fbecb9f10d5",
        "colab": {
          "base_uri": "https://localhost:8080/",
          "height": 33
        }
      },
      "source": [
        "df_mouvements.Typo.unique()"
      ],
      "execution_count": 0,
      "outputs": [
        {
          "output_type": "execute_result",
          "data": {
            "text/plain": [
              "array(['DC', 'FraisSous', 'Sous', 'RT'], dtype=object)"
            ]
          },
          "metadata": {
            "tags": []
          },
          "execution_count": 12
        }
      ]
    },
    {
      "cell_type": "markdown",
      "metadata": {
        "id": "GmQeFMPAA2nP",
        "colab_type": "text"
      },
      "source": [
        "De même, il y a 4 types de mouvements possibles: \n",
        "\n",
        "\n",
        "\n",
        "*   versement en cas de décès\n",
        "*   rachat total\n",
        "*   souscription\n",
        "*   frais de souscription\n",
        "\n"
      ]
    },
    {
      "cell_type": "markdown",
      "metadata": {
        "id": "hoRcHuRPCtYx",
        "colab_type": "text"
      },
      "source": [
        "Avant toute chose, on convertit les dates des bases au format iso pour pouvoir effectuer des calcul avec pandas."
      ]
    },
    {
      "cell_type": "code",
      "metadata": {
        "id": "xKsGPlCimkvZ",
        "colab_type": "code",
        "colab": {}
      },
      "source": [
        "# Convertit les dates de la bdd (jj/mm/aaaa) au format iso (aaaa-mm-dd)\n",
        "\n",
        "df_contrats['DatNaiss'] = pd.to_datetime(df_contrats.DatNaiss)\n",
        "df_contrats['DatEffet'] = pd.to_datetime(df_contrats.DatEffet)\n",
        "df_contrats['DatDC'] = pd.to_datetime(df_contrats.DatDC)\n",
        "df_mouvements['DatNaiss'] = pd.to_datetime(df_mouvements.DatNaiss)\n",
        "df_mouvements['DatEffetCnt'] = pd.to_datetime(df_mouvements.DatEffetCnt)\n",
        "df_mouvements['DatEffet'] = pd.to_datetime(df_mouvements.DatEffet)"
      ],
      "execution_count": 0,
      "outputs": []
    },
    {
      "cell_type": "markdown",
      "metadata": {
        "id": "LRu4Mcm6g9ts",
        "colab_type": "text"
      },
      "source": [
        "On constitue une base qui ne contient que les contrats en cours."
      ]
    },
    {
      "cell_type": "code",
      "metadata": {
        "id": "jyEzJ_hihqjB",
        "colab_type": "code",
        "colab": {}
      },
      "source": [
        "# Que les contrats en cours\n",
        "\n",
        "df_contrats = df_contrats.dropna(axis=0, how='any', thresh=None, subset=['Sexe'], inplace=False)\n",
        "df_contrats_encours = df_contrats[df_contrats['CodSitu']=='En Cours']\n",
        "Cnt_encours = df_contrats_encours['Cnt'].values\n",
        "no_contrats_encours = len(Cnt_encours)"
      ],
      "execution_count": 0,
      "outputs": []
    },
    {
      "cell_type": "markdown",
      "metadata": {
        "id": "Uu1MIXPRaa3z",
        "colab_type": "text"
      },
      "source": [
        "# **2) Module de valorisation**"
      ]
    },
    {
      "cell_type": "code",
      "metadata": {
        "id": "J-rMBsxlJCxi",
        "colab_type": "code",
        "colab": {}
      },
      "source": [
        "# On calcule l'âge de chaque contrat en cours (en années)\n",
        "\n",
        "today = dt(2013, 12, 31)\n",
        "df_contrats_encours['AgeContrat'] = df_contrats_encours.apply(lambda line: round((today - line['DatEffet']).days/365.25, 2), axis=1)"
      ],
      "execution_count": 0,
      "outputs": []
    },
    {
      "cell_type": "code",
      "metadata": {
        "id": "TT5w3IQuAso_",
        "colab_type": "code",
        "outputId": "8ee816b6-51ec-4dc8-9a9e-249c83980524",
        "colab": {
          "base_uri": "https://localhost:8080/",
          "height": 50
        }
      },
      "source": [
        "print(\"nombre de contrats en cours:\", no_contrats_encours)\n",
        "print(\"age moyen des contrats en cours:\", round(df_contrats_encours.AgeContrat.mean(),2), \"ans\")"
      ],
      "execution_count": 0,
      "outputs": [
        {
          "output_type": "stream",
          "text": [
            "nombre de contrats en cours: 506195\n",
            "age moyen des contrats en cours: 8.45 ans\n"
          ],
          "name": "stdout"
        }
      ]
    },
    {
      "cell_type": "code",
      "metadata": {
        "id": "P4u3cwgTaliV",
        "colab_type": "code",
        "outputId": "202e94d3-81db-4537-e22d-a61fbdbcf554",
        "colab": {
          "base_uri": "https://localhost:8080/",
          "height": 82
        }
      },
      "source": [
        "df_contrats_encours.groupby(['Fonds'])['PM'].sum()"
      ],
      "execution_count": 0,
      "outputs": [
        {
          "output_type": "execute_result",
          "data": {
            "text/plain": [
              "Fonds\n",
              "EUR    1.223249e+10\n",
              "UC     1.179683e+09\n",
              "Name: PM, dtype: float64"
            ]
          },
          "metadata": {
            "tags": []
          },
          "execution_count": 17
        }
      ]
    },
    {
      "cell_type": "markdown",
      "metadata": {
        "id": "mnU3kTzCEC1m",
        "colab_type": "text"
      },
      "source": [
        "On trouve:\n",
        "\n",
        "\n",
        "*   à peu près 500,000 contrats en cours\n",
        "*   d'âge moyen 8.45 ans\n",
        "*   une PM totale fonds EUR d'à peu près 12 milliards €\n",
        "*   une PM totale UC proche de 2 milliards €\n",
        "\n",
        "\n",
        "\n"
      ]
    },
    {
      "cell_type": "markdown",
      "metadata": {
        "id": "yRNQffGrFNxr",
        "colab_type": "text"
      },
      "source": [
        "**VALORISATION NON TRAITEE**"
      ]
    },
    {
      "cell_type": "markdown",
      "metadata": {
        "id": "NzYcjH2QFYXu",
        "colab_type": "text"
      },
      "source": [
        "# **3) Table de mortalité d'expérience**"
      ]
    },
    {
      "cell_type": "markdown",
      "metadata": {
        "colab_type": "text",
        "id": "kENRw9vToaMT"
      },
      "source": [
        "### **3.1) Statistiques descriptives**"
      ]
    },
    {
      "cell_type": "code",
      "metadata": {
        "id": "VFI7hrfRHVOd",
        "colab_type": "code",
        "colab": {}
      },
      "source": [
        "# On supprime les colonnes inutiles pour la suite\n",
        "\n",
        "df_contrats = df_contrats.drop(columns=['ChargementsGestion', 'ChargementsSous', 'CommSous', 'FreqChgts', 'TxGaranti', 'Fonds', 'PM'])"
      ],
      "execution_count": 0,
      "outputs": []
    },
    {
      "cell_type": "markdown",
      "metadata": {
        "id": "weLFRZlgJjVv",
        "colab_type": "text"
      },
      "source": [
        "**Pyramide des âges au 31 décembre 2013**"
      ]
    },
    {
      "cell_type": "code",
      "metadata": {
        "id": "3A5cM4SYJz0X",
        "colab_type": "code",
        "colab": {}
      },
      "source": [
        "# On ajoute l'information âge de l'assuré\n",
        "\n",
        "df_contrats_encours['AgeAssure'] = df_contrats_encours.apply(lambda line: round((today - line['DatNaiss']).days/365.25, 2), axis=1)\n",
        "df_contrats_encours['AgeAssureEntier'] = df_contrats_encours.apply(lambda line: int(line['AgeAssure']), axis=1)"
      ],
      "execution_count": 0,
      "outputs": []
    },
    {
      "cell_type": "code",
      "metadata": {
        "id": "TsrprUg0Oqht",
        "colab_type": "code",
        "colab": {}
      },
      "source": [
        "# On sépare les contrats selon le sexe de l'assuré\n",
        "\n",
        "df_contrats_encours_H = df_contrats_encours.loc[df_contrats_encours['Sexe']=='M']\n",
        "df_contrats_encours_F = df_contrats_encours.loc[df_contrats_encours['Sexe']=='F']"
      ],
      "execution_count": 0,
      "outputs": []
    },
    {
      "cell_type": "code",
      "metadata": {
        "id": "BFrNKiFdH30m",
        "colab_type": "code",
        "outputId": "2c2ac6fa-aa6e-40e3-e659-923bd1cf4a15",
        "colab": {
          "base_uri": "https://localhost:8080/",
          "height": 228
        }
      },
      "source": [
        "df_contrats_encours_F.groupby('AgeAssureEntier').size()"
      ],
      "execution_count": 0,
      "outputs": [
        {
          "output_type": "execute_result",
          "data": {
            "text/plain": [
              "AgeAssureEntier\n",
              "0     2752\n",
              "1     1674\n",
              "2     1254\n",
              "3     1305\n",
              "4     1219\n",
              "      ... \n",
              "91       3\n",
              "92       2\n",
              "94       1\n",
              "95       2\n",
              "96       1\n",
              "Length: 96, dtype: int64"
            ]
          },
          "metadata": {
            "tags": []
          },
          "execution_count": 21
        }
      ]
    },
    {
      "cell_type": "code",
      "metadata": {
        "id": "CXRN1wDoT_KM",
        "colab_type": "code",
        "colab": {}
      },
      "source": [
        "# Complète la série des âges du PF H\n",
        "# âges non représentés dans le PF H: 94 et 96 ans\n",
        "\n",
        "ages_H = list(df_contrats_encours_H.groupby('AgeAssureEntier').size().values)\n",
        "ages_H.insert(94, 0)\n",
        "ages_H.insert(96, 0)"
      ],
      "execution_count": 0,
      "outputs": []
    },
    {
      "cell_type": "code",
      "metadata": {
        "id": "R64g1cfmSx3I",
        "colab_type": "code",
        "outputId": "5adca8a6-9e2f-4155-8970-0e39c041e430",
        "colab": {
          "base_uri": "https://localhost:8080/",
          "height": 228
        }
      },
      "source": [
        "df_contrats_encours_F.groupby('AgeAssureEntier').size()"
      ],
      "execution_count": 0,
      "outputs": [
        {
          "output_type": "execute_result",
          "data": {
            "text/plain": [
              "AgeAssureEntier\n",
              "0     2752\n",
              "1     1674\n",
              "2     1254\n",
              "3     1305\n",
              "4     1219\n",
              "      ... \n",
              "91       3\n",
              "92       2\n",
              "94       1\n",
              "95       2\n",
              "96       1\n",
              "Length: 96, dtype: int64"
            ]
          },
          "metadata": {
            "tags": []
          },
          "execution_count": 23
        }
      ]
    },
    {
      "cell_type": "code",
      "metadata": {
        "id": "OVaFqDFHUVdj",
        "colab_type": "code",
        "colab": {}
      },
      "source": [
        "# Complète la série des âges du PF F\n",
        "# âge non représenté dans le PF F: 93 ans\n",
        "\n",
        "ages_F = list(df_contrats_encours_F.groupby('AgeAssureEntier').size().values)\n",
        "ages_F.insert(93, 0)"
      ],
      "execution_count": 0,
      "outputs": []
    },
    {
      "cell_type": "code",
      "metadata": {
        "id": "dfvk29IjLiaK",
        "colab_type": "code",
        "colab": {}
      },
      "source": [
        "df_pyramide = pd.DataFrame()\n",
        "df_pyramide['Hommes'] = ages_H\n",
        "df_pyramide['Femmes'] = ages_F"
      ],
      "execution_count": 0,
      "outputs": []
    },
    {
      "cell_type": "markdown",
      "metadata": {
        "id": "tn1-yLdNICsp",
        "colab_type": "text"
      },
      "source": [
        "On construit alors la pyramide des âges du portefeuille au 31 décembre 2013:"
      ]
    },
    {
      "cell_type": "code",
      "metadata": {
        "id": "K8Kb2wtZVXJD",
        "colab_type": "code",
        "outputId": "6b5c4875-f45b-4715-dac8-b80ff430f135",
        "colab": {
          "base_uri": "https://localhost:8080/",
          "height": 528
        }
      },
      "source": [
        "plot_population_pyramid(df_pyramide['Hommes'], df_pyramide['Femmes'], figsize=(8,8))"
      ],
      "execution_count": 0,
      "outputs": [
        {
          "output_type": "execute_result",
          "data": {
            "text/plain": [
              "<matplotlib.axes._subplots.AxesSubplot at 0x7f3344125fd0>"
            ]
          },
          "metadata": {
            "tags": []
          },
          "execution_count": 26
        },
        {
          "output_type": "display_data",
          "data": {
            "image/png": "[encoded data removed]",
            "text/plain": [
              "<Figure size 576x576 with 1 Axes>"
            ]
          },
          "metadata": {
            "tags": []
          }
        }
      ]
    },
    {
      "cell_type": "markdown",
      "metadata": {
        "id": "mruhyOpZILhz",
        "colab_type": "text"
      },
      "source": [
        "On constate qu'à presque tous les âges, les hommes sont plus nombreux dans le portefeuille des contrats en cours. Les exceptions concernent les âges après 70 ans."
      ]
    },
    {
      "cell_type": "markdown",
      "metadata": {
        "id": "rmtdlG3RANVG",
        "colab_type": "text"
      },
      "source": [
        "**Effectifs au 01 janvier**"
      ]
    },
    {
      "cell_type": "code",
      "metadata": {
        "id": "aXU4VuuN--Pe",
        "colab_type": "code",
        "outputId": "e356e127-bc50-4b88-b7fa-f21f7bf46e70",
        "colab": {
          "base_uri": "https://localhost:8080/",
          "height": 33
        }
      },
      "source": [
        "print(\"1ere souscription enregistree le\", min(df_contrats.DatEffet))"
      ],
      "execution_count": 0,
      "outputs": [
        {
          "output_type": "stream",
          "text": [
            "1ere souscription enregistree le 2000-01-01 00:00:00\n"
          ],
          "name": "stdout"
        }
      ]
    },
    {
      "cell_type": "markdown",
      "metadata": {
        "id": "8s6OsRxUfvf1",
        "colab_type": "text"
      },
      "source": [
        "Le premier contrat en cours remonte au 01 janvier 2000. On s'intéresse aux effectifs du portefeuille pour chaque année de 2000 à 2013 comprises. Les dates d'observation sont prises au 01 janvier."
      ]
    },
    {
      "cell_type": "code",
      "metadata": {
        "id": "u9d4IdBodnw1",
        "colab_type": "code",
        "colab": {}
      },
      "source": [
        "# On crée un dataframe df_resiliations contenant les Cnt et dates de résiliation correspondantes\n",
        "\n",
        "df_resiliations = df_mouvements.loc[df_mouvements['Typo']=='RT']\n",
        "df_resiliations = df_resiliations[['Cnt', 'DatEffet']]\n",
        "dates = df_resiliations['DatEffet']\n",
        "df_resiliations = df_resiliations.drop(columns='DatEffet')\n",
        "df_resiliations['DatRes'] = dates"
      ],
      "execution_count": 0,
      "outputs": []
    },
    {
      "cell_type": "code",
      "metadata": {
        "id": "2p5wZTkC61Tb",
        "colab_type": "code",
        "colab": {}
      },
      "source": [
        "# On joint les dataframes df_contrats et df_resiliations\n",
        "# afin d'ajouter une colonne DatRes à df_contrats\n",
        "\n",
        "df_resiliations.set_index(['Cnt'])\n",
        "df_contrats.set_index(['Cnt'])\n",
        "merged = pd.merge(df_contrats, df_resiliations, how='outer', left_on='Cnt', right_on='Cnt')\n",
        "df_contrats = merged"
      ],
      "execution_count": 0,
      "outputs": []
    },
    {
      "cell_type": "code",
      "metadata": {
        "id": "eGl0MvlV2L_W",
        "colab_type": "code",
        "colab": {}
      },
      "source": [
        "# On ajoute une colonne fin d'observation\n",
        "\n",
        "# si contrat en cours, fin d'observation = 31/12/2013\n",
        "df_contrats.loc[df_contrats['CodSitu']=='En Cours', 'FinObs'] = pd.to_datetime('2013-12-31')\n",
        "# si sinistre, fin d'observation = date de DC\n",
        "df_contrats.loc[df_contrats['CodSitu']=='Sinistre', 'FinObs'] = pd.to_datetime(df_contrats.loc[df_contrats['CodSitu']=='Sinistre', 'DatDC'].values)\n",
        "# si resilie, fin d'observation = date de résiliation\n",
        "df_contrats.loc[df_contrats['CodSitu']=='Resilie', 'FinObs'] = pd.to_datetime(df_contrats.loc[df_contrats['CodSitu']=='Resilie', 'DatRes'].values)"
      ],
      "execution_count": 0,
      "outputs": []
    },
    {
      "cell_type": "code",
      "metadata": {
        "id": "qjBfyk6WWVZb",
        "colab_type": "code",
        "outputId": "4beb97fe-73e3-4469-cbba-5bcb4cef1875",
        "colab": {
          "base_uri": "https://localhost:8080/",
          "height": 191
        }
      },
      "source": [
        "df_contrats.head(5)"
      ],
      "execution_count": 0,
      "outputs": [
        {
          "output_type": "execute_result",
          "data": {
            "text/html": [
              "<div>\n",
              "<style scoped>\n",
              "    .dataframe tbody tr th:only-of-type {\n",
              "        vertical-align: middle;\n",
              "    }\n",
              "\n",
              "    .dataframe tbody tr th {\n",
              "        vertical-align: top;\n",
              "    }\n",
              "\n",
              "    .dataframe thead th {\n",
              "        text-align: right;\n",
              "    }\n",
              "</style>\n",
              "<table border=\"1\" class=\"dataframe\">\n",
              "  <thead>\n",
              "    <tr style=\"text-align: right;\">\n",
              "      <th></th>\n",
              "      <th>Cnt</th>\n",
              "      <th>Sexe</th>\n",
              "      <th>DatNaiss</th>\n",
              "      <th>DatEffet</th>\n",
              "      <th>DatDC</th>\n",
              "      <th>CodSitu</th>\n",
              "      <th>DatRes</th>\n",
              "      <th>FinObs</th>\n",
              "    </tr>\n",
              "  </thead>\n",
              "  <tbody>\n",
              "    <tr>\n",
              "      <th>0</th>\n",
              "      <td>66063878.0</td>\n",
              "      <td>M</td>\n",
              "      <td>2011-10-18</td>\n",
              "      <td>2012-12-04</td>\n",
              "      <td>NaT</td>\n",
              "      <td>En Cours</td>\n",
              "      <td>NaT</td>\n",
              "      <td>2013-12-31</td>\n",
              "    </tr>\n",
              "    <tr>\n",
              "      <th>1</th>\n",
              "      <td>27158756.0</td>\n",
              "      <td>M</td>\n",
              "      <td>1950-10-31</td>\n",
              "      <td>2006-07-11</td>\n",
              "      <td>NaT</td>\n",
              "      <td>En Cours</td>\n",
              "      <td>NaT</td>\n",
              "      <td>2013-12-31</td>\n",
              "    </tr>\n",
              "    <tr>\n",
              "      <th>2</th>\n",
              "      <td>49320745.0</td>\n",
              "      <td>M</td>\n",
              "      <td>1957-06-26</td>\n",
              "      <td>2003-12-30</td>\n",
              "      <td>NaT</td>\n",
              "      <td>En Cours</td>\n",
              "      <td>NaT</td>\n",
              "      <td>2013-12-31</td>\n",
              "    </tr>\n",
              "    <tr>\n",
              "      <th>3</th>\n",
              "      <td>26865915.0</td>\n",
              "      <td>M</td>\n",
              "      <td>1993-04-19</td>\n",
              "      <td>2001-10-02</td>\n",
              "      <td>NaT</td>\n",
              "      <td>En Cours</td>\n",
              "      <td>NaT</td>\n",
              "      <td>2013-12-31</td>\n",
              "    </tr>\n",
              "    <tr>\n",
              "      <th>4</th>\n",
              "      <td>70595714.0</td>\n",
              "      <td>M</td>\n",
              "      <td>1977-09-06</td>\n",
              "      <td>2004-12-06</td>\n",
              "      <td>NaT</td>\n",
              "      <td>Resilie</td>\n",
              "      <td>2012-09-15</td>\n",
              "      <td>2012-09-15</td>\n",
              "    </tr>\n",
              "  </tbody>\n",
              "</table>\n",
              "</div>"
            ],
            "text/plain": [
              "          Cnt Sexe   DatNaiss   DatEffet DatDC   CodSitu     DatRes     FinObs\n",
              "0  66063878.0    M 2011-10-18 2012-12-04   NaT  En Cours        NaT 2013-12-31\n",
              "1  27158756.0    M 1950-10-31 2006-07-11   NaT  En Cours        NaT 2013-12-31\n",
              "2  49320745.0    M 1957-06-26 2003-12-30   NaT  En Cours        NaT 2013-12-31\n",
              "3  26865915.0    M 1993-04-19 2001-10-02   NaT  En Cours        NaT 2013-12-31\n",
              "4  70595714.0    M 1977-09-06 2004-12-06   NaT   Resilie 2012-09-15 2012-09-15"
            ]
          },
          "metadata": {
            "tags": []
          },
          "execution_count": 31
        }
      ]
    },
    {
      "cell_type": "code",
      "metadata": {
        "id": "oRSZOBjMRNLi",
        "colab_type": "code",
        "colab": {}
      },
      "source": [
        "# Pour qu'un contrat appartienne au PF au 01 janvier de l'année aaaa, il faut:\n",
        "# 1) que début observation <= 01/01/aaaa\n",
        "# 2) que fin observation > 01/01/aaaa\n",
        "\n",
        "contrats_janv_2000 = df_contrats.loc[( df_contrats['DatEffet']<=pd.to_datetime('2000-01-01') )  &  ( df_contrats['FinObs']>pd.to_datetime('2000-01-01') )]\n",
        "contrats_janv_2001 = df_contrats.loc[( df_contrats['DatEffet']<=pd.to_datetime('2001-01-01') )  &  ( df_contrats['FinObs']>pd.to_datetime('2001-01-01') )]\n",
        "contrats_janv_2002 = df_contrats.loc[( df_contrats['DatEffet']<=pd.to_datetime('2002-01-01') )  &  ( df_contrats['FinObs']>pd.to_datetime('2002-01-01') )]\n",
        "contrats_janv_2003 = df_contrats.loc[( df_contrats['DatEffet']<=pd.to_datetime('2003-01-01') )  &  ( df_contrats['FinObs']>pd.to_datetime('2003-01-01') )]\n",
        "contrats_janv_2004 = df_contrats.loc[( df_contrats['DatEffet']<=pd.to_datetime('2004-01-01') )  &  ( df_contrats['FinObs']>pd.to_datetime('2004-01-01') )]\n",
        "contrats_janv_2005 = df_contrats.loc[( df_contrats['DatEffet']<=pd.to_datetime('2005-01-01') )  &  ( df_contrats['FinObs']>pd.to_datetime('2005-01-01') )]\n",
        "contrats_janv_2006 = df_contrats.loc[( df_contrats['DatEffet']<=pd.to_datetime('2006-01-01') )  &  ( df_contrats['FinObs']>pd.to_datetime('2006-01-01') )]\n",
        "contrats_janv_2007 = df_contrats.loc[( df_contrats['DatEffet']<=pd.to_datetime('2007-01-01') )  &  ( df_contrats['FinObs']>pd.to_datetime('2007-01-01') )]\n",
        "contrats_janv_2008 = df_contrats.loc[( df_contrats['DatEffet']<=pd.to_datetime('2008-01-01') )  &  ( df_contrats['FinObs']>pd.to_datetime('2008-01-01') )]\n",
        "contrats_janv_2009 = df_contrats.loc[( df_contrats['DatEffet']<=pd.to_datetime('2009-01-01') )  &  ( df_contrats['FinObs']>pd.to_datetime('2009-01-01') )]\n",
        "contrats_janv_2010 = df_contrats.loc[( df_contrats['DatEffet']<=pd.to_datetime('2010-01-01') )  &  ( df_contrats['FinObs']>pd.to_datetime('2010-01-01') )]\n",
        "contrats_janv_2011 = df_contrats.loc[( df_contrats['DatEffet']<=pd.to_datetime('2011-01-01') )  &  ( df_contrats['FinObs']>pd.to_datetime('2011-01-01') )]\n",
        "contrats_janv_2012 = df_contrats.loc[( df_contrats['DatEffet']<=pd.to_datetime('2012-01-01') )  &  ( df_contrats['FinObs']>pd.to_datetime('2012-01-01') )]\n",
        "contrats_janv_2013 = df_contrats.loc[( df_contrats['DatEffet']<=pd.to_datetime('2013-01-01') )  &  ( df_contrats['FinObs']>pd.to_datetime('2013-01-01') )]"
      ],
      "execution_count": 0,
      "outputs": []
    },
    {
      "cell_type": "code",
      "metadata": {
        "id": "JrhMs7ePHioV",
        "colab_type": "code",
        "colab": {}
      },
      "source": [
        "no_janv_2000 = len(contrats_janv_2000)\n",
        "no_janv_2001 = len(contrats_janv_2001)\n",
        "no_janv_2002 = len(contrats_janv_2002)\n",
        "no_janv_2003 = len(contrats_janv_2003)\n",
        "no_janv_2004 = len(contrats_janv_2004)\n",
        "no_janv_2005 = len(contrats_janv_2005)\n",
        "no_janv_2006 = len(contrats_janv_2006)\n",
        "no_janv_2007 = len(contrats_janv_2007)\n",
        "no_janv_2008 = len(contrats_janv_2008)\n",
        "no_janv_2009 = len(contrats_janv_2009)\n",
        "no_janv_2010 = len(contrats_janv_2010)\n",
        "no_janv_2011 = len(contrats_janv_2011)\n",
        "no_janv_2012 = len(contrats_janv_2012)\n",
        "no_janv_2013 = len(contrats_janv_2013)"
      ],
      "execution_count": 0,
      "outputs": []
    },
    {
      "cell_type": "code",
      "metadata": {
        "id": "rEi1nH6AI0sV",
        "colab_type": "code",
        "outputId": "a7abccb1-4f51-4456-8a5c-3b8e80d1d1c8",
        "colab": {
          "base_uri": "https://localhost:8080/",
          "height": 295
        }
      },
      "source": [
        "X = [i for i in range(2000, 2014)]\n",
        "Y = [no_janv_2000, no_janv_2001, no_janv_2002, no_janv_2003, no_janv_2004, no_janv_2005, no_janv_2006, no_janv_2007, no_janv_2008, no_janv_2009,\n",
        "     no_janv_2010, no_janv_2011, no_janv_2012, no_janv_2013]\n",
        "plt.plot(X, Y)\n",
        "plt.xlabel('Année')\n",
        "plt.ylabel('Nbr assurés')\n",
        "plt.title(\"Evolution du nbr d'assurés\")\n",
        "plt.show()"
      ],
      "execution_count": 0,
      "outputs": [
        {
          "output_type": "display_data",
          "data": {
            "image/png": "[encoded data removed]",
            "text/plain": [
              "<Figure size 432x288 with 1 Axes>"
            ]
          },
          "metadata": {
            "tags": []
          }
        }
      ]
    },
    {
      "cell_type": "markdown",
      "metadata": {
        "id": "cNq0Tp6UAgja",
        "colab_type": "text"
      },
      "source": [
        "**Sex ratio du PF au 31 décembre 2013**"
      ]
    },
    {
      "cell_type": "code",
      "metadata": {
        "id": "mMEbSwAdAkhH",
        "colab_type": "code",
        "outputId": "c47aaaa3-4aed-45e8-8b90-5438975aeb48",
        "colab": {
          "base_uri": "https://localhost:8080/",
          "height": 263
        }
      },
      "source": [
        "sexes_labels = {'M': \"Hommes\",\n",
        "                   'F': \"Femmes\"}\n",
        "sexes, sexes_counter = np.unique(df_contrats_encours.Sexe, return_counts=True)\n",
        "labels_names = np.array([sexes_labels[label] for label in sexes])\n",
        "colors = ['red', 'blue']\n",
        "plt.pie(sexes_counter, colors=colors, labels=labels_names, autopct='%1.1f%%')\n",
        "plt.title('Sex ratio des contrats en cours')\n",
        "plt.show()"
      ],
      "execution_count": 0,
      "outputs": [
        {
          "output_type": "display_data",
          "data": {
            "image/png": "[encoded data removed]",
            "text/plain": [
              "<Figure size 432x288 with 1 Axes>"
            ]
          },
          "metadata": {
            "tags": []
          }
        }
      ]
    },
    {
      "cell_type": "markdown",
      "metadata": {
        "id": "f3kSZyDBPVbX",
        "colab_type": "text"
      },
      "source": [
        "Le portefeuille actuel contient légèrement plus d'hommes que de femmes."
      ]
    },
    {
      "cell_type": "markdown",
      "metadata": {
        "id": "QjWAvHdmJM6H",
        "colab_type": "text"
      },
      "source": [
        "**Ages de décès**"
      ]
    },
    {
      "cell_type": "code",
      "metadata": {
        "id": "nIH47RVFCmM0",
        "colab_type": "code",
        "colab": {}
      },
      "source": [
        "# Ajout d'une colonne âge de DC dans df_contrats\n",
        "\n",
        "df_contrats.loc[df_contrats['CodSitu']=='Sinistre', 'AgeDC'] = (pd.to_datetime(df_contrats.loc[df_contrats['CodSitu']=='Sinistre', 'DatDC'].values) - \n",
        "                                                                       pd.to_datetime(df_contrats.loc[df_contrats['CodSitu']=='Sinistre', 'DatNaiss'].values)).days/365.25"
      ],
      "execution_count": 0,
      "outputs": []
    },
    {
      "cell_type": "code",
      "metadata": {
        "id": "djNqy4vJGwej",
        "colab_type": "code",
        "colab": {}
      },
      "source": [
        "# Ajout d'une colonne année de DC dans df_contrats\n",
        "\n",
        "df_contrats.loc[df_contrats['CodSitu']=='Sinistre', 'AnneeDC'] = pd.to_datetime(df_contrats.loc[df_contrats['CodSitu']=='Sinistre', 'DatDC'].values).year"
      ],
      "execution_count": 0,
      "outputs": []
    },
    {
      "cell_type": "code",
      "metadata": {
        "id": "mUxk4joBaJrG",
        "colab_type": "code",
        "colab": {}
      },
      "source": [
        "df_contrats_DC = df_contrats.dropna(subset=['DatDC'])\n",
        "no_contrats_DC = len(df_contrats_DC)\n",
        "no_contrats = len(df_contrats)"
      ],
      "execution_count": 0,
      "outputs": []
    },
    {
      "cell_type": "code",
      "metadata": {
        "id": "5088StR0lRA5",
        "colab_type": "code",
        "outputId": "e20e988d-83eb-4ca7-87d0-438a18237a77",
        "colab": {
          "base_uri": "https://localhost:8080/",
          "height": 33
        }
      },
      "source": [
        "print(\"nombre total de décès observés:\", no_contrats_DC)"
      ],
      "execution_count": 0,
      "outputs": [
        {
          "output_type": "stream",
          "text": [
            "nombre total de décès observés: 20385\n"
          ],
          "name": "stdout"
        }
      ]
    },
    {
      "cell_type": "code",
      "metadata": {
        "id": "B4IciV09qbwx",
        "colab_type": "code",
        "colab": {}
      },
      "source": [
        "df_contrats_DC_H = df_contrats_DC.loc[df_contrats_DC['Sexe']=='M']\n",
        "df_contrats_DC_F = df_contrats_DC.loc[df_contrats_DC['Sexe']=='F']"
      ],
      "execution_count": 0,
      "outputs": []
    },
    {
      "cell_type": "code",
      "metadata": {
        "id": "45l1UA1wRAOz",
        "colab_type": "code",
        "outputId": "2339957b-9dbe-42cf-97d6-27c2332e21eb",
        "colab": {
          "base_uri": "https://localhost:8080/",
          "height": 50
        }
      },
      "source": [
        "print('age DC max hommes:', int(df_contrats_DC_H.AgeDC.max()))\n",
        "print('age DC max femmes:', int(df_contrats_DC_F.AgeDC.max()))"
      ],
      "execution_count": 0,
      "outputs": [
        {
          "output_type": "stream",
          "text": [
            "age DC max hommes: 94\n",
            "age DC max femmes: 93\n"
          ],
          "name": "stdout"
        }
      ]
    },
    {
      "cell_type": "code",
      "metadata": {
        "id": "mJQcklW8JgPn",
        "colab_type": "code",
        "outputId": "018acb7d-a359-4392-b4a9-3525eb39e2e3",
        "colab": {
          "base_uri": "https://localhost:8080/",
          "height": 295
        }
      },
      "source": [
        "plt.hist(df_contrats_DC.AgeDC, bins=94)\n",
        "plt.xlabel('Age')\n",
        "plt.ylabel('Effectif')\n",
        "plt.title('Histogramme des âges de décès')\n",
        "plt.show()"
      ],
      "execution_count": 0,
      "outputs": [
        {
          "output_type": "display_data",
          "data": {
            "image/png": "[encoded data removed]",
            "text/plain": [
              "<Figure size 432x288 with 1 Axes>"
            ]
          },
          "metadata": {
            "tags": []
          }
        }
      ]
    },
    {
      "cell_type": "code",
      "metadata": {
        "id": "ybW9SoAHKKBy",
        "colab_type": "code",
        "outputId": "ad0195d6-e11e-4734-fdb1-9699f7bb497d",
        "colab": {
          "base_uri": "https://localhost:8080/",
          "height": 295
        }
      },
      "source": [
        "# Meme chose en distinguant les sexes\n",
        "\n",
        "plt.hist(df_contrats_DC_H.AgeDC, bins=94, color = \"b\", label='Hommes')\n",
        "plt.hist(df_contrats_DC_F.AgeDC, bins=94, color = \"r\", label='Femmes')\n",
        "plt.xlabel('Age')\n",
        "plt.ylabel('Effectif')\n",
        "plt.legend()\n",
        "plt.title('Histogramme des âges de décès')\n",
        "plt.show()"
      ],
      "execution_count": 0,
      "outputs": [
        {
          "output_type": "display_data",
          "data": {
            "image/png": "[encoded data removed]",
            "text/plain": [
              "<Figure size 432x288 with 1 Axes>"
            ]
          },
          "metadata": {
            "tags": []
          }
        }
      ]
    },
    {
      "cell_type": "markdown",
      "metadata": {
        "id": "6ADRSQKoSA4h",
        "colab_type": "text"
      },
      "source": [
        "Les âges de décès ont des allures de lois normales (la distribution est un peu plus large aux alentours de la vingtaine chez les hommes cependant).\n",
        "On observe qu'il y a beaucoup plus de décès d'hommes que de femmes."
      ]
    },
    {
      "cell_type": "markdown",
      "metadata": {
        "id": "XUn4aQt8_ZSJ",
        "colab_type": "text"
      },
      "source": [
        "**Sex ratio des décès**"
      ]
    },
    {
      "cell_type": "markdown",
      "metadata": {
        "id": "7Ov0Dh4kSwNw",
        "colab_type": "text"
      },
      "source": [
        "On le retrouve en calculant le sex ratio des décès:"
      ]
    },
    {
      "cell_type": "code",
      "metadata": {
        "id": "1WGiPg1d1929",
        "colab_type": "code",
        "outputId": "d53cb75f-818a-473e-82f6-15ae082f23a0",
        "colab": {
          "base_uri": "https://localhost:8080/",
          "height": 263
        }
      },
      "source": [
        "sexes_DC, sexes_DC_counter = np.unique(df_contrats_DC.Sexe, return_counts=True)\n",
        "labels_names = np.array([sexes_labels[label] for label in sexes_DC])\n",
        "colors = ['red', 'blue']\n",
        "plt.pie(sexes_DC_counter, colors=colors, labels=labels_names, autopct='%1.1f%%')\n",
        "plt.title('Sex ratio des décès')\n",
        "plt.show()"
      ],
      "execution_count": 0,
      "outputs": [
        {
          "output_type": "display_data",
          "data": {
            "image/png": "[encoded data removed]",
            "text/plain": [
              "<Figure size 432x288 with 1 Axes>"
            ]
          },
          "metadata": {
            "tags": []
          }
        }
      ]
    },
    {
      "cell_type": "markdown",
      "metadata": {
        "id": "FS2v9iwa_fq_",
        "colab_type": "text"
      },
      "source": [
        "**Age moyen au décès**"
      ]
    },
    {
      "cell_type": "code",
      "metadata": {
        "id": "o1iaNkfVbwjn",
        "colab_type": "code",
        "outputId": "ef325dfd-1627-46fe-e702-28102ce237a0",
        "colab": {
          "base_uri": "https://localhost:8080/",
          "height": 66
        }
      },
      "source": [
        "print(\"âge moyen au décès:\", round(df_contrats_DC.AgeDC.mean(),2), \"ans\")\n",
        "print(\"âge moyen au décès H:\", round(df_contrats_DC_H.AgeDC.mean(),2), \"ans\")\n",
        "print(\"âge moyen au décès F:\", round(df_contrats_DC_F.AgeDC.mean(),2), \"ans\")"
      ],
      "execution_count": 0,
      "outputs": [
        {
          "output_type": "stream",
          "text": [
            "âge moyen au décès: 56.69 ans\n",
            "âge moyen au décès H: 56.21 ans\n",
            "âge moyen au décès F: 57.9 ans\n"
          ],
          "name": "stdout"
        }
      ]
    },
    {
      "cell_type": "markdown",
      "metadata": {
        "id": "3xW2XhqU_sSU",
        "colab_type": "text"
      },
      "source": [
        "**Nombre de décès par an**"
      ]
    },
    {
      "cell_type": "code",
      "metadata": {
        "id": "jTX10gmVrnyo",
        "colab_type": "code",
        "outputId": "23ac6aff-addb-46c7-92cb-3f01e25955c3",
        "colab": {
          "base_uri": "https://localhost:8080/",
          "height": 295
        }
      },
      "source": [
        "plt.hist(df_contrats_DC.AnneeDC)\n",
        "plt.xlabel('Annee')\n",
        "plt.ylabel('Effectif')\n",
        "plt.title('Histogramme des années de décès')\n",
        "plt.show()"
      ],
      "execution_count": 0,
      "outputs": [
        {
          "output_type": "display_data",
          "data": {
            "image/png": "[encoded data removed]",
            "text/plain": [
              "<Figure size 432x288 with 1 Axes>"
            ]
          },
          "metadata": {
            "tags": []
          }
        }
      ]
    },
    {
      "cell_type": "code",
      "metadata": {
        "id": "WgXKGEqU0miR",
        "colab_type": "code",
        "outputId": "facf6e0e-182f-4f2f-8add-393c67f9052b",
        "colab": {
          "base_uri": "https://localhost:8080/",
          "height": 295
        }
      },
      "source": [
        "plt.hist(df_contrats_DC_H.AnneeDC, color = \"b\", label='Hommes')\n",
        "plt.hist(df_contrats_DC_F.AnneeDC, color = \"r\", label='Femmes')\n",
        "plt.xlabel('Annee')\n",
        "plt.ylabel('Effectif')\n",
        "plt.legend()\n",
        "plt.title('Histogramme des années de décès')\n",
        "plt.show()"
      ],
      "execution_count": 0,
      "outputs": [
        {
          "output_type": "display_data",
          "data": {
            "image/png": "[encoded data removed]",
            "text/plain": [
              "<Figure size 432x288 with 1 Axes>"
            ]
          },
          "metadata": {
            "tags": []
          }
        }
      ]
    },
    {
      "cell_type": "markdown",
      "metadata": {
        "id": "993hdOBV8z61",
        "colab_type": "text"
      },
      "source": [
        "### **3.2) Calcul des taux bruts**"
      ]
    },
    {
      "cell_type": "markdown",
      "metadata": {
        "id": "-o64XMoz88D9",
        "colab_type": "text"
      },
      "source": [
        "**Critère de Cochran**"
      ]
    },
    {
      "cell_type": "markdown",
      "metadata": {
        "id": "WJ65uhkeVi5F",
        "colab_type": "text"
      },
      "source": [
        "Déterminons les fenêtres d'âges et d'années sur lesquelles calculer les taux bruts de décès.\n",
        "\n",
        "Il s'agit de trouver les âges $x \\in [0;96] $ et les années $t \\in [2000;2013]$ avec suffisamment de donnés.\n",
        "\n",
        "Posons:\n",
        "\n",
        "*   $N_{x,t}$ = l'effectif d'âge $x$ en vie au 01 janvier de l'année $t$\n",
        "*   $d_{x,t}$ = le nombre de décès à l'âge $x$ pendant l'année $t$\n",
        "*   $\\hat q_{x,t}$ = $\\frac{d_{x,t}}{N_{x,t}}$ l'estimateur empirique de mortalité\n"
      ]
    },
    {
      "cell_type": "markdown",
      "metadata": {
        "id": "N_glwPp8YNon",
        "colab_type": "text"
      },
      "source": [
        "Le critère de Cochran assure que les âges $x$ et les années $t$ convenables vérifient:\n",
        "\n",
        "\n",
        "\n",
        "*   $ (1) \\quad N_{x,t} \\times q_{x,t} \\geq 5$\n",
        "*   $ (2) \\quad N_{x,t} \\times (1-q_{x,t}) \\geq 5$\n",
        "\n"
      ]
    },
    {
      "cell_type": "markdown",
      "metadata": {
        "id": "z80wSqAUZvP9",
        "colab_type": "text"
      },
      "source": [
        "On détaille ci-dessous comment on a calculé une \"table de Cochran\" pour l'année 2000. Toutes ces étapes sont ensuite reprises dans une fonction pour les autres années."
      ]
    },
    {
      "cell_type": "code",
      "metadata": {
        "id": "mYOG0_Bi1I93",
        "colab_type": "code",
        "colab": {}
      },
      "source": [
        "# Ajout d'une colonne delta_i qui vaut 1 si l'assuré meurt pendant l'année t, 0 sinon\n",
        "\n",
        "contrats_janv_2000['delta_t'] = contrats_janv_2000['DatDC'].apply(lambda x: 1 if x.year==2000 else 0)"
      ],
      "execution_count": 0,
      "outputs": []
    },
    {
      "cell_type": "code",
      "metadata": {
        "id": "RXfuP2MhPDCp",
        "colab_type": "code",
        "colab": {}
      },
      "source": [
        "# Ajout d'une colonne anniv\n",
        "\n",
        "contrats_janv_2000['DatAnniv'] = contrats_janv_2000['DatNaiss'].apply(lambda x: pd.to_datetime('2000' + ' - ' + str(x.month) + ' - ' + str(x.day)))"
      ],
      "execution_count": 0,
      "outputs": []
    },
    {
      "cell_type": "code",
      "metadata": {
        "id": "OjvtwEMyPMPg",
        "colab_type": "code",
        "colab": {}
      },
      "source": [
        "# Rapporte la fin d'observation à l'année t\n",
        "\n",
        "contrats_janv_2000['FinObs_t'] = contrats_janv_2000['FinObs'].apply(lambda x: min(x, pd.to_datetime('2000-12-31')))"
      ],
      "execution_count": 0,
      "outputs": []
    },
    {
      "cell_type": "code",
      "metadata": {
        "id": "s9CqwXyTLpKc",
        "colab_type": "code",
        "colab": {}
      },
      "source": [
        "# Ajout des âges de l'assuré pour l'année t\n",
        "\n",
        "contrats_janv_2000['Age_x'] = (pd.to_datetime('2000-01-01') - pd.to_datetime(contrats_janv_2000['DatNaiss'].values)).days/365.25\n",
        "contrats_janv_2000['Age_x+1'] = (pd.to_datetime('2000-12-31') - pd.to_datetime(contrats_janv_2000['DatNaiss'].values)).days/365.25"
      ],
      "execution_count": 0,
      "outputs": []
    },
    {
      "cell_type": "code",
      "metadata": {
        "id": "Lc1LCW7zS57Z",
        "colab_type": "code",
        "colab": {}
      },
      "source": [
        "# Ajout des durées d'exposition à l'âge x pour l'année t (tau_x)\n",
        "\n",
        "# si l'assuré meurt avant son anniversaire, tau_x = date DC (= date FinObs) - 01 janv\n",
        "contrats_janv_2000.loc[contrats_janv_2000['FinObs'] <= contrats_janv_2000['DatAnniv'], 'tau_x'] = contrats_janv_2000['FinObs'] - pd.to_datetime('2000-01-01')\n",
        "# Sinon tau_x = date anniv - 01 janv\n",
        "contrats_janv_2000.loc[contrats_janv_2000['FinObs'] > contrats_janv_2000['DatAnniv'], 'tau_x'] = contrats_janv_2000['DatAnniv'] - pd.to_datetime('2000-01-01')"
      ],
      "execution_count": 0,
      "outputs": []
    },
    {
      "cell_type": "code",
      "metadata": {
        "id": "ITbLCi_VZ5Hb",
        "colab_type": "code",
        "colab": {}
      },
      "source": [
        "# Ajout des durées d'exposition à l'âge x+1 pour l'année t (tau_x+1)\n",
        "\n",
        "# si l'assuré meurt avant son anniversaire, tau_x+1 = 0\n",
        "contrats_janv_2000.loc[contrats_janv_2000['FinObs'] <= contrats_janv_2000['DatAnniv'], 'tau_x+1'] = pd.to_timedelta(0)\n",
        "# s'il meurt entre son anniversaire et le 31 déc, tau_x+1 = date DC (= date FinObs) - date anniv\n",
        "contrats_janv_2000.loc[(contrats_janv_2000['FinObs'] > contrats_janv_2000['DatAnniv']) & (contrats_janv_2000['FinObs'] > contrats_janv_2000['DatAnniv']), 'tau_x+1'] = contrats_janv_2000['FinObs'] - contrats_janv_2000['DatAnniv']\n",
        "# sinon tau_x+1 = 31 déc - date anniv\n",
        "contrats_janv_2000.loc[contrats_janv_2000['FinObs'] > pd.to_datetime('2000-12-31'), 'tau_x+1'] = pd.to_datetime('2000-12-31') - contrats_janv_2000['DatAnniv']"
      ],
      "execution_count": 0,
      "outputs": []
    },
    {
      "cell_type": "code",
      "metadata": {
        "id": "Fdy4MiNglhSC",
        "colab_type": "code",
        "colab": {}
      },
      "source": [
        "contrats_janv_2000['Age_x'] = contrats_janv_2000['Age_x'].apply(lambda x: int(x))\n",
        "contrats_janv_2000['Age_x+1'] = contrats_janv_2000['Age_x+1'].apply(lambda x: int(x))\n",
        "contrats_janv_2000['tau_x'] = contrats_janv_2000['tau_x'].apply(lambda x: x.days/365.25)\n",
        "contrats_janv_2000['tau_x+1'] = contrats_janv_2000['tau_x+1'].apply(lambda x: x.days/365.25)"
      ],
      "execution_count": 0,
      "outputs": []
    },
    {
      "cell_type": "code",
      "metadata": {
        "id": "R2VJ516Ns65j",
        "colab_type": "code",
        "colab": {}
      },
      "source": [
        "contrats_janv_2000_x = contrats_janv_2000[['delta_t', 'Age_x', 'tau_x']]\n",
        "contrats_janv_2000_y = contrats_janv_2000[['delta_t', 'Age_x+1', 'tau_x+1']]\n",
        "contrats_janv_2000_y = contrats_janv_2000_y.rename(columns={\"Age_x+1\": \"Age_x\", \"tau_x+1\": \"tau_x\"})\n",
        "result_2000 = pd.concat([contrats_janv_2000_x, contrats_janv_2000_y])"
      ],
      "execution_count": 0,
      "outputs": []
    },
    {
      "cell_type": "code",
      "metadata": {
        "id": "f9f0oNjF1lK_",
        "colab_type": "code",
        "colab": {}
      },
      "source": [
        "result_2000['N_xt'] = result_2000['delta_t'].apply(lambda x: 1)\n",
        "result_2000 = result_2000.rename(columns={\"delta_t\": \"D_xt\", \"tau_x\": \"E_xt\"})\n",
        "# on regroupe par âge\n",
        "result_2000 = result_2000.groupby('Age_x').sum()\n",
        "# on a compté les DC de l'année 2 fois\n",
        "result_2000['D_xt'] = result_2000['D_xt'].apply(lambda x: x//2)\n",
        "result_2000['q_xt'] = result_2000['D_xt']/result_2000['E_xt']\n",
        "# 1e critère de Cochran: N_xt * q_xt >= 5\n",
        "result_2000['Cochran_1'] = result_2000['N_xt']*result_2000['q_xt']\n",
        "# 2e critère de Cochran: N_xt * (1-q_xt) >= 5\n",
        "result_2000['Cochran_2'] =  result_2000['N_xt']*(1-result_2000['q_xt'])"
      ],
      "execution_count": 0,
      "outputs": []
    },
    {
      "cell_type": "code",
      "metadata": {
        "id": "F-QpMmYodUN9",
        "colab_type": "code",
        "colab": {}
      },
      "source": [
        "def get_cochran_table(annee):\n",
        "  contrats_janv = df_contrats.loc[( df_contrats['DatEffet']<=pd.to_datetime(str(annee) +' -01-01') )  &  ( df_contrats['FinObs']>pd.to_datetime(str(annee) +' -01-01') )]\n",
        "  contrats_janv['delta_t'] = contrats_janv['DatDC'].apply(lambda x: 1 if x.year==annee else 0)\n",
        "  contrats_janv['DatAnniv'] = contrats_janv['DatNaiss'].apply(lambda x: pd.to_datetime(str(annee) + '-' + str(x.month) + '-' + str(x.day)))\n",
        "  contrats_janv['FinObs_t'] = contrats_janv['FinObs'].apply(lambda x: min(x, pd.to_datetime(str(annee) + '-12-31')))\n",
        "  contrats_janv['Age_x'] = (pd.to_datetime(str(annee) + '-01-01') - pd.to_datetime(contrats_janv['DatNaiss'].values)).days/365.25\n",
        "  contrats_janv['Age_x+1'] = (pd.to_datetime(str(annee) + '-12-31') - pd.to_datetime(contrats_janv['DatNaiss'].values)).days/365.25\n",
        "  contrats_janv.loc[contrats_janv['FinObs'] <= contrats_janv['DatAnniv'], 'tau_x'] = contrats_janv['FinObs'] - pd.to_datetime(str(annee) + '-01-01')\n",
        "  contrats_janv.loc[contrats_janv['FinObs'] > contrats_janv['DatAnniv'], 'tau_x'] = contrats_janv['DatAnniv'] - pd.to_datetime(str(annee) + '-01-01')\n",
        "  contrats_janv.loc[contrats_janv['FinObs'] <= contrats_janv['DatAnniv'], 'tau_x+1'] = pd.to_timedelta(0)\n",
        "  contrats_janv.loc[(contrats_janv['FinObs'] > contrats_janv['DatAnniv']) & (contrats_janv['FinObs'] > contrats_janv['DatAnniv']), 'tau_x+1'] = contrats_janv['FinObs'] - contrats_janv['DatAnniv']\n",
        "  contrats_janv.loc[contrats_janv['FinObs'] > pd.to_datetime(str(annee) + '-12-31'), 'tau_x+1'] = pd.to_datetime(str(annee) + '-12-31') - contrats_janv['DatAnniv']\n",
        "  contrats_janv['Age_x'] = contrats_janv['Age_x'].apply(lambda x: int(x))\n",
        "  contrats_janv['Age_x+1'] = contrats_janv['Age_x+1'].apply(lambda x: int(x))\n",
        "  contrats_janv['tau_x'] = contrats_janv['tau_x'].apply(lambda x: x.days/365.25)\n",
        "  contrats_janv['tau_x+1'] = contrats_janv['tau_x+1'].apply(lambda x: x.days/365.25)\n",
        "  contrats_janv_x = contrats_janv[['delta_t', 'Age_x', 'tau_x']]\n",
        "  contrats_janv_y = contrats_janv[['delta_t', 'Age_x+1', 'tau_x+1']]\n",
        "  contrats_janv_y = contrats_janv_y.rename(columns={\"Age_x+1\": \"Age_x\", \"tau_x+1\": \"tau_x\"})\n",
        "  result = pd.concat([contrats_janv_x, contrats_janv_y])\n",
        "  result['N_xt'] = result['delta_t'].apply(lambda x: 1)\n",
        "  result = result.rename(columns={\"delta_t\": \"D_xt\", \"tau_x\": \"E_xt\"})\n",
        "  result = result.groupby('Age_x').sum()\n",
        "  result['D_xt'] = result['D_xt'].apply(lambda x: x//2)\n",
        "  result['q_xt'] = result['D_xt']/result['E_xt']\n",
        "  result['Cochran_1'] = result['N_xt']*result['q_xt']\n",
        "  result['Cochran_2'] =  result['N_xt']*(1-result['q_xt'])\n",
        "\n",
        "  return result"
      ],
      "execution_count": 0,
      "outputs": []
    },
    {
      "cell_type": "code",
      "metadata": {
        "id": "hfLrEVCTfbG3",
        "colab_type": "code",
        "colab": {}
      },
      "source": [
        "# attention: met du temps à tourner\n",
        "\n",
        "result_2001 = get_cochran_table(2001)\n",
        "result_2002 = get_cochran_table(2002)\n",
        "result_2003 = get_cochran_table(2003)\n",
        "result_2004 = get_cochran_table(2004)\n",
        "result_2005 = get_cochran_table(2005)\n",
        "result_2006 = get_cochran_table(2006)\n",
        "result_2007 = get_cochran_table(2007)\n",
        "result_2008 = get_cochran_table(2008)\n",
        "result_2009 = get_cochran_table(2009)\n",
        "result_2010 = get_cochran_table(2010)\n",
        "result_2011 = get_cochran_table(2011)\n",
        "result_2012 = get_cochran_table(2012)\n",
        "result_2013 = get_cochran_table(2013)"
      ],
      "execution_count": 0,
      "outputs": []
    },
    {
      "cell_type": "markdown",
      "metadata": {
        "colab_type": "text",
        "id": "6U7VDAmQVhA-"
      },
      "source": [
        "On va maintenant lire sur ces tables les âges qui respectent le critère de Cochran."
      ]
    },
    {
      "cell_type": "code",
      "metadata": {
        "id": "-O3fvB-S8Syp",
        "colab_type": "code",
        "colab": {}
      },
      "source": [
        "def color(val):\n",
        "    if val > 5:\n",
        "      color = 'lightblue'\n",
        "    else:\n",
        "      color = ''\n",
        "    return 'background-color: %s' % color"
      ],
      "execution_count": 0,
      "outputs": []
    },
    {
      "cell_type": "markdown",
      "metadata": {
        "id": "RlTdm_V6bIma",
        "colab_type": "text"
      },
      "source": [
        "Les cases colorées vérifient le critère. Par exemple, pour l'année 2010:"
      ]
    },
    {
      "cell_type": "code",
      "metadata": {
        "id": "fvsLz8fu7_9L",
        "colab_type": "code",
        "outputId": "fb0ebab7-95f3-4117-c8f2-bdd6beb24a2d",
        "colab": {
          "base_uri": "https://localhost:8080/",
          "height": 1000
        }
      },
      "source": [
        "result_2010.style.applymap(color, subset=['Cochran_1', 'Cochran_2'])"
      ],
      "execution_count": 0,
      "outputs": [
        {
          "output_type": "execute_result",
          "data": {
            "text/html": [
              "<style  type=\"text/css\" >\n",
              "    #T_38427da8_370f_11ea_9a05_0242ac1c0002row0_col4 {\n",
              "            background-color:  ;\n",
              "        }    #T_38427da8_370f_11ea_9a05_0242ac1c0002row0_col5 {\n",
              "            background-color:  ;\n",
              "        }    #T_38427da8_370f_11ea_9a05_0242ac1c0002row1_col4 {\n",
              "            background-color:  ;\n",
              "        }    #T_38427da8_370f_11ea_9a05_0242ac1c0002row1_col5 {\n",
              "            background-color:  lightblue;\n",
              "        }    #T_38427da8_370f_11ea_9a05_0242ac1c0002row2_col4 {\n",
              "            background-color:  ;\n",
              "        }    #T_38427da8_370f_11ea_9a05_0242ac1c0002row2_col5 {\n",
              "            background-color:  lightblue;\n",
              "        }    #T_38427da8_370f_11ea_9a05_0242ac1c0002row3_col4 {\n",
              "            background-color:  ;\n",
              "        }    #T_38427da8_370f_11ea_9a05_0242ac1c0002row3_col5 {\n",
              "            background-color:  lightblue;\n",
              "        }    #T_38427da8_370f_11ea_9a05_0242ac1c0002row4_col4 {\n",
              "            background-color:  ;\n",
              "        }    #T_38427da8_370f_11ea_9a05_0242ac1c0002row4_col5 {\n",
              "            background-color:  lightblue;\n",
              "        }    #T_38427da8_370f_11ea_9a05_0242ac1c0002row5_col4 {\n",
              "            background-color:  ;\n",
              "        }    #T_38427da8_370f_11ea_9a05_0242ac1c0002row5_col5 {\n",
              "            background-color:  lightblue;\n",
              "        }    #T_38427da8_370f_11ea_9a05_0242ac1c0002row6_col4 {\n",
              "            background-color:  ;\n",
              "        }    #T_38427da8_370f_11ea_9a05_0242ac1c0002row6_col5 {\n",
              "            background-color:  lightblue;\n",
              "        }    #T_38427da8_370f_11ea_9a05_0242ac1c0002row7_col4 {\n",
              "            background-color:  ;\n",
              "        }    #T_38427da8_370f_11ea_9a05_0242ac1c0002row7_col5 {\n",
              "            background-color:  lightblue;\n",
              "        }    #T_38427da8_370f_11ea_9a05_0242ac1c0002row8_col4 {\n",
              "            background-color:  ;\n",
              "        }    #T_38427da8_370f_11ea_9a05_0242ac1c0002row8_col5 {\n",
              "            background-color:  lightblue;\n",
              "        }    #T_38427da8_370f_11ea_9a05_0242ac1c0002row9_col4 {\n",
              "            background-color:  ;\n",
              "        }    #T_38427da8_370f_11ea_9a05_0242ac1c0002row9_col5 {\n",
              "            background-color:  lightblue;\n",
              "        }    #T_38427da8_370f_11ea_9a05_0242ac1c0002row10_col4 {\n",
              "            background-color:  ;\n",
              "        }    #T_38427da8_370f_11ea_9a05_0242ac1c0002row10_col5 {\n",
              "            background-color:  lightblue;\n",
              "        }    #T_38427da8_370f_11ea_9a05_0242ac1c0002row11_col4 {\n",
              "            background-color:  ;\n",
              "        }    #T_38427da8_370f_11ea_9a05_0242ac1c0002row11_col5 {\n",
              "            background-color:  lightblue;\n",
              "        }    #T_38427da8_370f_11ea_9a05_0242ac1c0002row12_col4 {\n",
              "            background-color:  ;\n",
              "        }    #T_38427da8_370f_11ea_9a05_0242ac1c0002row12_col5 {\n",
              "            background-color:  lightblue;\n",
              "        }    #T_38427da8_370f_11ea_9a05_0242ac1c0002row13_col4 {\n",
              "            background-color:  ;\n",
              "        }    #T_38427da8_370f_11ea_9a05_0242ac1c0002row13_col5 {\n",
              "            background-color:  lightblue;\n",
              "        }    #T_38427da8_370f_11ea_9a05_0242ac1c0002row14_col4 {\n",
              "            background-color:  ;\n",
              "        }    #T_38427da8_370f_11ea_9a05_0242ac1c0002row14_col5 {\n",
              "            background-color:  lightblue;\n",
              "        }    #T_38427da8_370f_11ea_9a05_0242ac1c0002row15_col4 {\n",
              "            background-color:  ;\n",
              "        }    #T_38427da8_370f_11ea_9a05_0242ac1c0002row15_col5 {\n",
              "            background-color:  lightblue;\n",
              "        }    #T_38427da8_370f_11ea_9a05_0242ac1c0002row16_col4 {\n",
              "            background-color:  ;\n",
              "        }    #T_38427da8_370f_11ea_9a05_0242ac1c0002row16_col5 {\n",
              "            background-color:  lightblue;\n",
              "        }    #T_38427da8_370f_11ea_9a05_0242ac1c0002row17_col4 {\n",
              "            background-color:  ;\n",
              "        }    #T_38427da8_370f_11ea_9a05_0242ac1c0002row17_col5 {\n",
              "            background-color:  lightblue;\n",
              "        }    #T_38427da8_370f_11ea_9a05_0242ac1c0002row18_col4 {\n",
              "            background-color:  lightblue;\n",
              "        }    #T_38427da8_370f_11ea_9a05_0242ac1c0002row18_col5 {\n",
              "            background-color:  lightblue;\n",
              "        }    #T_38427da8_370f_11ea_9a05_0242ac1c0002row19_col4 {\n",
              "            background-color:  lightblue;\n",
              "        }    #T_38427da8_370f_11ea_9a05_0242ac1c0002row19_col5 {\n",
              "            background-color:  lightblue;\n",
              "        }    #T_38427da8_370f_11ea_9a05_0242ac1c0002row20_col4 {\n",
              "            background-color:  lightblue;\n",
              "        }    #T_38427da8_370f_11ea_9a05_0242ac1c0002row20_col5 {\n",
              "            background-color:  lightblue;\n",
              "        }    #T_38427da8_370f_11ea_9a05_0242ac1c0002row21_col4 {\n",
              "            background-color:  lightblue;\n",
              "        }    #T_38427da8_370f_11ea_9a05_0242ac1c0002row21_col5 {\n",
              "            background-color:  lightblue;\n",
              "        }    #T_38427da8_370f_11ea_9a05_0242ac1c0002row22_col4 {\n",
              "            background-color:  lightblue;\n",
              "        }    #T_38427da8_370f_11ea_9a05_0242ac1c0002row22_col5 {\n",
              "            background-color:  lightblue;\n",
              "        }    #T_38427da8_370f_11ea_9a05_0242ac1c0002row23_col4 {\n",
              "            background-color:  lightblue;\n",
              "        }    #T_38427da8_370f_11ea_9a05_0242ac1c0002row23_col5 {\n",
              "            background-color:  lightblue;\n",
              "        }    #T_38427da8_370f_11ea_9a05_0242ac1c0002row24_col4 {\n",
              "            background-color:  lightblue;\n",
              "        }    #T_38427da8_370f_11ea_9a05_0242ac1c0002row24_col5 {\n",
              "            background-color:  lightblue;\n",
              "        }    #T_38427da8_370f_11ea_9a05_0242ac1c0002row25_col4 {\n",
              "            background-color:  lightblue;\n",
              "        }    #T_38427da8_370f_11ea_9a05_0242ac1c0002row25_col5 {\n",
              "            background-color:  lightblue;\n",
              "        }    #T_38427da8_370f_11ea_9a05_0242ac1c0002row26_col4 {\n",
              "            background-color:  lightblue;\n",
              "        }    #T_38427da8_370f_11ea_9a05_0242ac1c0002row26_col5 {\n",
              "            background-color:  lightblue;\n",
              "        }    #T_38427da8_370f_11ea_9a05_0242ac1c0002row27_col4 {\n",
              "            background-color:  lightblue;\n",
              "        }    #T_38427da8_370f_11ea_9a05_0242ac1c0002row27_col5 {\n",
              "            background-color:  lightblue;\n",
              "        }    #T_38427da8_370f_11ea_9a05_0242ac1c0002row28_col4 {\n",
              "            background-color:  lightblue;\n",
              "        }    #T_38427da8_370f_11ea_9a05_0242ac1c0002row28_col5 {\n",
              "            background-color:  lightblue;\n",
              "        }    #T_38427da8_370f_11ea_9a05_0242ac1c0002row29_col4 {\n",
              "            background-color:  lightblue;\n",
              "        }    #T_38427da8_370f_11ea_9a05_0242ac1c0002row29_col5 {\n",
              "            background-color:  lightblue;\n",
              "        }    #T_38427da8_370f_11ea_9a05_0242ac1c0002row30_col4 {\n",
              "            background-color:  lightblue;\n",
              "        }    #T_38427da8_370f_11ea_9a05_0242ac1c0002row30_col5 {\n",
              "            background-color:  lightblue;\n",
              "        }    #T_38427da8_370f_11ea_9a05_0242ac1c0002row31_col4 {\n",
              "            background-color:  lightblue;\n",
              "        }    #T_38427da8_370f_11ea_9a05_0242ac1c0002row31_col5 {\n",
              "            background-color:  lightblue;\n",
              "        }    #T_38427da8_370f_11ea_9a05_0242ac1c0002row32_col4 {\n",
              "            background-color:  lightblue;\n",
              "        }    #T_38427da8_370f_11ea_9a05_0242ac1c0002row32_col5 {\n",
              "            background-color:  lightblue;\n",
              "        }    #T_38427da8_370f_11ea_9a05_0242ac1c0002row33_col4 {\n",
              "            background-color:  lightblue;\n",
              "        }    #T_38427da8_370f_11ea_9a05_0242ac1c0002row33_col5 {\n",
              "            background-color:  lightblue;\n",
              "        }    #T_38427da8_370f_11ea_9a05_0242ac1c0002row34_col4 {\n",
              "            background-color:  lightblue;\n",
              "        }    #T_38427da8_370f_11ea_9a05_0242ac1c0002row34_col5 {\n",
              "            background-color:  lightblue;\n",
              "        }    #T_38427da8_370f_11ea_9a05_0242ac1c0002row35_col4 {\n",
              "            background-color:  lightblue;\n",
              "        }    #T_38427da8_370f_11ea_9a05_0242ac1c0002row35_col5 {\n",
              "            background-color:  lightblue;\n",
              "        }    #T_38427da8_370f_11ea_9a05_0242ac1c0002row36_col4 {\n",
              "            background-color:  lightblue;\n",
              "        }    #T_38427da8_370f_11ea_9a05_0242ac1c0002row36_col5 {\n",
              "            background-color:  lightblue;\n",
              "        }    #T_38427da8_370f_11ea_9a05_0242ac1c0002row37_col4 {\n",
              "            background-color:  lightblue;\n",
              "        }    #T_38427da8_370f_11ea_9a05_0242ac1c0002row37_col5 {\n",
              "            background-color:  lightblue;\n",
              "        }    #T_38427da8_370f_11ea_9a05_0242ac1c0002row38_col4 {\n",
              "            background-color:  lightblue;\n",
              "        }    #T_38427da8_370f_11ea_9a05_0242ac1c0002row38_col5 {\n",
              "            background-color:  lightblue;\n",
              "        }    #T_38427da8_370f_11ea_9a05_0242ac1c0002row39_col4 {\n",
              "            background-color:  lightblue;\n",
              "        }    #T_38427da8_370f_11ea_9a05_0242ac1c0002row39_col5 {\n",
              "            background-color:  lightblue;\n",
              "        }    #T_38427da8_370f_11ea_9a05_0242ac1c0002row40_col4 {\n",
              "            background-color:  lightblue;\n",
              "        }    #T_38427da8_370f_11ea_9a05_0242ac1c0002row40_col5 {\n",
              "            background-color:  lightblue;\n",
              "        }    #T_38427da8_370f_11ea_9a05_0242ac1c0002row41_col4 {\n",
              "            background-color:  lightblue;\n",
              "        }    #T_38427da8_370f_11ea_9a05_0242ac1c0002row41_col5 {\n",
              "            background-color:  lightblue;\n",
              "        }    #T_38427da8_370f_11ea_9a05_0242ac1c0002row42_col4 {\n",
              "            background-color:  lightblue;\n",
              "        }    #T_38427da8_370f_11ea_9a05_0242ac1c0002row42_col5 {\n",
              "            background-color:  lightblue;\n",
              "        }    #T_38427da8_370f_11ea_9a05_0242ac1c0002row43_col4 {\n",
              "            background-color:  lightblue;\n",
              "        }    #T_38427da8_370f_11ea_9a05_0242ac1c0002row43_col5 {\n",
              "            background-color:  lightblue;\n",
              "        }    #T_38427da8_370f_11ea_9a05_0242ac1c0002row44_col4 {\n",
              "            background-color:  lightblue;\n",
              "        }    #T_38427da8_370f_11ea_9a05_0242ac1c0002row44_col5 {\n",
              "            background-color:  lightblue;\n",
              "        }    #T_38427da8_370f_11ea_9a05_0242ac1c0002row45_col4 {\n",
              "            background-color:  lightblue;\n",
              "        }    #T_38427da8_370f_11ea_9a05_0242ac1c0002row45_col5 {\n",
              "            background-color:  lightblue;\n",
              "        }    #T_38427da8_370f_11ea_9a05_0242ac1c0002row46_col4 {\n",
              "            background-color:  lightblue;\n",
              "        }    #T_38427da8_370f_11ea_9a05_0242ac1c0002row46_col5 {\n",
              "            background-color:  lightblue;\n",
              "        }    #T_38427da8_370f_11ea_9a05_0242ac1c0002row47_col4 {\n",
              "            background-color:  lightblue;\n",
              "        }    #T_38427da8_370f_11ea_9a05_0242ac1c0002row47_col5 {\n",
              "            background-color:  lightblue;\n",
              "        }    #T_38427da8_370f_11ea_9a05_0242ac1c0002row48_col4 {\n",
              "            background-color:  lightblue;\n",
              "        }    #T_38427da8_370f_11ea_9a05_0242ac1c0002row48_col5 {\n",
              "            background-color:  lightblue;\n",
              "        }    #T_38427da8_370f_11ea_9a05_0242ac1c0002row49_col4 {\n",
              "            background-color:  lightblue;\n",
              "        }    #T_38427da8_370f_11ea_9a05_0242ac1c0002row49_col5 {\n",
              "            background-color:  lightblue;\n",
              "        }    #T_38427da8_370f_11ea_9a05_0242ac1c0002row50_col4 {\n",
              "            background-color:  lightblue;\n",
              "        }    #T_38427da8_370f_11ea_9a05_0242ac1c0002row50_col5 {\n",
              "            background-color:  lightblue;\n",
              "        }    #T_38427da8_370f_11ea_9a05_0242ac1c0002row51_col4 {\n",
              "            background-color:  lightblue;\n",
              "        }    #T_38427da8_370f_11ea_9a05_0242ac1c0002row51_col5 {\n",
              "            background-color:  lightblue;\n",
              "        }    #T_38427da8_370f_11ea_9a05_0242ac1c0002row52_col4 {\n",
              "            background-color:  lightblue;\n",
              "        }    #T_38427da8_370f_11ea_9a05_0242ac1c0002row52_col5 {\n",
              "            background-color:  lightblue;\n",
              "        }    #T_38427da8_370f_11ea_9a05_0242ac1c0002row53_col4 {\n",
              "            background-color:  lightblue;\n",
              "        }    #T_38427da8_370f_11ea_9a05_0242ac1c0002row53_col5 {\n",
              "            background-color:  lightblue;\n",
              "        }    #T_38427da8_370f_11ea_9a05_0242ac1c0002row54_col4 {\n",
              "            background-color:  lightblue;\n",
              "        }    #T_38427da8_370f_11ea_9a05_0242ac1c0002row54_col5 {\n",
              "            background-color:  lightblue;\n",
              "        }    #T_38427da8_370f_11ea_9a05_0242ac1c0002row55_col4 {\n",
              "            background-color:  lightblue;\n",
              "        }    #T_38427da8_370f_11ea_9a05_0242ac1c0002row55_col5 {\n",
              "            background-color:  lightblue;\n",
              "        }    #T_38427da8_370f_11ea_9a05_0242ac1c0002row56_col4 {\n",
              "            background-color:  lightblue;\n",
              "        }    #T_38427da8_370f_11ea_9a05_0242ac1c0002row56_col5 {\n",
              "            background-color:  lightblue;\n",
              "        }    #T_38427da8_370f_11ea_9a05_0242ac1c0002row57_col4 {\n",
              "            background-color:  lightblue;\n",
              "        }    #T_38427da8_370f_11ea_9a05_0242ac1c0002row57_col5 {\n",
              "            background-color:  lightblue;\n",
              "        }    #T_38427da8_370f_11ea_9a05_0242ac1c0002row58_col4 {\n",
              "            background-color:  lightblue;\n",
              "        }    #T_38427da8_370f_11ea_9a05_0242ac1c0002row58_col5 {\n",
              "            background-color:  lightblue;\n",
              "        }    #T_38427da8_370f_11ea_9a05_0242ac1c0002row59_col4 {\n",
              "            background-color:  lightblue;\n",
              "        }    #T_38427da8_370f_11ea_9a05_0242ac1c0002row59_col5 {\n",
              "            background-color:  lightblue;\n",
              "        }    #T_38427da8_370f_11ea_9a05_0242ac1c0002row60_col4 {\n",
              "            background-color:  lightblue;\n",
              "        }    #T_38427da8_370f_11ea_9a05_0242ac1c0002row60_col5 {\n",
              "            background-color:  lightblue;\n",
              "        }    #T_38427da8_370f_11ea_9a05_0242ac1c0002row61_col4 {\n",
              "            background-color:  lightblue;\n",
              "        }    #T_38427da8_370f_11ea_9a05_0242ac1c0002row61_col5 {\n",
              "            background-color:  lightblue;\n",
              "        }    #T_38427da8_370f_11ea_9a05_0242ac1c0002row62_col4 {\n",
              "            background-color:  lightblue;\n",
              "        }    #T_38427da8_370f_11ea_9a05_0242ac1c0002row62_col5 {\n",
              "            background-color:  lightblue;\n",
              "        }    #T_38427da8_370f_11ea_9a05_0242ac1c0002row63_col4 {\n",
              "            background-color:  lightblue;\n",
              "        }    #T_38427da8_370f_11ea_9a05_0242ac1c0002row63_col5 {\n",
              "            background-color:  lightblue;\n",
              "        }    #T_38427da8_370f_11ea_9a05_0242ac1c0002row64_col4 {\n",
              "            background-color:  lightblue;\n",
              "        }    #T_38427da8_370f_11ea_9a05_0242ac1c0002row64_col5 {\n",
              "            background-color:  lightblue;\n",
              "        }    #T_38427da8_370f_11ea_9a05_0242ac1c0002row65_col4 {\n",
              "            background-color:  lightblue;\n",
              "        }    #T_38427da8_370f_11ea_9a05_0242ac1c0002row65_col5 {\n",
              "            background-color:  lightblue;\n",
              "        }    #T_38427da8_370f_11ea_9a05_0242ac1c0002row66_col4 {\n",
              "            background-color:  lightblue;\n",
              "        }    #T_38427da8_370f_11ea_9a05_0242ac1c0002row66_col5 {\n",
              "            background-color:  lightblue;\n",
              "        }    #T_38427da8_370f_11ea_9a05_0242ac1c0002row67_col4 {\n",
              "            background-color:  lightblue;\n",
              "        }    #T_38427da8_370f_11ea_9a05_0242ac1c0002row67_col5 {\n",
              "            background-color:  lightblue;\n",
              "        }    #T_38427da8_370f_11ea_9a05_0242ac1c0002row68_col4 {\n",
              "            background-color:  lightblue;\n",
              "        }    #T_38427da8_370f_11ea_9a05_0242ac1c0002row68_col5 {\n",
              "            background-color:  lightblue;\n",
              "        }    #T_38427da8_370f_11ea_9a05_0242ac1c0002row69_col4 {\n",
              "            background-color:  lightblue;\n",
              "        }    #T_38427da8_370f_11ea_9a05_0242ac1c0002row69_col5 {\n",
              "            background-color:  lightblue;\n",
              "        }    #T_38427da8_370f_11ea_9a05_0242ac1c0002row70_col4 {\n",
              "            background-color:  lightblue;\n",
              "        }    #T_38427da8_370f_11ea_9a05_0242ac1c0002row70_col5 {\n",
              "            background-color:  lightblue;\n",
              "        }    #T_38427da8_370f_11ea_9a05_0242ac1c0002row71_col4 {\n",
              "            background-color:  lightblue;\n",
              "        }    #T_38427da8_370f_11ea_9a05_0242ac1c0002row71_col5 {\n",
              "            background-color:  lightblue;\n",
              "        }    #T_38427da8_370f_11ea_9a05_0242ac1c0002row72_col4 {\n",
              "            background-color:  lightblue;\n",
              "        }    #T_38427da8_370f_11ea_9a05_0242ac1c0002row72_col5 {\n",
              "            background-color:  lightblue;\n",
              "        }    #T_38427da8_370f_11ea_9a05_0242ac1c0002row73_col4 {\n",
              "            background-color:  lightblue;\n",
              "        }    #T_38427da8_370f_11ea_9a05_0242ac1c0002row73_col5 {\n",
              "            background-color:  lightblue;\n",
              "        }    #T_38427da8_370f_11ea_9a05_0242ac1c0002row74_col4 {\n",
              "            background-color:  lightblue;\n",
              "        }    #T_38427da8_370f_11ea_9a05_0242ac1c0002row74_col5 {\n",
              "            background-color:  lightblue;\n",
              "        }    #T_38427da8_370f_11ea_9a05_0242ac1c0002row75_col4 {\n",
              "            background-color:  lightblue;\n",
              "        }    #T_38427da8_370f_11ea_9a05_0242ac1c0002row75_col5 {\n",
              "            background-color:  lightblue;\n",
              "        }    #T_38427da8_370f_11ea_9a05_0242ac1c0002row76_col4 {\n",
              "            background-color:  lightblue;\n",
              "        }    #T_38427da8_370f_11ea_9a05_0242ac1c0002row76_col5 {\n",
              "            background-color:  lightblue;\n",
              "        }    #T_38427da8_370f_11ea_9a05_0242ac1c0002row77_col4 {\n",
              "            background-color:  lightblue;\n",
              "        }    #T_38427da8_370f_11ea_9a05_0242ac1c0002row77_col5 {\n",
              "            background-color:  lightblue;\n",
              "        }    #T_38427da8_370f_11ea_9a05_0242ac1c0002row78_col4 {\n",
              "            background-color:  lightblue;\n",
              "        }    #T_38427da8_370f_11ea_9a05_0242ac1c0002row78_col5 {\n",
              "            background-color:  lightblue;\n",
              "        }    #T_38427da8_370f_11ea_9a05_0242ac1c0002row79_col4 {\n",
              "            background-color:  lightblue;\n",
              "        }    #T_38427da8_370f_11ea_9a05_0242ac1c0002row79_col5 {\n",
              "            background-color:  lightblue;\n",
              "        }    #T_38427da8_370f_11ea_9a05_0242ac1c0002row80_col4 {\n",
              "            background-color:  lightblue;\n",
              "        }    #T_38427da8_370f_11ea_9a05_0242ac1c0002row80_col5 {\n",
              "            background-color:  lightblue;\n",
              "        }    #T_38427da8_370f_11ea_9a05_0242ac1c0002row81_col4 {\n",
              "            background-color:  lightblue;\n",
              "        }    #T_38427da8_370f_11ea_9a05_0242ac1c0002row81_col5 {\n",
              "            background-color:  lightblue;\n",
              "        }    #T_38427da8_370f_11ea_9a05_0242ac1c0002row82_col4 {\n",
              "            background-color:  lightblue;\n",
              "        }    #T_38427da8_370f_11ea_9a05_0242ac1c0002row82_col5 {\n",
              "            background-color:  lightblue;\n",
              "        }    #T_38427da8_370f_11ea_9a05_0242ac1c0002row83_col4 {\n",
              "            background-color:  lightblue;\n",
              "        }    #T_38427da8_370f_11ea_9a05_0242ac1c0002row83_col5 {\n",
              "            background-color:  lightblue;\n",
              "        }    #T_38427da8_370f_11ea_9a05_0242ac1c0002row84_col4 {\n",
              "            background-color:  lightblue;\n",
              "        }    #T_38427da8_370f_11ea_9a05_0242ac1c0002row84_col5 {\n",
              "            background-color:  lightblue;\n",
              "        }    #T_38427da8_370f_11ea_9a05_0242ac1c0002row85_col4 {\n",
              "            background-color:  lightblue;\n",
              "        }    #T_38427da8_370f_11ea_9a05_0242ac1c0002row85_col5 {\n",
              "            background-color:  lightblue;\n",
              "        }    #T_38427da8_370f_11ea_9a05_0242ac1c0002row86_col4 {\n",
              "            background-color:  lightblue;\n",
              "        }    #T_38427da8_370f_11ea_9a05_0242ac1c0002row86_col5 {\n",
              "            background-color:  lightblue;\n",
              "        }    #T_38427da8_370f_11ea_9a05_0242ac1c0002row87_col4 {\n",
              "            background-color:  lightblue;\n",
              "        }    #T_38427da8_370f_11ea_9a05_0242ac1c0002row87_col5 {\n",
              "            background-color:  lightblue;\n",
              "        }    #T_38427da8_370f_11ea_9a05_0242ac1c0002row88_col4 {\n",
              "            background-color:  lightblue;\n",
              "        }    #T_38427da8_370f_11ea_9a05_0242ac1c0002row88_col5 {\n",
              "            background-color:  lightblue;\n",
              "        }    #T_38427da8_370f_11ea_9a05_0242ac1c0002row89_col4 {\n",
              "            background-color:  ;\n",
              "        }    #T_38427da8_370f_11ea_9a05_0242ac1c0002row89_col5 {\n",
              "            background-color:  lightblue;\n",
              "        }    #T_38427da8_370f_11ea_9a05_0242ac1c0002row90_col4 {\n",
              "            background-color:  ;\n",
              "        }    #T_38427da8_370f_11ea_9a05_0242ac1c0002row90_col5 {\n",
              "            background-color:  lightblue;\n",
              "        }    #T_38427da8_370f_11ea_9a05_0242ac1c0002row91_col4 {\n",
              "            background-color:  ;\n",
              "        }    #T_38427da8_370f_11ea_9a05_0242ac1c0002row91_col5 {\n",
              "            background-color:  lightblue;\n",
              "        }    #T_38427da8_370f_11ea_9a05_0242ac1c0002row92_col4 {\n",
              "            background-color:  ;\n",
              "        }    #T_38427da8_370f_11ea_9a05_0242ac1c0002row92_col5 {\n",
              "            background-color:  lightblue;\n",
              "        }    #T_38427da8_370f_11ea_9a05_0242ac1c0002row93_col4 {\n",
              "            background-color:  ;\n",
              "        }    #T_38427da8_370f_11ea_9a05_0242ac1c0002row93_col5 {\n",
              "            background-color:  ;\n",
              "        }    #T_38427da8_370f_11ea_9a05_0242ac1c0002row94_col4 {\n",
              "            background-color:  ;\n",
              "        }    #T_38427da8_370f_11ea_9a05_0242ac1c0002row94_col5 {\n",
              "            background-color:  ;\n",
              "        }</style><table id=\"T_38427da8_370f_11ea_9a05_0242ac1c0002\" ><thead>    <tr>        <th class=\"blank level0\" ></th>        <th class=\"col_heading level0 col0\" >D_xt</th>        <th class=\"col_heading level0 col1\" >E_xt</th>        <th class=\"col_heading level0 col2\" >N_xt</th>        <th class=\"col_heading level0 col3\" >q_xt</th>        <th class=\"col_heading level0 col4\" >Cochran_1</th>        <th class=\"col_heading level0 col5\" >Cochran_2</th>    </tr>    <tr>        <th class=\"index_name level0\" >Age_x</th>        <th class=\"blank\" ></th>        <th class=\"blank\" ></th>        <th class=\"blank\" ></th>        <th class=\"blank\" ></th>        <th class=\"blank\" ></th>        <th class=\"blank\" ></th>    </tr></thead><tbody>\n",
              "                <tr>\n",
              "                        <th id=\"T_38427da8_370f_11ea_9a05_0242ac1c0002level0_row0\" class=\"row_heading level0 row0\" >0</th>\n",
              "                        <td id=\"T_38427da8_370f_11ea_9a05_0242ac1c0002row0_col0\" class=\"data row0 col0\" >0</td>\n",
              "                        <td id=\"T_38427da8_370f_11ea_9a05_0242ac1c0002row0_col1\" class=\"data row0 col1\" >0.785763</td>\n",
              "                        <td id=\"T_38427da8_370f_11ea_9a05_0242ac1c0002row0_col2\" class=\"data row0 col2\" >3</td>\n",
              "                        <td id=\"T_38427da8_370f_11ea_9a05_0242ac1c0002row0_col3\" class=\"data row0 col3\" >0</td>\n",
              "                        <td id=\"T_38427da8_370f_11ea_9a05_0242ac1c0002row0_col4\" class=\"data row0 col4\" >0</td>\n",
              "                        <td id=\"T_38427da8_370f_11ea_9a05_0242ac1c0002row0_col5\" class=\"data row0 col5\" >3</td>\n",
              "            </tr>\n",
              "            <tr>\n",
              "                        <th id=\"T_38427da8_370f_11ea_9a05_0242ac1c0002level0_row1\" class=\"row_heading level0 row1\" >1</th>\n",
              "                        <td id=\"T_38427da8_370f_11ea_9a05_0242ac1c0002row1_col0\" class=\"data row1 col0\" >0</td>\n",
              "                        <td id=\"T_38427da8_370f_11ea_9a05_0242ac1c0002row1_col1\" class=\"data row1 col1\" >1244.65</td>\n",
              "                        <td id=\"T_38427da8_370f_11ea_9a05_0242ac1c0002row1_col2\" class=\"data row1 col2\" >2542</td>\n",
              "                        <td id=\"T_38427da8_370f_11ea_9a05_0242ac1c0002row1_col3\" class=\"data row1 col3\" >0</td>\n",
              "                        <td id=\"T_38427da8_370f_11ea_9a05_0242ac1c0002row1_col4\" class=\"data row1 col4\" >0</td>\n",
              "                        <td id=\"T_38427da8_370f_11ea_9a05_0242ac1c0002row1_col5\" class=\"data row1 col5\" >2542</td>\n",
              "            </tr>\n",
              "            <tr>\n",
              "                        <th id=\"T_38427da8_370f_11ea_9a05_0242ac1c0002level0_row2\" class=\"row_heading level0 row2\" >2</th>\n",
              "                        <td id=\"T_38427da8_370f_11ea_9a05_0242ac1c0002row2_col0\" class=\"data row2 col0\" >0</td>\n",
              "                        <td id=\"T_38427da8_370f_11ea_9a05_0242ac1c0002row2_col1\" class=\"data row2 col1\" >2375.5</td>\n",
              "                        <td id=\"T_38427da8_370f_11ea_9a05_0242ac1c0002row2_col2\" class=\"data row2 col2\" >4776</td>\n",
              "                        <td id=\"T_38427da8_370f_11ea_9a05_0242ac1c0002row2_col3\" class=\"data row2 col3\" >0</td>\n",
              "                        <td id=\"T_38427da8_370f_11ea_9a05_0242ac1c0002row2_col4\" class=\"data row2 col4\" >0</td>\n",
              "                        <td id=\"T_38427da8_370f_11ea_9a05_0242ac1c0002row2_col5\" class=\"data row2 col5\" >4776</td>\n",
              "            </tr>\n",
              "            <tr>\n",
              "                        <th id=\"T_38427da8_370f_11ea_9a05_0242ac1c0002level0_row3\" class=\"row_heading level0 row3\" >3</th>\n",
              "                        <td id=\"T_38427da8_370f_11ea_9a05_0242ac1c0002row3_col0\" class=\"data row3 col0\" >1</td>\n",
              "                        <td id=\"T_38427da8_370f_11ea_9a05_0242ac1c0002row3_col1\" class=\"data row3 col1\" >2172.44</td>\n",
              "                        <td id=\"T_38427da8_370f_11ea_9a05_0242ac1c0002row3_col2\" class=\"data row3 col2\" >4493</td>\n",
              "                        <td id=\"T_38427da8_370f_11ea_9a05_0242ac1c0002row3_col3\" class=\"data row3 col3\" >0.000460312</td>\n",
              "                        <td id=\"T_38427da8_370f_11ea_9a05_0242ac1c0002row3_col4\" class=\"data row3 col4\" >2.06818</td>\n",
              "                        <td id=\"T_38427da8_370f_11ea_9a05_0242ac1c0002row3_col5\" class=\"data row3 col5\" >4490.93</td>\n",
              "            </tr>\n",
              "            <tr>\n",
              "                        <th id=\"T_38427da8_370f_11ea_9a05_0242ac1c0002level0_row4\" class=\"row_heading level0 row4\" >4</th>\n",
              "                        <td id=\"T_38427da8_370f_11ea_9a05_0242ac1c0002row4_col0\" class=\"data row4 col0\" >0</td>\n",
              "                        <td id=\"T_38427da8_370f_11ea_9a05_0242ac1c0002row4_col1\" class=\"data row4 col1\" >2155.24</td>\n",
              "                        <td id=\"T_38427da8_370f_11ea_9a05_0242ac1c0002row4_col2\" class=\"data row4 col2\" >4342</td>\n",
              "                        <td id=\"T_38427da8_370f_11ea_9a05_0242ac1c0002row4_col3\" class=\"data row4 col3\" >0</td>\n",
              "                        <td id=\"T_38427da8_370f_11ea_9a05_0242ac1c0002row4_col4\" class=\"data row4 col4\" >0</td>\n",
              "                        <td id=\"T_38427da8_370f_11ea_9a05_0242ac1c0002row4_col5\" class=\"data row4 col5\" >4342</td>\n",
              "            </tr>\n",
              "            <tr>\n",
              "                        <th id=\"T_38427da8_370f_11ea_9a05_0242ac1c0002level0_row5\" class=\"row_heading level0 row5\" >5</th>\n",
              "                        <td id=\"T_38427da8_370f_11ea_9a05_0242ac1c0002row5_col0\" class=\"data row5 col0\" >1</td>\n",
              "                        <td id=\"T_38427da8_370f_11ea_9a05_0242ac1c0002row5_col1\" class=\"data row5 col1\" >1972.77</td>\n",
              "                        <td id=\"T_38427da8_370f_11ea_9a05_0242ac1c0002row5_col2\" class=\"data row5 col2\" >4008</td>\n",
              "                        <td id=\"T_38427da8_370f_11ea_9a05_0242ac1c0002row5_col3\" class=\"data row5 col3\" >0.000506902</td>\n",
              "                        <td id=\"T_38427da8_370f_11ea_9a05_0242ac1c0002row5_col4\" class=\"data row5 col4\" >2.03166</td>\n",
              "                        <td id=\"T_38427da8_370f_11ea_9a05_0242ac1c0002row5_col5\" class=\"data row5 col5\" >4005.97</td>\n",
              "            </tr>\n",
              "            <tr>\n",
              "                        <th id=\"T_38427da8_370f_11ea_9a05_0242ac1c0002level0_row6\" class=\"row_heading level0 row6\" >6</th>\n",
              "                        <td id=\"T_38427da8_370f_11ea_9a05_0242ac1c0002row6_col0\" class=\"data row6 col0\" >1</td>\n",
              "                        <td id=\"T_38427da8_370f_11ea_9a05_0242ac1c0002row6_col1\" class=\"data row6 col1\" >1867.18</td>\n",
              "                        <td id=\"T_38427da8_370f_11ea_9a05_0242ac1c0002row6_col2\" class=\"data row6 col2\" >3827</td>\n",
              "                        <td id=\"T_38427da8_370f_11ea_9a05_0242ac1c0002row6_col3\" class=\"data row6 col3\" >0.000535567</td>\n",
              "                        <td id=\"T_38427da8_370f_11ea_9a05_0242ac1c0002row6_col4\" class=\"data row6 col4\" >2.04961</td>\n",
              "                        <td id=\"T_38427da8_370f_11ea_9a05_0242ac1c0002row6_col5\" class=\"data row6 col5\" >3824.95</td>\n",
              "            </tr>\n",
              "            <tr>\n",
              "                        <th id=\"T_38427da8_370f_11ea_9a05_0242ac1c0002level0_row7\" class=\"row_heading level0 row7\" >7</th>\n",
              "                        <td id=\"T_38427da8_370f_11ea_9a05_0242ac1c0002row7_col0\" class=\"data row7 col0\" >0</td>\n",
              "                        <td id=\"T_38427da8_370f_11ea_9a05_0242ac1c0002row7_col1\" class=\"data row7 col1\" >1796.28</td>\n",
              "                        <td id=\"T_38427da8_370f_11ea_9a05_0242ac1c0002row7_col2\" class=\"data row7 col2\" >3645</td>\n",
              "                        <td id=\"T_38427da8_370f_11ea_9a05_0242ac1c0002row7_col3\" class=\"data row7 col3\" >0</td>\n",
              "                        <td id=\"T_38427da8_370f_11ea_9a05_0242ac1c0002row7_col4\" class=\"data row7 col4\" >0</td>\n",
              "                        <td id=\"T_38427da8_370f_11ea_9a05_0242ac1c0002row7_col5\" class=\"data row7 col5\" >3645</td>\n",
              "            </tr>\n",
              "            <tr>\n",
              "                        <th id=\"T_38427da8_370f_11ea_9a05_0242ac1c0002level0_row8\" class=\"row_heading level0 row8\" >8</th>\n",
              "                        <td id=\"T_38427da8_370f_11ea_9a05_0242ac1c0002row8_col0\" class=\"data row8 col0\" >0</td>\n",
              "                        <td id=\"T_38427da8_370f_11ea_9a05_0242ac1c0002row8_col1\" class=\"data row8 col1\" >1749.13</td>\n",
              "                        <td id=\"T_38427da8_370f_11ea_9a05_0242ac1c0002row8_col2\" class=\"data row8 col2\" >3660</td>\n",
              "                        <td id=\"T_38427da8_370f_11ea_9a05_0242ac1c0002row8_col3\" class=\"data row8 col3\" >0</td>\n",
              "                        <td id=\"T_38427da8_370f_11ea_9a05_0242ac1c0002row8_col4\" class=\"data row8 col4\" >0</td>\n",
              "                        <td id=\"T_38427da8_370f_11ea_9a05_0242ac1c0002row8_col5\" class=\"data row8 col5\" >3660</td>\n",
              "            </tr>\n",
              "            <tr>\n",
              "                        <th id=\"T_38427da8_370f_11ea_9a05_0242ac1c0002level0_row9\" class=\"row_heading level0 row9\" >9</th>\n",
              "                        <td id=\"T_38427da8_370f_11ea_9a05_0242ac1c0002row9_col0\" class=\"data row9 col0\" >0</td>\n",
              "                        <td id=\"T_38427da8_370f_11ea_9a05_0242ac1c0002row9_col1\" class=\"data row9 col1\" >1646.16</td>\n",
              "                        <td id=\"T_38427da8_370f_11ea_9a05_0242ac1c0002row9_col2\" class=\"data row9 col2\" >3343</td>\n",
              "                        <td id=\"T_38427da8_370f_11ea_9a05_0242ac1c0002row9_col3\" class=\"data row9 col3\" >0</td>\n",
              "                        <td id=\"T_38427da8_370f_11ea_9a05_0242ac1c0002row9_col4\" class=\"data row9 col4\" >0</td>\n",
              "                        <td id=\"T_38427da8_370f_11ea_9a05_0242ac1c0002row9_col5\" class=\"data row9 col5\" >3343</td>\n",
              "            </tr>\n",
              "            <tr>\n",
              "                        <th id=\"T_38427da8_370f_11ea_9a05_0242ac1c0002level0_row10\" class=\"row_heading level0 row10\" >10</th>\n",
              "                        <td id=\"T_38427da8_370f_11ea_9a05_0242ac1c0002row10_col0\" class=\"data row10 col0\" >0</td>\n",
              "                        <td id=\"T_38427da8_370f_11ea_9a05_0242ac1c0002row10_col1\" class=\"data row10 col1\" >1405.69</td>\n",
              "                        <td id=\"T_38427da8_370f_11ea_9a05_0242ac1c0002row10_col2\" class=\"data row10 col2\" >2884</td>\n",
              "                        <td id=\"T_38427da8_370f_11ea_9a05_0242ac1c0002row10_col3\" class=\"data row10 col3\" >0</td>\n",
              "                        <td id=\"T_38427da8_370f_11ea_9a05_0242ac1c0002row10_col4\" class=\"data row10 col4\" >0</td>\n",
              "                        <td id=\"T_38427da8_370f_11ea_9a05_0242ac1c0002row10_col5\" class=\"data row10 col5\" >2884</td>\n",
              "            </tr>\n",
              "            <tr>\n",
              "                        <th id=\"T_38427da8_370f_11ea_9a05_0242ac1c0002level0_row11\" class=\"row_heading level0 row11\" >11</th>\n",
              "                        <td id=\"T_38427da8_370f_11ea_9a05_0242ac1c0002row11_col0\" class=\"data row11 col0\" >0</td>\n",
              "                        <td id=\"T_38427da8_370f_11ea_9a05_0242ac1c0002row11_col1\" class=\"data row11 col1\" >1391.16</td>\n",
              "                        <td id=\"T_38427da8_370f_11ea_9a05_0242ac1c0002row11_col2\" class=\"data row11 col2\" >2834</td>\n",
              "                        <td id=\"T_38427da8_370f_11ea_9a05_0242ac1c0002row11_col3\" class=\"data row11 col3\" >0</td>\n",
              "                        <td id=\"T_38427da8_370f_11ea_9a05_0242ac1c0002row11_col4\" class=\"data row11 col4\" >0</td>\n",
              "                        <td id=\"T_38427da8_370f_11ea_9a05_0242ac1c0002row11_col5\" class=\"data row11 col5\" >2834</td>\n",
              "            </tr>\n",
              "            <tr>\n",
              "                        <th id=\"T_38427da8_370f_11ea_9a05_0242ac1c0002level0_row12\" class=\"row_heading level0 row12\" >12</th>\n",
              "                        <td id=\"T_38427da8_370f_11ea_9a05_0242ac1c0002row12_col0\" class=\"data row12 col0\" >0</td>\n",
              "                        <td id=\"T_38427da8_370f_11ea_9a05_0242ac1c0002row12_col1\" class=\"data row12 col1\" >1324.52</td>\n",
              "                        <td id=\"T_38427da8_370f_11ea_9a05_0242ac1c0002row12_col2\" class=\"data row12 col2\" >2766</td>\n",
              "                        <td id=\"T_38427da8_370f_11ea_9a05_0242ac1c0002row12_col3\" class=\"data row12 col3\" >0</td>\n",
              "                        <td id=\"T_38427da8_370f_11ea_9a05_0242ac1c0002row12_col4\" class=\"data row12 col4\" >0</td>\n",
              "                        <td id=\"T_38427da8_370f_11ea_9a05_0242ac1c0002row12_col5\" class=\"data row12 col5\" >2766</td>\n",
              "            </tr>\n",
              "            <tr>\n",
              "                        <th id=\"T_38427da8_370f_11ea_9a05_0242ac1c0002level0_row13\" class=\"row_heading level0 row13\" >13</th>\n",
              "                        <td id=\"T_38427da8_370f_11ea_9a05_0242ac1c0002row13_col0\" class=\"data row13 col0\" >0</td>\n",
              "                        <td id=\"T_38427da8_370f_11ea_9a05_0242ac1c0002row13_col1\" class=\"data row13 col1\" >1370.99</td>\n",
              "                        <td id=\"T_38427da8_370f_11ea_9a05_0242ac1c0002row13_col2\" class=\"data row13 col2\" >2744</td>\n",
              "                        <td id=\"T_38427da8_370f_11ea_9a05_0242ac1c0002row13_col3\" class=\"data row13 col3\" >0</td>\n",
              "                        <td id=\"T_38427da8_370f_11ea_9a05_0242ac1c0002row13_col4\" class=\"data row13 col4\" >0</td>\n",
              "                        <td id=\"T_38427da8_370f_11ea_9a05_0242ac1c0002row13_col5\" class=\"data row13 col5\" >2744</td>\n",
              "            </tr>\n",
              "            <tr>\n",
              "                        <th id=\"T_38427da8_370f_11ea_9a05_0242ac1c0002level0_row14\" class=\"row_heading level0 row14\" >14</th>\n",
              "                        <td id=\"T_38427da8_370f_11ea_9a05_0242ac1c0002row14_col0\" class=\"data row14 col0\" >1</td>\n",
              "                        <td id=\"T_38427da8_370f_11ea_9a05_0242ac1c0002row14_col1\" class=\"data row14 col1\" >1857.11</td>\n",
              "                        <td id=\"T_38427da8_370f_11ea_9a05_0242ac1c0002row14_col2\" class=\"data row14 col2\" >3819</td>\n",
              "                        <td id=\"T_38427da8_370f_11ea_9a05_0242ac1c0002row14_col3\" class=\"data row14 col3\" >0.000538472</td>\n",
              "                        <td id=\"T_38427da8_370f_11ea_9a05_0242ac1c0002row14_col4\" class=\"data row14 col4\" >2.05643</td>\n",
              "                        <td id=\"T_38427da8_370f_11ea_9a05_0242ac1c0002row14_col5\" class=\"data row14 col5\" >3816.94</td>\n",
              "            </tr>\n",
              "            <tr>\n",
              "                        <th id=\"T_38427da8_370f_11ea_9a05_0242ac1c0002level0_row15\" class=\"row_heading level0 row15\" >15</th>\n",
              "                        <td id=\"T_38427da8_370f_11ea_9a05_0242ac1c0002row15_col0\" class=\"data row15 col0\" >1</td>\n",
              "                        <td id=\"T_38427da8_370f_11ea_9a05_0242ac1c0002row15_col1\" class=\"data row15 col1\" >2618.57</td>\n",
              "                        <td id=\"T_38427da8_370f_11ea_9a05_0242ac1c0002row15_col2\" class=\"data row15 col2\" >5336</td>\n",
              "                        <td id=\"T_38427da8_370f_11ea_9a05_0242ac1c0002row15_col3\" class=\"data row15 col3\" >0.000381888</td>\n",
              "                        <td id=\"T_38427da8_370f_11ea_9a05_0242ac1c0002row15_col4\" class=\"data row15 col4\" >2.03775</td>\n",
              "                        <td id=\"T_38427da8_370f_11ea_9a05_0242ac1c0002row15_col5\" class=\"data row15 col5\" >5333.96</td>\n",
              "            </tr>\n",
              "            <tr>\n",
              "                        <th id=\"T_38427da8_370f_11ea_9a05_0242ac1c0002level0_row16\" class=\"row_heading level0 row16\" >16</th>\n",
              "                        <td id=\"T_38427da8_370f_11ea_9a05_0242ac1c0002row16_col0\" class=\"data row16 col0\" >1</td>\n",
              "                        <td id=\"T_38427da8_370f_11ea_9a05_0242ac1c0002row16_col1\" class=\"data row16 col1\" >3098.7</td>\n",
              "                        <td id=\"T_38427da8_370f_11ea_9a05_0242ac1c0002row16_col2\" class=\"data row16 col2\" >6425</td>\n",
              "                        <td id=\"T_38427da8_370f_11ea_9a05_0242ac1c0002row16_col3\" class=\"data row16 col3\" >0.000322716</td>\n",
              "                        <td id=\"T_38427da8_370f_11ea_9a05_0242ac1c0002row16_col4\" class=\"data row16 col4\" >2.07345</td>\n",
              "                        <td id=\"T_38427da8_370f_11ea_9a05_0242ac1c0002row16_col5\" class=\"data row16 col5\" >6422.93</td>\n",
              "            </tr>\n",
              "            <tr>\n",
              "                        <th id=\"T_38427da8_370f_11ea_9a05_0242ac1c0002level0_row17\" class=\"row_heading level0 row17\" >17</th>\n",
              "                        <td id=\"T_38427da8_370f_11ea_9a05_0242ac1c0002row17_col0\" class=\"data row17 col0\" >2</td>\n",
              "                        <td id=\"T_38427da8_370f_11ea_9a05_0242ac1c0002row17_col1\" class=\"data row17 col1\" >3996.37</td>\n",
              "                        <td id=\"T_38427da8_370f_11ea_9a05_0242ac1c0002row17_col2\" class=\"data row17 col2\" >8108</td>\n",
              "                        <td id=\"T_38427da8_370f_11ea_9a05_0242ac1c0002row17_col3\" class=\"data row17 col3\" >0.000500454</td>\n",
              "                        <td id=\"T_38427da8_370f_11ea_9a05_0242ac1c0002row17_col4\" class=\"data row17 col4\" >4.05768</td>\n",
              "                        <td id=\"T_38427da8_370f_11ea_9a05_0242ac1c0002row17_col5\" class=\"data row17 col5\" >8103.94</td>\n",
              "            </tr>\n",
              "            <tr>\n",
              "                        <th id=\"T_38427da8_370f_11ea_9a05_0242ac1c0002level0_row18\" class=\"row_heading level0 row18\" >18</th>\n",
              "                        <td id=\"T_38427da8_370f_11ea_9a05_0242ac1c0002row18_col0\" class=\"data row18 col0\" >3</td>\n",
              "                        <td id=\"T_38427da8_370f_11ea_9a05_0242ac1c0002row18_col1\" class=\"data row18 col1\" >4979.56</td>\n",
              "                        <td id=\"T_38427da8_370f_11ea_9a05_0242ac1c0002row18_col2\" class=\"data row18 col2\" >10138</td>\n",
              "                        <td id=\"T_38427da8_370f_11ea_9a05_0242ac1c0002row18_col3\" class=\"data row18 col3\" >0.000602463</td>\n",
              "                        <td id=\"T_38427da8_370f_11ea_9a05_0242ac1c0002row18_col4\" class=\"data row18 col4\" >6.10777</td>\n",
              "                        <td id=\"T_38427da8_370f_11ea_9a05_0242ac1c0002row18_col5\" class=\"data row18 col5\" >10131.9</td>\n",
              "            </tr>\n",
              "            <tr>\n",
              "                        <th id=\"T_38427da8_370f_11ea_9a05_0242ac1c0002level0_row19\" class=\"row_heading level0 row19\" >19</th>\n",
              "                        <td id=\"T_38427da8_370f_11ea_9a05_0242ac1c0002row19_col0\" class=\"data row19 col0\" >3</td>\n",
              "                        <td id=\"T_38427da8_370f_11ea_9a05_0242ac1c0002row19_col1\" class=\"data row19 col1\" >5846.87</td>\n",
              "                        <td id=\"T_38427da8_370f_11ea_9a05_0242ac1c0002row19_col2\" class=\"data row19 col2\" >12026</td>\n",
              "                        <td id=\"T_38427da8_370f_11ea_9a05_0242ac1c0002row19_col3\" class=\"data row19 col3\" >0.000513095</td>\n",
              "                        <td id=\"T_38427da8_370f_11ea_9a05_0242ac1c0002row19_col4\" class=\"data row19 col4\" >6.17048</td>\n",
              "                        <td id=\"T_38427da8_370f_11ea_9a05_0242ac1c0002row19_col5\" class=\"data row19 col5\" >12019.8</td>\n",
              "            </tr>\n",
              "            <tr>\n",
              "                        <th id=\"T_38427da8_370f_11ea_9a05_0242ac1c0002level0_row20\" class=\"row_heading level0 row20\" >20</th>\n",
              "                        <td id=\"T_38427da8_370f_11ea_9a05_0242ac1c0002row20_col0\" class=\"data row20 col0\" >3</td>\n",
              "                        <td id=\"T_38427da8_370f_11ea_9a05_0242ac1c0002row20_col1\" class=\"data row20 col1\" >6848.54</td>\n",
              "                        <td id=\"T_38427da8_370f_11ea_9a05_0242ac1c0002row20_col2\" class=\"data row20 col2\" >14128</td>\n",
              "                        <td id=\"T_38427da8_370f_11ea_9a05_0242ac1c0002row20_col3\" class=\"data row20 col3\" >0.00043805</td>\n",
              "                        <td id=\"T_38427da8_370f_11ea_9a05_0242ac1c0002row20_col4\" class=\"data row20 col4\" >6.18877</td>\n",
              "                        <td id=\"T_38427da8_370f_11ea_9a05_0242ac1c0002row20_col5\" class=\"data row20 col5\" >14121.8</td>\n",
              "            </tr>\n",
              "            <tr>\n",
              "                        <th id=\"T_38427da8_370f_11ea_9a05_0242ac1c0002level0_row21\" class=\"row_heading level0 row21\" >21</th>\n",
              "                        <td id=\"T_38427da8_370f_11ea_9a05_0242ac1c0002row21_col0\" class=\"data row21 col0\" >5</td>\n",
              "                        <td id=\"T_38427da8_370f_11ea_9a05_0242ac1c0002row21_col1\" class=\"data row21 col1\" >8295.1</td>\n",
              "                        <td id=\"T_38427da8_370f_11ea_9a05_0242ac1c0002row21_col2\" class=\"data row21 col2\" >16861</td>\n",
              "                        <td id=\"T_38427da8_370f_11ea_9a05_0242ac1c0002row21_col3\" class=\"data row21 col3\" >0.000602766</td>\n",
              "                        <td id=\"T_38427da8_370f_11ea_9a05_0242ac1c0002row21_col4\" class=\"data row21 col4\" >10.1632</td>\n",
              "                        <td id=\"T_38427da8_370f_11ea_9a05_0242ac1c0002row21_col5\" class=\"data row21 col5\" >16850.8</td>\n",
              "            </tr>\n",
              "            <tr>\n",
              "                        <th id=\"T_38427da8_370f_11ea_9a05_0242ac1c0002level0_row22\" class=\"row_heading level0 row22\" >22</th>\n",
              "                        <td id=\"T_38427da8_370f_11ea_9a05_0242ac1c0002row22_col0\" class=\"data row22 col0\" >4</td>\n",
              "                        <td id=\"T_38427da8_370f_11ea_9a05_0242ac1c0002row22_col1\" class=\"data row22 col1\" >9257.1</td>\n",
              "                        <td id=\"T_38427da8_370f_11ea_9a05_0242ac1c0002row22_col2\" class=\"data row22 col2\" >18917</td>\n",
              "                        <td id=\"T_38427da8_370f_11ea_9a05_0242ac1c0002row22_col3\" class=\"data row22 col3\" >0.000432101</td>\n",
              "                        <td id=\"T_38427da8_370f_11ea_9a05_0242ac1c0002row22_col4\" class=\"data row22 col4\" >8.17405</td>\n",
              "                        <td id=\"T_38427da8_370f_11ea_9a05_0242ac1c0002row22_col5\" class=\"data row22 col5\" >18908.8</td>\n",
              "            </tr>\n",
              "            <tr>\n",
              "                        <th id=\"T_38427da8_370f_11ea_9a05_0242ac1c0002level0_row23\" class=\"row_heading level0 row23\" >23</th>\n",
              "                        <td id=\"T_38427da8_370f_11ea_9a05_0242ac1c0002row23_col0\" class=\"data row23 col0\" >7</td>\n",
              "                        <td id=\"T_38427da8_370f_11ea_9a05_0242ac1c0002row23_col1\" class=\"data row23 col1\" >9615.08</td>\n",
              "                        <td id=\"T_38427da8_370f_11ea_9a05_0242ac1c0002row23_col2\" class=\"data row23 col2\" >19849</td>\n",
              "                        <td id=\"T_38427da8_370f_11ea_9a05_0242ac1c0002row23_col3\" class=\"data row23 col3\" >0.000728023</td>\n",
              "                        <td id=\"T_38427da8_370f_11ea_9a05_0242ac1c0002row23_col4\" class=\"data row23 col4\" >14.4505</td>\n",
              "                        <td id=\"T_38427da8_370f_11ea_9a05_0242ac1c0002row23_col5\" class=\"data row23 col5\" >19834.5</td>\n",
              "            </tr>\n",
              "            <tr>\n",
              "                        <th id=\"T_38427da8_370f_11ea_9a05_0242ac1c0002level0_row24\" class=\"row_heading level0 row24\" >24</th>\n",
              "                        <td id=\"T_38427da8_370f_11ea_9a05_0242ac1c0002row24_col0\" class=\"data row24 col0\" >9</td>\n",
              "                        <td id=\"T_38427da8_370f_11ea_9a05_0242ac1c0002row24_col1\" class=\"data row24 col1\" >10162.2</td>\n",
              "                        <td id=\"T_38427da8_370f_11ea_9a05_0242ac1c0002row24_col2\" class=\"data row24 col2\" >20747</td>\n",
              "                        <td id=\"T_38427da8_370f_11ea_9a05_0242ac1c0002row24_col3\" class=\"data row24 col3\" >0.000885632</td>\n",
              "                        <td id=\"T_38427da8_370f_11ea_9a05_0242ac1c0002row24_col4\" class=\"data row24 col4\" >18.3742</td>\n",
              "                        <td id=\"T_38427da8_370f_11ea_9a05_0242ac1c0002row24_col5\" class=\"data row24 col5\" >20728.6</td>\n",
              "            </tr>\n",
              "            <tr>\n",
              "                        <th id=\"T_38427da8_370f_11ea_9a05_0242ac1c0002level0_row25\" class=\"row_heading level0 row25\" >25</th>\n",
              "                        <td id=\"T_38427da8_370f_11ea_9a05_0242ac1c0002row25_col0\" class=\"data row25 col0\" >8</td>\n",
              "                        <td id=\"T_38427da8_370f_11ea_9a05_0242ac1c0002row25_col1\" class=\"data row25 col1\" >10335.1</td>\n",
              "                        <td id=\"T_38427da8_370f_11ea_9a05_0242ac1c0002row25_col2\" class=\"data row25 col2\" >21164</td>\n",
              "                        <td id=\"T_38427da8_370f_11ea_9a05_0242ac1c0002row25_col3\" class=\"data row25 col3\" >0.000774062</td>\n",
              "                        <td id=\"T_38427da8_370f_11ea_9a05_0242ac1c0002row25_col4\" class=\"data row25 col4\" >16.3823</td>\n",
              "                        <td id=\"T_38427da8_370f_11ea_9a05_0242ac1c0002row25_col5\" class=\"data row25 col5\" >21147.6</td>\n",
              "            </tr>\n",
              "            <tr>\n",
              "                        <th id=\"T_38427da8_370f_11ea_9a05_0242ac1c0002level0_row26\" class=\"row_heading level0 row26\" >26</th>\n",
              "                        <td id=\"T_38427da8_370f_11ea_9a05_0242ac1c0002row26_col0\" class=\"data row26 col0\" >10</td>\n",
              "                        <td id=\"T_38427da8_370f_11ea_9a05_0242ac1c0002row26_col1\" class=\"data row26 col1\" >10464</td>\n",
              "                        <td id=\"T_38427da8_370f_11ea_9a05_0242ac1c0002row26_col2\" class=\"data row26 col2\" >21564</td>\n",
              "                        <td id=\"T_38427da8_370f_11ea_9a05_0242ac1c0002row26_col3\" class=\"data row26 col3\" >0.000955654</td>\n",
              "                        <td id=\"T_38427da8_370f_11ea_9a05_0242ac1c0002row26_col4\" class=\"data row26 col4\" >20.6077</td>\n",
              "                        <td id=\"T_38427da8_370f_11ea_9a05_0242ac1c0002row26_col5\" class=\"data row26 col5\" >21543.4</td>\n",
              "            </tr>\n",
              "            <tr>\n",
              "                        <th id=\"T_38427da8_370f_11ea_9a05_0242ac1c0002level0_row27\" class=\"row_heading level0 row27\" >27</th>\n",
              "                        <td id=\"T_38427da8_370f_11ea_9a05_0242ac1c0002row27_col0\" class=\"data row27 col0\" >10</td>\n",
              "                        <td id=\"T_38427da8_370f_11ea_9a05_0242ac1c0002row27_col1\" class=\"data row27 col1\" >11021.2</td>\n",
              "                        <td id=\"T_38427da8_370f_11ea_9a05_0242ac1c0002row27_col2\" class=\"data row27 col2\" >22421</td>\n",
              "                        <td id=\"T_38427da8_370f_11ea_9a05_0242ac1c0002row27_col3\" class=\"data row27 col3\" >0.000907346</td>\n",
              "                        <td id=\"T_38427da8_370f_11ea_9a05_0242ac1c0002row27_col4\" class=\"data row27 col4\" >20.3436</td>\n",
              "                        <td id=\"T_38427da8_370f_11ea_9a05_0242ac1c0002row27_col5\" class=\"data row27 col5\" >22400.7</td>\n",
              "            </tr>\n",
              "            <tr>\n",
              "                        <th id=\"T_38427da8_370f_11ea_9a05_0242ac1c0002level0_row28\" class=\"row_heading level0 row28\" >28</th>\n",
              "                        <td id=\"T_38427da8_370f_11ea_9a05_0242ac1c0002row28_col0\" class=\"data row28 col0\" >12</td>\n",
              "                        <td id=\"T_38427da8_370f_11ea_9a05_0242ac1c0002row28_col1\" class=\"data row28 col1\" >11545</td>\n",
              "                        <td id=\"T_38427da8_370f_11ea_9a05_0242ac1c0002row28_col2\" class=\"data row28 col2\" >23813</td>\n",
              "                        <td id=\"T_38427da8_370f_11ea_9a05_0242ac1c0002row28_col3\" class=\"data row28 col3\" >0.00103941</td>\n",
              "                        <td id=\"T_38427da8_370f_11ea_9a05_0242ac1c0002row28_col4\" class=\"data row28 col4\" >24.7514</td>\n",
              "                        <td id=\"T_38427da8_370f_11ea_9a05_0242ac1c0002row28_col5\" class=\"data row28 col5\" >23788.2</td>\n",
              "            </tr>\n",
              "            <tr>\n",
              "                        <th id=\"T_38427da8_370f_11ea_9a05_0242ac1c0002level0_row29\" class=\"row_heading level0 row29\" >29</th>\n",
              "                        <td id=\"T_38427da8_370f_11ea_9a05_0242ac1c0002row29_col0\" class=\"data row29 col0\" >12</td>\n",
              "                        <td id=\"T_38427da8_370f_11ea_9a05_0242ac1c0002row29_col1\" class=\"data row29 col1\" >11829.5</td>\n",
              "                        <td id=\"T_38427da8_370f_11ea_9a05_0242ac1c0002row29_col2\" class=\"data row29 col2\" >24014</td>\n",
              "                        <td id=\"T_38427da8_370f_11ea_9a05_0242ac1c0002row29_col3\" class=\"data row29 col3\" >0.00101441</td>\n",
              "                        <td id=\"T_38427da8_370f_11ea_9a05_0242ac1c0002row29_col4\" class=\"data row29 col4\" >24.3601</td>\n",
              "                        <td id=\"T_38427da8_370f_11ea_9a05_0242ac1c0002row29_col5\" class=\"data row29 col5\" >23989.6</td>\n",
              "            </tr>\n",
              "            <tr>\n",
              "                        <th id=\"T_38427da8_370f_11ea_9a05_0242ac1c0002level0_row30\" class=\"row_heading level0 row30\" >30</th>\n",
              "                        <td id=\"T_38427da8_370f_11ea_9a05_0242ac1c0002row30_col0\" class=\"data row30 col0\" >16</td>\n",
              "                        <td id=\"T_38427da8_370f_11ea_9a05_0242ac1c0002row30_col1\" class=\"data row30 col1\" >12077.4</td>\n",
              "                        <td id=\"T_38427da8_370f_11ea_9a05_0242ac1c0002row30_col2\" class=\"data row30 col2\" >24793</td>\n",
              "                        <td id=\"T_38427da8_370f_11ea_9a05_0242ac1c0002row30_col3\" class=\"data row30 col3\" >0.00132479</td>\n",
              "                        <td id=\"T_38427da8_370f_11ea_9a05_0242ac1c0002row30_col4\" class=\"data row30 col4\" >32.8454</td>\n",
              "                        <td id=\"T_38427da8_370f_11ea_9a05_0242ac1c0002row30_col5\" class=\"data row30 col5\" >24760.2</td>\n",
              "            </tr>\n",
              "            <tr>\n",
              "                        <th id=\"T_38427da8_370f_11ea_9a05_0242ac1c0002level0_row31\" class=\"row_heading level0 row31\" >31</th>\n",
              "                        <td id=\"T_38427da8_370f_11ea_9a05_0242ac1c0002row31_col0\" class=\"data row31 col0\" >17</td>\n",
              "                        <td id=\"T_38427da8_370f_11ea_9a05_0242ac1c0002row31_col1\" class=\"data row31 col1\" >12403.4</td>\n",
              "                        <td id=\"T_38427da8_370f_11ea_9a05_0242ac1c0002row31_col2\" class=\"data row31 col2\" >25423</td>\n",
              "                        <td id=\"T_38427da8_370f_11ea_9a05_0242ac1c0002row31_col3\" class=\"data row31 col3\" >0.00137059</td>\n",
              "                        <td id=\"T_38427da8_370f_11ea_9a05_0242ac1c0002row31_col4\" class=\"data row31 col4\" >34.8444</td>\n",
              "                        <td id=\"T_38427da8_370f_11ea_9a05_0242ac1c0002row31_col5\" class=\"data row31 col5\" >25388.2</td>\n",
              "            </tr>\n",
              "            <tr>\n",
              "                        <th id=\"T_38427da8_370f_11ea_9a05_0242ac1c0002level0_row32\" class=\"row_heading level0 row32\" >32</th>\n",
              "                        <td id=\"T_38427da8_370f_11ea_9a05_0242ac1c0002row32_col0\" class=\"data row32 col0\" >12</td>\n",
              "                        <td id=\"T_38427da8_370f_11ea_9a05_0242ac1c0002row32_col1\" class=\"data row32 col1\" >12343.2</td>\n",
              "                        <td id=\"T_38427da8_370f_11ea_9a05_0242ac1c0002row32_col2\" class=\"data row32 col2\" >25319</td>\n",
              "                        <td id=\"T_38427da8_370f_11ea_9a05_0242ac1c0002row32_col3\" class=\"data row32 col3\" >0.000972198</td>\n",
              "                        <td id=\"T_38427da8_370f_11ea_9a05_0242ac1c0002row32_col4\" class=\"data row32 col4\" >24.6151</td>\n",
              "                        <td id=\"T_38427da8_370f_11ea_9a05_0242ac1c0002row32_col5\" class=\"data row32 col5\" >25294.4</td>\n",
              "            </tr>\n",
              "            <tr>\n",
              "                        <th id=\"T_38427da8_370f_11ea_9a05_0242ac1c0002level0_row33\" class=\"row_heading level0 row33\" >33</th>\n",
              "                        <td id=\"T_38427da8_370f_11ea_9a05_0242ac1c0002row33_col0\" class=\"data row33 col0\" >13</td>\n",
              "                        <td id=\"T_38427da8_370f_11ea_9a05_0242ac1c0002row33_col1\" class=\"data row33 col1\" >12434.8</td>\n",
              "                        <td id=\"T_38427da8_370f_11ea_9a05_0242ac1c0002row33_col2\" class=\"data row33 col2\" >25478</td>\n",
              "                        <td id=\"T_38427da8_370f_11ea_9a05_0242ac1c0002row33_col3\" class=\"data row33 col3\" >0.00104545</td>\n",
              "                        <td id=\"T_38427da8_370f_11ea_9a05_0242ac1c0002row33_col4\" class=\"data row33 col4\" >26.636</td>\n",
              "                        <td id=\"T_38427da8_370f_11ea_9a05_0242ac1c0002row33_col5\" class=\"data row33 col5\" >25451.4</td>\n",
              "            </tr>\n",
              "            <tr>\n",
              "                        <th id=\"T_38427da8_370f_11ea_9a05_0242ac1c0002level0_row34\" class=\"row_heading level0 row34\" >34</th>\n",
              "                        <td id=\"T_38427da8_370f_11ea_9a05_0242ac1c0002row34_col0\" class=\"data row34 col0\" >17</td>\n",
              "                        <td id=\"T_38427da8_370f_11ea_9a05_0242ac1c0002row34_col1\" class=\"data row34 col1\" >12316.4</td>\n",
              "                        <td id=\"T_38427da8_370f_11ea_9a05_0242ac1c0002row34_col2\" class=\"data row34 col2\" >25225</td>\n",
              "                        <td id=\"T_38427da8_370f_11ea_9a05_0242ac1c0002row34_col3\" class=\"data row34 col3\" >0.00138027</td>\n",
              "                        <td id=\"T_38427da8_370f_11ea_9a05_0242ac1c0002row34_col4\" class=\"data row34 col4\" >34.8174</td>\n",
              "                        <td id=\"T_38427da8_370f_11ea_9a05_0242ac1c0002row34_col5\" class=\"data row34 col5\" >25190.2</td>\n",
              "            </tr>\n",
              "            <tr>\n",
              "                        <th id=\"T_38427da8_370f_11ea_9a05_0242ac1c0002level0_row35\" class=\"row_heading level0 row35\" >35</th>\n",
              "                        <td id=\"T_38427da8_370f_11ea_9a05_0242ac1c0002row35_col0\" class=\"data row35 col0\" >21</td>\n",
              "                        <td id=\"T_38427da8_370f_11ea_9a05_0242ac1c0002row35_col1\" class=\"data row35 col1\" >12612.6</td>\n",
              "                        <td id=\"T_38427da8_370f_11ea_9a05_0242ac1c0002row35_col2\" class=\"data row35 col2\" >25833</td>\n",
              "                        <td id=\"T_38427da8_370f_11ea_9a05_0242ac1c0002row35_col3\" class=\"data row35 col3\" >0.001665</td>\n",
              "                        <td id=\"T_38427da8_370f_11ea_9a05_0242ac1c0002row35_col4\" class=\"data row35 col4\" >43.012</td>\n",
              "                        <td id=\"T_38427da8_370f_11ea_9a05_0242ac1c0002row35_col5\" class=\"data row35 col5\" >25790</td>\n",
              "            </tr>\n",
              "            <tr>\n",
              "                        <th id=\"T_38427da8_370f_11ea_9a05_0242ac1c0002level0_row36\" class=\"row_heading level0 row36\" >36</th>\n",
              "                        <td id=\"T_38427da8_370f_11ea_9a05_0242ac1c0002row36_col0\" class=\"data row36 col0\" >16</td>\n",
              "                        <td id=\"T_38427da8_370f_11ea_9a05_0242ac1c0002row36_col1\" class=\"data row36 col1\" >12868.9</td>\n",
              "                        <td id=\"T_38427da8_370f_11ea_9a05_0242ac1c0002row36_col2\" class=\"data row36 col2\" >26599</td>\n",
              "                        <td id=\"T_38427da8_370f_11ea_9a05_0242ac1c0002row36_col3\" class=\"data row36 col3\" >0.00124331</td>\n",
              "                        <td id=\"T_38427da8_370f_11ea_9a05_0242ac1c0002row36_col4\" class=\"data row36 col4\" >33.0708</td>\n",
              "                        <td id=\"T_38427da8_370f_11ea_9a05_0242ac1c0002row36_col5\" class=\"data row36 col5\" >26565.9</td>\n",
              "            </tr>\n",
              "            <tr>\n",
              "                        <th id=\"T_38427da8_370f_11ea_9a05_0242ac1c0002level0_row37\" class=\"row_heading level0 row37\" >37</th>\n",
              "                        <td id=\"T_38427da8_370f_11ea_9a05_0242ac1c0002row37_col0\" class=\"data row37 col0\" >15</td>\n",
              "                        <td id=\"T_38427da8_370f_11ea_9a05_0242ac1c0002row37_col1\" class=\"data row37 col1\" >12747.2</td>\n",
              "                        <td id=\"T_38427da8_370f_11ea_9a05_0242ac1c0002row37_col2\" class=\"data row37 col2\" >25976</td>\n",
              "                        <td id=\"T_38427da8_370f_11ea_9a05_0242ac1c0002row37_col3\" class=\"data row37 col3\" >0.00117673</td>\n",
              "                        <td id=\"T_38427da8_370f_11ea_9a05_0242ac1c0002row37_col4\" class=\"data row37 col4\" >30.5668</td>\n",
              "                        <td id=\"T_38427da8_370f_11ea_9a05_0242ac1c0002row37_col5\" class=\"data row37 col5\" >25945.4</td>\n",
              "            </tr>\n",
              "            <tr>\n",
              "                        <th id=\"T_38427da8_370f_11ea_9a05_0242ac1c0002level0_row38\" class=\"row_heading level0 row38\" >38</th>\n",
              "                        <td id=\"T_38427da8_370f_11ea_9a05_0242ac1c0002row38_col0\" class=\"data row38 col0\" >19</td>\n",
              "                        <td id=\"T_38427da8_370f_11ea_9a05_0242ac1c0002row38_col1\" class=\"data row38 col1\" >12474.1</td>\n",
              "                        <td id=\"T_38427da8_370f_11ea_9a05_0242ac1c0002row38_col2\" class=\"data row38 col2\" >25594</td>\n",
              "                        <td id=\"T_38427da8_370f_11ea_9a05_0242ac1c0002row38_col3\" class=\"data row38 col3\" >0.00152316</td>\n",
              "                        <td id=\"T_38427da8_370f_11ea_9a05_0242ac1c0002row38_col4\" class=\"data row38 col4\" >38.9837</td>\n",
              "                        <td id=\"T_38427da8_370f_11ea_9a05_0242ac1c0002row38_col5\" class=\"data row38 col5\" >25555</td>\n",
              "            </tr>\n",
              "            <tr>\n",
              "                        <th id=\"T_38427da8_370f_11ea_9a05_0242ac1c0002level0_row39\" class=\"row_heading level0 row39\" >39</th>\n",
              "                        <td id=\"T_38427da8_370f_11ea_9a05_0242ac1c0002row39_col0\" class=\"data row39 col0\" >19</td>\n",
              "                        <td id=\"T_38427da8_370f_11ea_9a05_0242ac1c0002row39_col1\" class=\"data row39 col1\" >12475</td>\n",
              "                        <td id=\"T_38427da8_370f_11ea_9a05_0242ac1c0002row39_col2\" class=\"data row39 col2\" >25352</td>\n",
              "                        <td id=\"T_38427da8_370f_11ea_9a05_0242ac1c0002row39_col3\" class=\"data row39 col3\" >0.00152304</td>\n",
              "                        <td id=\"T_38427da8_370f_11ea_9a05_0242ac1c0002row39_col4\" class=\"data row39 col4\" >38.6121</td>\n",
              "                        <td id=\"T_38427da8_370f_11ea_9a05_0242ac1c0002row39_col5\" class=\"data row39 col5\" >25313.4</td>\n",
              "            </tr>\n",
              "            <tr>\n",
              "                        <th id=\"T_38427da8_370f_11ea_9a05_0242ac1c0002level0_row40\" class=\"row_heading level0 row40\" >40</th>\n",
              "                        <td id=\"T_38427da8_370f_11ea_9a05_0242ac1c0002row40_col0\" class=\"data row40 col0\" >28</td>\n",
              "                        <td id=\"T_38427da8_370f_11ea_9a05_0242ac1c0002row40_col1\" class=\"data row40 col1\" >12470.3</td>\n",
              "                        <td id=\"T_38427da8_370f_11ea_9a05_0242ac1c0002row40_col2\" class=\"data row40 col2\" >25582</td>\n",
              "                        <td id=\"T_38427da8_370f_11ea_9a05_0242ac1c0002row40_col3\" class=\"data row40 col3\" >0.00224533</td>\n",
              "                        <td id=\"T_38427da8_370f_11ea_9a05_0242ac1c0002row40_col4\" class=\"data row40 col4\" >57.4399</td>\n",
              "                        <td id=\"T_38427da8_370f_11ea_9a05_0242ac1c0002row40_col5\" class=\"data row40 col5\" >25524.6</td>\n",
              "            </tr>\n",
              "            <tr>\n",
              "                        <th id=\"T_38427da8_370f_11ea_9a05_0242ac1c0002level0_row41\" class=\"row_heading level0 row41\" >41</th>\n",
              "                        <td id=\"T_38427da8_370f_11ea_9a05_0242ac1c0002row41_col0\" class=\"data row41 col0\" >28</td>\n",
              "                        <td id=\"T_38427da8_370f_11ea_9a05_0242ac1c0002row41_col1\" class=\"data row41 col1\" >12021.6</td>\n",
              "                        <td id=\"T_38427da8_370f_11ea_9a05_0242ac1c0002row41_col2\" class=\"data row41 col2\" >24714</td>\n",
              "                        <td id=\"T_38427da8_370f_11ea_9a05_0242ac1c0002row41_col3\" class=\"data row41 col3\" >0.00232913</td>\n",
              "                        <td id=\"T_38427da8_370f_11ea_9a05_0242ac1c0002row41_col4\" class=\"data row41 col4\" >57.5622</td>\n",
              "                        <td id=\"T_38427da8_370f_11ea_9a05_0242ac1c0002row41_col5\" class=\"data row41 col5\" >24656.4</td>\n",
              "            </tr>\n",
              "            <tr>\n",
              "                        <th id=\"T_38427da8_370f_11ea_9a05_0242ac1c0002level0_row42\" class=\"row_heading level0 row42\" >42</th>\n",
              "                        <td id=\"T_38427da8_370f_11ea_9a05_0242ac1c0002row42_col0\" class=\"data row42 col0\" >35</td>\n",
              "                        <td id=\"T_38427da8_370f_11ea_9a05_0242ac1c0002row42_col1\" class=\"data row42 col1\" >11910.9</td>\n",
              "                        <td id=\"T_38427da8_370f_11ea_9a05_0242ac1c0002row42_col2\" class=\"data row42 col2\" >24379</td>\n",
              "                        <td id=\"T_38427da8_370f_11ea_9a05_0242ac1c0002row42_col3\" class=\"data row42 col3\" >0.00293849</td>\n",
              "                        <td id=\"T_38427da8_370f_11ea_9a05_0242ac1c0002row42_col4\" class=\"data row42 col4\" >71.6375</td>\n",
              "                        <td id=\"T_38427da8_370f_11ea_9a05_0242ac1c0002row42_col5\" class=\"data row42 col5\" >24307.4</td>\n",
              "            </tr>\n",
              "            <tr>\n",
              "                        <th id=\"T_38427da8_370f_11ea_9a05_0242ac1c0002level0_row43\" class=\"row_heading level0 row43\" >43</th>\n",
              "                        <td id=\"T_38427da8_370f_11ea_9a05_0242ac1c0002row43_col0\" class=\"data row43 col0\" >36</td>\n",
              "                        <td id=\"T_38427da8_370f_11ea_9a05_0242ac1c0002row43_col1\" class=\"data row43 col1\" >12111.9</td>\n",
              "                        <td id=\"T_38427da8_370f_11ea_9a05_0242ac1c0002row43_col2\" class=\"data row43 col2\" >24925</td>\n",
              "                        <td id=\"T_38427da8_370f_11ea_9a05_0242ac1c0002row43_col3\" class=\"data row43 col3\" >0.00297228</td>\n",
              "                        <td id=\"T_38427da8_370f_11ea_9a05_0242ac1c0002row43_col4\" class=\"data row43 col4\" >74.0841</td>\n",
              "                        <td id=\"T_38427da8_370f_11ea_9a05_0242ac1c0002row43_col5\" class=\"data row43 col5\" >24850.9</td>\n",
              "            </tr>\n",
              "            <tr>\n",
              "                        <th id=\"T_38427da8_370f_11ea_9a05_0242ac1c0002level0_row44\" class=\"row_heading level0 row44\" >44</th>\n",
              "                        <td id=\"T_38427da8_370f_11ea_9a05_0242ac1c0002row44_col0\" class=\"data row44 col0\" >33</td>\n",
              "                        <td id=\"T_38427da8_370f_11ea_9a05_0242ac1c0002row44_col1\" class=\"data row44 col1\" >11703.6</td>\n",
              "                        <td id=\"T_38427da8_370f_11ea_9a05_0242ac1c0002row44_col2\" class=\"data row44 col2\" >24059</td>\n",
              "                        <td id=\"T_38427da8_370f_11ea_9a05_0242ac1c0002row44_col3\" class=\"data row44 col3\" >0.00281965</td>\n",
              "                        <td id=\"T_38427da8_370f_11ea_9a05_0242ac1c0002row44_col4\" class=\"data row44 col4\" >67.8379</td>\n",
              "                        <td id=\"T_38427da8_370f_11ea_9a05_0242ac1c0002row44_col5\" class=\"data row44 col5\" >23991.2</td>\n",
              "            </tr>\n",
              "            <tr>\n",
              "                        <th id=\"T_38427da8_370f_11ea_9a05_0242ac1c0002level0_row45\" class=\"row_heading level0 row45\" >45</th>\n",
              "                        <td id=\"T_38427da8_370f_11ea_9a05_0242ac1c0002row45_col0\" class=\"data row45 col0\" >45</td>\n",
              "                        <td id=\"T_38427da8_370f_11ea_9a05_0242ac1c0002row45_col1\" class=\"data row45 col1\" >11381.9</td>\n",
              "                        <td id=\"T_38427da8_370f_11ea_9a05_0242ac1c0002row45_col2\" class=\"data row45 col2\" >23274</td>\n",
              "                        <td id=\"T_38427da8_370f_11ea_9a05_0242ac1c0002row45_col3\" class=\"data row45 col3\" >0.00395366</td>\n",
              "                        <td id=\"T_38427da8_370f_11ea_9a05_0242ac1c0002row45_col4\" class=\"data row45 col4\" >92.0174</td>\n",
              "                        <td id=\"T_38427da8_370f_11ea_9a05_0242ac1c0002row45_col5\" class=\"data row45 col5\" >23182</td>\n",
              "            </tr>\n",
              "            <tr>\n",
              "                        <th id=\"T_38427da8_370f_11ea_9a05_0242ac1c0002level0_row46\" class=\"row_heading level0 row46\" >46</th>\n",
              "                        <td id=\"T_38427da8_370f_11ea_9a05_0242ac1c0002row46_col0\" class=\"data row46 col0\" >45</td>\n",
              "                        <td id=\"T_38427da8_370f_11ea_9a05_0242ac1c0002row46_col1\" class=\"data row46 col1\" >11454.2</td>\n",
              "                        <td id=\"T_38427da8_370f_11ea_9a05_0242ac1c0002row46_col2\" class=\"data row46 col2\" >23360</td>\n",
              "                        <td id=\"T_38427da8_370f_11ea_9a05_0242ac1c0002row46_col3\" class=\"data row46 col3\" >0.0039287</td>\n",
              "                        <td id=\"T_38427da8_370f_11ea_9a05_0242ac1c0002row46_col4\" class=\"data row46 col4\" >91.7745</td>\n",
              "                        <td id=\"T_38427da8_370f_11ea_9a05_0242ac1c0002row46_col5\" class=\"data row46 col5\" >23268.2</td>\n",
              "            </tr>\n",
              "            <tr>\n",
              "                        <th id=\"T_38427da8_370f_11ea_9a05_0242ac1c0002level0_row47\" class=\"row_heading level0 row47\" >47</th>\n",
              "                        <td id=\"T_38427da8_370f_11ea_9a05_0242ac1c0002row47_col0\" class=\"data row47 col0\" >40</td>\n",
              "                        <td id=\"T_38427da8_370f_11ea_9a05_0242ac1c0002row47_col1\" class=\"data row47 col1\" >10972</td>\n",
              "                        <td id=\"T_38427da8_370f_11ea_9a05_0242ac1c0002row47_col2\" class=\"data row47 col2\" >22619</td>\n",
              "                        <td id=\"T_38427da8_370f_11ea_9a05_0242ac1c0002row47_col3\" class=\"data row47 col3\" >0.00364564</td>\n",
              "                        <td id=\"T_38427da8_370f_11ea_9a05_0242ac1c0002row47_col4\" class=\"data row47 col4\" >82.4606</td>\n",
              "                        <td id=\"T_38427da8_370f_11ea_9a05_0242ac1c0002row47_col5\" class=\"data row47 col5\" >22536.5</td>\n",
              "            </tr>\n",
              "            <tr>\n",
              "                        <th id=\"T_38427da8_370f_11ea_9a05_0242ac1c0002level0_row48\" class=\"row_heading level0 row48\" >48</th>\n",
              "                        <td id=\"T_38427da8_370f_11ea_9a05_0242ac1c0002row48_col0\" class=\"data row48 col0\" >48</td>\n",
              "                        <td id=\"T_38427da8_370f_11ea_9a05_0242ac1c0002row48_col1\" class=\"data row48 col1\" >10677.2</td>\n",
              "                        <td id=\"T_38427da8_370f_11ea_9a05_0242ac1c0002row48_col2\" class=\"data row48 col2\" >21953</td>\n",
              "                        <td id=\"T_38427da8_370f_11ea_9a05_0242ac1c0002row48_col3\" class=\"data row48 col3\" >0.00449556</td>\n",
              "                        <td id=\"T_38427da8_370f_11ea_9a05_0242ac1c0002row48_col4\" class=\"data row48 col4\" >98.6911</td>\n",
              "                        <td id=\"T_38427da8_370f_11ea_9a05_0242ac1c0002row48_col5\" class=\"data row48 col5\" >21854.3</td>\n",
              "            </tr>\n",
              "            <tr>\n",
              "                        <th id=\"T_38427da8_370f_11ea_9a05_0242ac1c0002level0_row49\" class=\"row_heading level0 row49\" >49</th>\n",
              "                        <td id=\"T_38427da8_370f_11ea_9a05_0242ac1c0002row49_col0\" class=\"data row49 col0\" >51</td>\n",
              "                        <td id=\"T_38427da8_370f_11ea_9a05_0242ac1c0002row49_col1\" class=\"data row49 col1\" >10091.5</td>\n",
              "                        <td id=\"T_38427da8_370f_11ea_9a05_0242ac1c0002row49_col2\" class=\"data row49 col2\" >20793</td>\n",
              "                        <td id=\"T_38427da8_370f_11ea_9a05_0242ac1c0002row49_col3\" class=\"data row49 col3\" >0.00505374</td>\n",
              "                        <td id=\"T_38427da8_370f_11ea_9a05_0242ac1c0002row49_col4\" class=\"data row49 col4\" >105.082</td>\n",
              "                        <td id=\"T_38427da8_370f_11ea_9a05_0242ac1c0002row49_col5\" class=\"data row49 col5\" >20687.9</td>\n",
              "            </tr>\n",
              "            <tr>\n",
              "                        <th id=\"T_38427da8_370f_11ea_9a05_0242ac1c0002level0_row50\" class=\"row_heading level0 row50\" >50</th>\n",
              "                        <td id=\"T_38427da8_370f_11ea_9a05_0242ac1c0002row50_col0\" class=\"data row50 col0\" >55</td>\n",
              "                        <td id=\"T_38427da8_370f_11ea_9a05_0242ac1c0002row50_col1\" class=\"data row50 col1\" >9922.84</td>\n",
              "                        <td id=\"T_38427da8_370f_11ea_9a05_0242ac1c0002row50_col2\" class=\"data row50 col2\" >20204</td>\n",
              "                        <td id=\"T_38427da8_370f_11ea_9a05_0242ac1c0002row50_col3\" class=\"data row50 col3\" >0.00554277</td>\n",
              "                        <td id=\"T_38427da8_370f_11ea_9a05_0242ac1c0002row50_col4\" class=\"data row50 col4\" >111.986</td>\n",
              "                        <td id=\"T_38427da8_370f_11ea_9a05_0242ac1c0002row50_col5\" class=\"data row50 col5\" >20092</td>\n",
              "            </tr>\n",
              "            <tr>\n",
              "                        <th id=\"T_38427da8_370f_11ea_9a05_0242ac1c0002level0_row51\" class=\"row_heading level0 row51\" >51</th>\n",
              "                        <td id=\"T_38427da8_370f_11ea_9a05_0242ac1c0002row51_col0\" class=\"data row51 col0\" >64</td>\n",
              "                        <td id=\"T_38427da8_370f_11ea_9a05_0242ac1c0002row51_col1\" class=\"data row51 col1\" >9772.05</td>\n",
              "                        <td id=\"T_38427da8_370f_11ea_9a05_0242ac1c0002row51_col2\" class=\"data row51 col2\" >20088</td>\n",
              "                        <td id=\"T_38427da8_370f_11ea_9a05_0242ac1c0002row51_col3\" class=\"data row51 col3\" >0.00654929</td>\n",
              "                        <td id=\"T_38427da8_370f_11ea_9a05_0242ac1c0002row51_col4\" class=\"data row51 col4\" >131.562</td>\n",
              "                        <td id=\"T_38427da8_370f_11ea_9a05_0242ac1c0002row51_col5\" class=\"data row51 col5\" >19956.4</td>\n",
              "            </tr>\n",
              "            <tr>\n",
              "                        <th id=\"T_38427da8_370f_11ea_9a05_0242ac1c0002level0_row52\" class=\"row_heading level0 row52\" >52</th>\n",
              "                        <td id=\"T_38427da8_370f_11ea_9a05_0242ac1c0002row52_col0\" class=\"data row52 col0\" >60</td>\n",
              "                        <td id=\"T_38427da8_370f_11ea_9a05_0242ac1c0002row52_col1\" class=\"data row52 col1\" >9425.56</td>\n",
              "                        <td id=\"T_38427da8_370f_11ea_9a05_0242ac1c0002row52_col2\" class=\"data row52 col2\" >19320</td>\n",
              "                        <td id=\"T_38427da8_370f_11ea_9a05_0242ac1c0002row52_col3\" class=\"data row52 col3\" >0.00636567</td>\n",
              "                        <td id=\"T_38427da8_370f_11ea_9a05_0242ac1c0002row52_col4\" class=\"data row52 col4\" >122.985</td>\n",
              "                        <td id=\"T_38427da8_370f_11ea_9a05_0242ac1c0002row52_col5\" class=\"data row52 col5\" >19197</td>\n",
              "            </tr>\n",
              "            <tr>\n",
              "                        <th id=\"T_38427da8_370f_11ea_9a05_0242ac1c0002level0_row53\" class=\"row_heading level0 row53\" >53</th>\n",
              "                        <td id=\"T_38427da8_370f_11ea_9a05_0242ac1c0002row53_col0\" class=\"data row53 col0\" >54</td>\n",
              "                        <td id=\"T_38427da8_370f_11ea_9a05_0242ac1c0002row53_col1\" class=\"data row53 col1\" >8799.79</td>\n",
              "                        <td id=\"T_38427da8_370f_11ea_9a05_0242ac1c0002row53_col2\" class=\"data row53 col2\" >18236</td>\n",
              "                        <td id=\"T_38427da8_370f_11ea_9a05_0242ac1c0002row53_col3\" class=\"data row53 col3\" >0.00613651</td>\n",
              "                        <td id=\"T_38427da8_370f_11ea_9a05_0242ac1c0002row53_col4\" class=\"data row53 col4\" >111.905</td>\n",
              "                        <td id=\"T_38427da8_370f_11ea_9a05_0242ac1c0002row53_col5\" class=\"data row53 col5\" >18124.1</td>\n",
              "            </tr>\n",
              "            <tr>\n",
              "                        <th id=\"T_38427da8_370f_11ea_9a05_0242ac1c0002level0_row54\" class=\"row_heading level0 row54\" >54</th>\n",
              "                        <td id=\"T_38427da8_370f_11ea_9a05_0242ac1c0002row54_col0\" class=\"data row54 col0\" >53</td>\n",
              "                        <td id=\"T_38427da8_370f_11ea_9a05_0242ac1c0002row54_col1\" class=\"data row54 col1\" >8274.89</td>\n",
              "                        <td id=\"T_38427da8_370f_11ea_9a05_0242ac1c0002row54_col2\" class=\"data row54 col2\" >16868</td>\n",
              "                        <td id=\"T_38427da8_370f_11ea_9a05_0242ac1c0002row54_col3\" class=\"data row54 col3\" >0.00640492</td>\n",
              "                        <td id=\"T_38427da8_370f_11ea_9a05_0242ac1c0002row54_col4\" class=\"data row54 col4\" >108.038</td>\n",
              "                        <td id=\"T_38427da8_370f_11ea_9a05_0242ac1c0002row54_col5\" class=\"data row54 col5\" >16760</td>\n",
              "            </tr>\n",
              "            <tr>\n",
              "                        <th id=\"T_38427da8_370f_11ea_9a05_0242ac1c0002level0_row55\" class=\"row_heading level0 row55\" >55</th>\n",
              "                        <td id=\"T_38427da8_370f_11ea_9a05_0242ac1c0002row55_col0\" class=\"data row55 col0\" >50</td>\n",
              "                        <td id=\"T_38427da8_370f_11ea_9a05_0242ac1c0002row55_col1\" class=\"data row55 col1\" >7995.45</td>\n",
              "                        <td id=\"T_38427da8_370f_11ea_9a05_0242ac1c0002row55_col2\" class=\"data row55 col2\" >16315</td>\n",
              "                        <td id=\"T_38427da8_370f_11ea_9a05_0242ac1c0002row55_col3\" class=\"data row55 col3\" >0.00625356</td>\n",
              "                        <td id=\"T_38427da8_370f_11ea_9a05_0242ac1c0002row55_col4\" class=\"data row55 col4\" >102.027</td>\n",
              "                        <td id=\"T_38427da8_370f_11ea_9a05_0242ac1c0002row55_col5\" class=\"data row55 col5\" >16213</td>\n",
              "            </tr>\n",
              "            <tr>\n",
              "                        <th id=\"T_38427da8_370f_11ea_9a05_0242ac1c0002level0_row56\" class=\"row_heading level0 row56\" >56</th>\n",
              "                        <td id=\"T_38427da8_370f_11ea_9a05_0242ac1c0002row56_col0\" class=\"data row56 col0\" >67</td>\n",
              "                        <td id=\"T_38427da8_370f_11ea_9a05_0242ac1c0002row56_col1\" class=\"data row56 col1\" >8955.75</td>\n",
              "                        <td id=\"T_38427da8_370f_11ea_9a05_0242ac1c0002row56_col2\" class=\"data row56 col2\" >18595</td>\n",
              "                        <td id=\"T_38427da8_370f_11ea_9a05_0242ac1c0002row56_col3\" class=\"data row56 col3\" >0.00748123</td>\n",
              "                        <td id=\"T_38427da8_370f_11ea_9a05_0242ac1c0002row56_col4\" class=\"data row56 col4\" >139.113</td>\n",
              "                        <td id=\"T_38427da8_370f_11ea_9a05_0242ac1c0002row56_col5\" class=\"data row56 col5\" >18455.9</td>\n",
              "            </tr>\n",
              "            <tr>\n",
              "                        <th id=\"T_38427da8_370f_11ea_9a05_0242ac1c0002level0_row57\" class=\"row_heading level0 row57\" >57</th>\n",
              "                        <td id=\"T_38427da8_370f_11ea_9a05_0242ac1c0002row57_col0\" class=\"data row57 col0\" >68</td>\n",
              "                        <td id=\"T_38427da8_370f_11ea_9a05_0242ac1c0002row57_col1\" class=\"data row57 col1\" >8388.38</td>\n",
              "                        <td id=\"T_38427da8_370f_11ea_9a05_0242ac1c0002row57_col2\" class=\"data row57 col2\" >17195</td>\n",
              "                        <td id=\"T_38427da8_370f_11ea_9a05_0242ac1c0002row57_col3\" class=\"data row57 col3\" >0.00810645</td>\n",
              "                        <td id=\"T_38427da8_370f_11ea_9a05_0242ac1c0002row57_col4\" class=\"data row57 col4\" >139.39</td>\n",
              "                        <td id=\"T_38427da8_370f_11ea_9a05_0242ac1c0002row57_col5\" class=\"data row57 col5\" >17055.6</td>\n",
              "            </tr>\n",
              "            <tr>\n",
              "                        <th id=\"T_38427da8_370f_11ea_9a05_0242ac1c0002level0_row58\" class=\"row_heading level0 row58\" >58</th>\n",
              "                        <td id=\"T_38427da8_370f_11ea_9a05_0242ac1c0002row58_col0\" class=\"data row58 col0\" >60</td>\n",
              "                        <td id=\"T_38427da8_370f_11ea_9a05_0242ac1c0002row58_col1\" class=\"data row58 col1\" >6487.26</td>\n",
              "                        <td id=\"T_38427da8_370f_11ea_9a05_0242ac1c0002row58_col2\" class=\"data row58 col2\" >13294</td>\n",
              "                        <td id=\"T_38427da8_370f_11ea_9a05_0242ac1c0002row58_col3\" class=\"data row58 col3\" >0.0092489</td>\n",
              "                        <td id=\"T_38427da8_370f_11ea_9a05_0242ac1c0002row58_col4\" class=\"data row58 col4\" >122.955</td>\n",
              "                        <td id=\"T_38427da8_370f_11ea_9a05_0242ac1c0002row58_col5\" class=\"data row58 col5\" >13171</td>\n",
              "            </tr>\n",
              "            <tr>\n",
              "                        <th id=\"T_38427da8_370f_11ea_9a05_0242ac1c0002level0_row59\" class=\"row_heading level0 row59\" >59</th>\n",
              "                        <td id=\"T_38427da8_370f_11ea_9a05_0242ac1c0002row59_col0\" class=\"data row59 col0\" >52</td>\n",
              "                        <td id=\"T_38427da8_370f_11ea_9a05_0242ac1c0002row59_col1\" class=\"data row59 col1\" >6041.14</td>\n",
              "                        <td id=\"T_38427da8_370f_11ea_9a05_0242ac1c0002row59_col2\" class=\"data row59 col2\" >12353</td>\n",
              "                        <td id=\"T_38427da8_370f_11ea_9a05_0242ac1c0002row59_col3\" class=\"data row59 col3\" >0.00860764</td>\n",
              "                        <td id=\"T_38427da8_370f_11ea_9a05_0242ac1c0002row59_col4\" class=\"data row59 col4\" >106.33</td>\n",
              "                        <td id=\"T_38427da8_370f_11ea_9a05_0242ac1c0002row59_col5\" class=\"data row59 col5\" >12246.7</td>\n",
              "            </tr>\n",
              "            <tr>\n",
              "                        <th id=\"T_38427da8_370f_11ea_9a05_0242ac1c0002level0_row60\" class=\"row_heading level0 row60\" >60</th>\n",
              "                        <td id=\"T_38427da8_370f_11ea_9a05_0242ac1c0002row60_col0\" class=\"data row60 col0\" >56</td>\n",
              "                        <td id=\"T_38427da8_370f_11ea_9a05_0242ac1c0002row60_col1\" class=\"data row60 col1\" >5840.74</td>\n",
              "                        <td id=\"T_38427da8_370f_11ea_9a05_0242ac1c0002row60_col2\" class=\"data row60 col2\" >12065</td>\n",
              "                        <td id=\"T_38427da8_370f_11ea_9a05_0242ac1c0002row60_col3\" class=\"data row60 col3\" >0.00958783</td>\n",
              "                        <td id=\"T_38427da8_370f_11ea_9a05_0242ac1c0002row60_col4\" class=\"data row60 col4\" >115.677</td>\n",
              "                        <td id=\"T_38427da8_370f_11ea_9a05_0242ac1c0002row60_col5\" class=\"data row60 col5\" >11949.3</td>\n",
              "            </tr>\n",
              "            <tr>\n",
              "                        <th id=\"T_38427da8_370f_11ea_9a05_0242ac1c0002level0_row61\" class=\"row_heading level0 row61\" >61</th>\n",
              "                        <td id=\"T_38427da8_370f_11ea_9a05_0242ac1c0002row61_col0\" class=\"data row61 col0\" >60</td>\n",
              "                        <td id=\"T_38427da8_370f_11ea_9a05_0242ac1c0002row61_col1\" class=\"data row61 col1\" >6038.59</td>\n",
              "                        <td id=\"T_38427da8_370f_11ea_9a05_0242ac1c0002row61_col2\" class=\"data row61 col2\" >12320</td>\n",
              "                        <td id=\"T_38427da8_370f_11ea_9a05_0242ac1c0002row61_col3\" class=\"data row61 col3\" >0.0099361</td>\n",
              "                        <td id=\"T_38427da8_370f_11ea_9a05_0242ac1c0002row61_col4\" class=\"data row61 col4\" >122.413</td>\n",
              "                        <td id=\"T_38427da8_370f_11ea_9a05_0242ac1c0002row61_col5\" class=\"data row61 col5\" >12197.6</td>\n",
              "            </tr>\n",
              "            <tr>\n",
              "                        <th id=\"T_38427da8_370f_11ea_9a05_0242ac1c0002level0_row62\" class=\"row_heading level0 row62\" >62</th>\n",
              "                        <td id=\"T_38427da8_370f_11ea_9a05_0242ac1c0002row62_col0\" class=\"data row62 col0\" >56</td>\n",
              "                        <td id=\"T_38427da8_370f_11ea_9a05_0242ac1c0002row62_col1\" class=\"data row62 col1\" >5494.12</td>\n",
              "                        <td id=\"T_38427da8_370f_11ea_9a05_0242ac1c0002row62_col2\" class=\"data row62 col2\" >11397</td>\n",
              "                        <td id=\"T_38427da8_370f_11ea_9a05_0242ac1c0002row62_col3\" class=\"data row62 col3\" >0.0101927</td>\n",
              "                        <td id=\"T_38427da8_370f_11ea_9a05_0242ac1c0002row62_col4\" class=\"data row62 col4\" >116.166</td>\n",
              "                        <td id=\"T_38427da8_370f_11ea_9a05_0242ac1c0002row62_col5\" class=\"data row62 col5\" >11280.8</td>\n",
              "            </tr>\n",
              "            <tr>\n",
              "                        <th id=\"T_38427da8_370f_11ea_9a05_0242ac1c0002level0_row63\" class=\"row_heading level0 row63\" >63</th>\n",
              "                        <td id=\"T_38427da8_370f_11ea_9a05_0242ac1c0002row63_col0\" class=\"data row63 col0\" >59</td>\n",
              "                        <td id=\"T_38427da8_370f_11ea_9a05_0242ac1c0002row63_col1\" class=\"data row63 col1\" >4498.71</td>\n",
              "                        <td id=\"T_38427da8_370f_11ea_9a05_0242ac1c0002row63_col2\" class=\"data row63 col2\" >9253</td>\n",
              "                        <td id=\"T_38427da8_370f_11ea_9a05_0242ac1c0002row63_col3\" class=\"data row63 col3\" >0.0131149</td>\n",
              "                        <td id=\"T_38427da8_370f_11ea_9a05_0242ac1c0002row63_col4\" class=\"data row63 col4\" >121.352</td>\n",
              "                        <td id=\"T_38427da8_370f_11ea_9a05_0242ac1c0002row63_col5\" class=\"data row63 col5\" >9131.65</td>\n",
              "            </tr>\n",
              "            <tr>\n",
              "                        <th id=\"T_38427da8_370f_11ea_9a05_0242ac1c0002level0_row64\" class=\"row_heading level0 row64\" >64</th>\n",
              "                        <td id=\"T_38427da8_370f_11ea_9a05_0242ac1c0002row64_col0\" class=\"data row64 col0\" >64</td>\n",
              "                        <td id=\"T_38427da8_370f_11ea_9a05_0242ac1c0002row64_col1\" class=\"data row64 col1\" >4162.9</td>\n",
              "                        <td id=\"T_38427da8_370f_11ea_9a05_0242ac1c0002row64_col2\" class=\"data row64 col2\" >8607</td>\n",
              "                        <td id=\"T_38427da8_370f_11ea_9a05_0242ac1c0002row64_col3\" class=\"data row64 col3\" >0.0153739</td>\n",
              "                        <td id=\"T_38427da8_370f_11ea_9a05_0242ac1c0002row64_col4\" class=\"data row64 col4\" >132.323</td>\n",
              "                        <td id=\"T_38427da8_370f_11ea_9a05_0242ac1c0002row64_col5\" class=\"data row64 col5\" >8474.68</td>\n",
              "            </tr>\n",
              "            <tr>\n",
              "                        <th id=\"T_38427da8_370f_11ea_9a05_0242ac1c0002level0_row65\" class=\"row_heading level0 row65\" >65</th>\n",
              "                        <td id=\"T_38427da8_370f_11ea_9a05_0242ac1c0002row65_col0\" class=\"data row65 col0\" >61</td>\n",
              "                        <td id=\"T_38427da8_370f_11ea_9a05_0242ac1c0002row65_col1\" class=\"data row65 col1\" >4255.87</td>\n",
              "                        <td id=\"T_38427da8_370f_11ea_9a05_0242ac1c0002row65_col2\" class=\"data row65 col2\" >8744</td>\n",
              "                        <td id=\"T_38427da8_370f_11ea_9a05_0242ac1c0002row65_col3\" class=\"data row65 col3\" >0.0143331</td>\n",
              "                        <td id=\"T_38427da8_370f_11ea_9a05_0242ac1c0002row65_col4\" class=\"data row65 col4\" >125.329</td>\n",
              "                        <td id=\"T_38427da8_370f_11ea_9a05_0242ac1c0002row65_col5\" class=\"data row65 col5\" >8618.67</td>\n",
              "            </tr>\n",
              "            <tr>\n",
              "                        <th id=\"T_38427da8_370f_11ea_9a05_0242ac1c0002level0_row66\" class=\"row_heading level0 row66\" >66</th>\n",
              "                        <td id=\"T_38427da8_370f_11ea_9a05_0242ac1c0002row66_col0\" class=\"data row66 col0\" >60</td>\n",
              "                        <td id=\"T_38427da8_370f_11ea_9a05_0242ac1c0002row66_col1\" class=\"data row66 col1\" >3488.79</td>\n",
              "                        <td id=\"T_38427da8_370f_11ea_9a05_0242ac1c0002row66_col2\" class=\"data row66 col2\" >7129</td>\n",
              "                        <td id=\"T_38427da8_370f_11ea_9a05_0242ac1c0002row66_col3\" class=\"data row66 col3\" >0.0171979</td>\n",
              "                        <td id=\"T_38427da8_370f_11ea_9a05_0242ac1c0002row66_col4\" class=\"data row66 col4\" >122.604</td>\n",
              "                        <td id=\"T_38427da8_370f_11ea_9a05_0242ac1c0002row66_col5\" class=\"data row66 col5\" >7006.4</td>\n",
              "            </tr>\n",
              "            <tr>\n",
              "                        <th id=\"T_38427da8_370f_11ea_9a05_0242ac1c0002level0_row67\" class=\"row_heading level0 row67\" >67</th>\n",
              "                        <td id=\"T_38427da8_370f_11ea_9a05_0242ac1c0002row67_col0\" class=\"data row67 col0\" >51</td>\n",
              "                        <td id=\"T_38427da8_370f_11ea_9a05_0242ac1c0002row67_col1\" class=\"data row67 col1\" >2634.09</td>\n",
              "                        <td id=\"T_38427da8_370f_11ea_9a05_0242ac1c0002row67_col2\" class=\"data row67 col2\" >5488</td>\n",
              "                        <td id=\"T_38427da8_370f_11ea_9a05_0242ac1c0002row67_col3\" class=\"data row67 col3\" >0.0193615</td>\n",
              "                        <td id=\"T_38427da8_370f_11ea_9a05_0242ac1c0002row67_col4\" class=\"data row67 col4\" >106.256</td>\n",
              "                        <td id=\"T_38427da8_370f_11ea_9a05_0242ac1c0002row67_col5\" class=\"data row67 col5\" >5381.74</td>\n",
              "            </tr>\n",
              "            <tr>\n",
              "                        <th id=\"T_38427da8_370f_11ea_9a05_0242ac1c0002level0_row68\" class=\"row_heading level0 row68\" >68</th>\n",
              "                        <td id=\"T_38427da8_370f_11ea_9a05_0242ac1c0002row68_col0\" class=\"data row68 col0\" >55</td>\n",
              "                        <td id=\"T_38427da8_370f_11ea_9a05_0242ac1c0002row68_col1\" class=\"data row68 col1\" >2655.59</td>\n",
              "                        <td id=\"T_38427da8_370f_11ea_9a05_0242ac1c0002row68_col2\" class=\"data row68 col2\" >5562</td>\n",
              "                        <td id=\"T_38427da8_370f_11ea_9a05_0242ac1c0002row68_col3\" class=\"data row68 col3\" >0.020711</td>\n",
              "                        <td id=\"T_38427da8_370f_11ea_9a05_0242ac1c0002row68_col4\" class=\"data row68 col4\" >115.195</td>\n",
              "                        <td id=\"T_38427da8_370f_11ea_9a05_0242ac1c0002row68_col5\" class=\"data row68 col5\" >5446.81</td>\n",
              "            </tr>\n",
              "            <tr>\n",
              "                        <th id=\"T_38427da8_370f_11ea_9a05_0242ac1c0002level0_row69\" class=\"row_heading level0 row69\" >69</th>\n",
              "                        <td id=\"T_38427da8_370f_11ea_9a05_0242ac1c0002row69_col0\" class=\"data row69 col0\" >55</td>\n",
              "                        <td id=\"T_38427da8_370f_11ea_9a05_0242ac1c0002row69_col1\" class=\"data row69 col1\" >2441.57</td>\n",
              "                        <td id=\"T_38427da8_370f_11ea_9a05_0242ac1c0002row69_col2\" class=\"data row69 col2\" >5024</td>\n",
              "                        <td id=\"T_38427da8_370f_11ea_9a05_0242ac1c0002row69_col3\" class=\"data row69 col3\" >0.0225265</td>\n",
              "                        <td id=\"T_38427da8_370f_11ea_9a05_0242ac1c0002row69_col4\" class=\"data row69 col4\" >113.173</td>\n",
              "                        <td id=\"T_38427da8_370f_11ea_9a05_0242ac1c0002row69_col5\" class=\"data row69 col5\" >4910.83</td>\n",
              "            </tr>\n",
              "            <tr>\n",
              "                        <th id=\"T_38427da8_370f_11ea_9a05_0242ac1c0002level0_row70\" class=\"row_heading level0 row70\" >70</th>\n",
              "                        <td id=\"T_38427da8_370f_11ea_9a05_0242ac1c0002row70_col0\" class=\"data row70 col0\" >56</td>\n",
              "                        <td id=\"T_38427da8_370f_11ea_9a05_0242ac1c0002row70_col1\" class=\"data row70 col1\" >2283.4</td>\n",
              "                        <td id=\"T_38427da8_370f_11ea_9a05_0242ac1c0002row70_col2\" class=\"data row70 col2\" >4726</td>\n",
              "                        <td id=\"T_38427da8_370f_11ea_9a05_0242ac1c0002row70_col3\" class=\"data row70 col3\" >0.0245249</td>\n",
              "                        <td id=\"T_38427da8_370f_11ea_9a05_0242ac1c0002row70_col4\" class=\"data row70 col4\" >115.904</td>\n",
              "                        <td id=\"T_38427da8_370f_11ea_9a05_0242ac1c0002row70_col5\" class=\"data row70 col5\" >4610.1</td>\n",
              "            </tr>\n",
              "            <tr>\n",
              "                        <th id=\"T_38427da8_370f_11ea_9a05_0242ac1c0002level0_row71\" class=\"row_heading level0 row71\" >71</th>\n",
              "                        <td id=\"T_38427da8_370f_11ea_9a05_0242ac1c0002row71_col0\" class=\"data row71 col0\" >50</td>\n",
              "                        <td id=\"T_38427da8_370f_11ea_9a05_0242ac1c0002row71_col1\" class=\"data row71 col1\" >2114.61</td>\n",
              "                        <td id=\"T_38427da8_370f_11ea_9a05_0242ac1c0002row71_col2\" class=\"data row71 col2\" >4374</td>\n",
              "                        <td id=\"T_38427da8_370f_11ea_9a05_0242ac1c0002row71_col3\" class=\"data row71 col3\" >0.0236451</td>\n",
              "                        <td id=\"T_38427da8_370f_11ea_9a05_0242ac1c0002row71_col4\" class=\"data row71 col4\" >103.424</td>\n",
              "                        <td id=\"T_38427da8_370f_11ea_9a05_0242ac1c0002row71_col5\" class=\"data row71 col5\" >4270.58</td>\n",
              "            </tr>\n",
              "            <tr>\n",
              "                        <th id=\"T_38427da8_370f_11ea_9a05_0242ac1c0002level0_row72\" class=\"row_heading level0 row72\" >72</th>\n",
              "                        <td id=\"T_38427da8_370f_11ea_9a05_0242ac1c0002row72_col0\" class=\"data row72 col0\" >39</td>\n",
              "                        <td id=\"T_38427da8_370f_11ea_9a05_0242ac1c0002row72_col1\" class=\"data row72 col1\" >1753</td>\n",
              "                        <td id=\"T_38427da8_370f_11ea_9a05_0242ac1c0002row72_col2\" class=\"data row72 col2\" >3635</td>\n",
              "                        <td id=\"T_38427da8_370f_11ea_9a05_0242ac1c0002row72_col3\" class=\"data row72 col3\" >0.0222476</td>\n",
              "                        <td id=\"T_38427da8_370f_11ea_9a05_0242ac1c0002row72_col4\" class=\"data row72 col4\" >80.87</td>\n",
              "                        <td id=\"T_38427da8_370f_11ea_9a05_0242ac1c0002row72_col5\" class=\"data row72 col5\" >3554.13</td>\n",
              "            </tr>\n",
              "            <tr>\n",
              "                        <th id=\"T_38427da8_370f_11ea_9a05_0242ac1c0002level0_row73\" class=\"row_heading level0 row73\" >73</th>\n",
              "                        <td id=\"T_38427da8_370f_11ea_9a05_0242ac1c0002row73_col0\" class=\"data row73 col0\" >32</td>\n",
              "                        <td id=\"T_38427da8_370f_11ea_9a05_0242ac1c0002row73_col1\" class=\"data row73 col1\" >1515.8</td>\n",
              "                        <td id=\"T_38427da8_370f_11ea_9a05_0242ac1c0002row73_col2\" class=\"data row73 col2\" >3093</td>\n",
              "                        <td id=\"T_38427da8_370f_11ea_9a05_0242ac1c0002row73_col3\" class=\"data row73 col3\" >0.021111</td>\n",
              "                        <td id=\"T_38427da8_370f_11ea_9a05_0242ac1c0002row73_col4\" class=\"data row73 col4\" >65.2963</td>\n",
              "                        <td id=\"T_38427da8_370f_11ea_9a05_0242ac1c0002row73_col5\" class=\"data row73 col5\" >3027.7</td>\n",
              "            </tr>\n",
              "            <tr>\n",
              "                        <th id=\"T_38427da8_370f_11ea_9a05_0242ac1c0002level0_row74\" class=\"row_heading level0 row74\" >74</th>\n",
              "                        <td id=\"T_38427da8_370f_11ea_9a05_0242ac1c0002row74_col0\" class=\"data row74 col0\" >37</td>\n",
              "                        <td id=\"T_38427da8_370f_11ea_9a05_0242ac1c0002row74_col1\" class=\"data row74 col1\" >1318.81</td>\n",
              "                        <td id=\"T_38427da8_370f_11ea_9a05_0242ac1c0002row74_col2\" class=\"data row74 col2\" >2716</td>\n",
              "                        <td id=\"T_38427da8_370f_11ea_9a05_0242ac1c0002row74_col3\" class=\"data row74 col3\" >0.0280557</td>\n",
              "                        <td id=\"T_38427da8_370f_11ea_9a05_0242ac1c0002row74_col4\" class=\"data row74 col4\" >76.1992</td>\n",
              "                        <td id=\"T_38427da8_370f_11ea_9a05_0242ac1c0002row74_col5\" class=\"data row74 col5\" >2639.8</td>\n",
              "            </tr>\n",
              "            <tr>\n",
              "                        <th id=\"T_38427da8_370f_11ea_9a05_0242ac1c0002level0_row75\" class=\"row_heading level0 row75\" >75</th>\n",
              "                        <td id=\"T_38427da8_370f_11ea_9a05_0242ac1c0002row75_col0\" class=\"data row75 col0\" >40</td>\n",
              "                        <td id=\"T_38427da8_370f_11ea_9a05_0242ac1c0002row75_col1\" class=\"data row75 col1\" >1141.95</td>\n",
              "                        <td id=\"T_38427da8_370f_11ea_9a05_0242ac1c0002row75_col2\" class=\"data row75 col2\" >2420</td>\n",
              "                        <td id=\"T_38427da8_370f_11ea_9a05_0242ac1c0002row75_col3\" class=\"data row75 col3\" >0.0350278</td>\n",
              "                        <td id=\"T_38427da8_370f_11ea_9a05_0242ac1c0002row75_col4\" class=\"data row75 col4\" >84.7673</td>\n",
              "                        <td id=\"T_38427da8_370f_11ea_9a05_0242ac1c0002row75_col5\" class=\"data row75 col5\" >2335.23</td>\n",
              "            </tr>\n",
              "            <tr>\n",
              "                        <th id=\"T_38427da8_370f_11ea_9a05_0242ac1c0002level0_row76\" class=\"row_heading level0 row76\" >76</th>\n",
              "                        <td id=\"T_38427da8_370f_11ea_9a05_0242ac1c0002row76_col0\" class=\"data row76 col0\" >34</td>\n",
              "                        <td id=\"T_38427da8_370f_11ea_9a05_0242ac1c0002row76_col1\" class=\"data row76 col1\" >1014.71</td>\n",
              "                        <td id=\"T_38427da8_370f_11ea_9a05_0242ac1c0002row76_col2\" class=\"data row76 col2\" >2103</td>\n",
              "                        <td id=\"T_38427da8_370f_11ea_9a05_0242ac1c0002row76_col3\" class=\"data row76 col3\" >0.033507</td>\n",
              "                        <td id=\"T_38427da8_370f_11ea_9a05_0242ac1c0002row76_col4\" class=\"data row76 col4\" >70.4652</td>\n",
              "                        <td id=\"T_38427da8_370f_11ea_9a05_0242ac1c0002row76_col5\" class=\"data row76 col5\" >2032.53</td>\n",
              "            </tr>\n",
              "            <tr>\n",
              "                        <th id=\"T_38427da8_370f_11ea_9a05_0242ac1c0002level0_row77\" class=\"row_heading level0 row77\" >77</th>\n",
              "                        <td id=\"T_38427da8_370f_11ea_9a05_0242ac1c0002row77_col0\" class=\"data row77 col0\" >31</td>\n",
              "                        <td id=\"T_38427da8_370f_11ea_9a05_0242ac1c0002row77_col1\" class=\"data row77 col1\" >766.76</td>\n",
              "                        <td id=\"T_38427da8_370f_11ea_9a05_0242ac1c0002row77_col2\" class=\"data row77 col2\" >1609</td>\n",
              "                        <td id=\"T_38427da8_370f_11ea_9a05_0242ac1c0002row77_col3\" class=\"data row77 col3\" >0.0404299</td>\n",
              "                        <td id=\"T_38427da8_370f_11ea_9a05_0242ac1c0002row77_col4\" class=\"data row77 col4\" >65.0517</td>\n",
              "                        <td id=\"T_38427da8_370f_11ea_9a05_0242ac1c0002row77_col5\" class=\"data row77 col5\" >1543.95</td>\n",
              "            </tr>\n",
              "            <tr>\n",
              "                        <th id=\"T_38427da8_370f_11ea_9a05_0242ac1c0002level0_row78\" class=\"row_heading level0 row78\" >78</th>\n",
              "                        <td id=\"T_38427da8_370f_11ea_9a05_0242ac1c0002row78_col0\" class=\"data row78 col0\" >35</td>\n",
              "                        <td id=\"T_38427da8_370f_11ea_9a05_0242ac1c0002row78_col1\" class=\"data row78 col1\" >659.376</td>\n",
              "                        <td id=\"T_38427da8_370f_11ea_9a05_0242ac1c0002row78_col2\" class=\"data row78 col2\" >1326</td>\n",
              "                        <td id=\"T_38427da8_370f_11ea_9a05_0242ac1c0002row78_col3\" class=\"data row78 col3\" >0.0530805</td>\n",
              "                        <td id=\"T_38427da8_370f_11ea_9a05_0242ac1c0002row78_col4\" class=\"data row78 col4\" >70.3848</td>\n",
              "                        <td id=\"T_38427da8_370f_11ea_9a05_0242ac1c0002row78_col5\" class=\"data row78 col5\" >1255.62</td>\n",
              "            </tr>\n",
              "            <tr>\n",
              "                        <th id=\"T_38427da8_370f_11ea_9a05_0242ac1c0002level0_row79\" class=\"row_heading level0 row79\" >79</th>\n",
              "                        <td id=\"T_38427da8_370f_11ea_9a05_0242ac1c0002row79_col0\" class=\"data row79 col0\" >26</td>\n",
              "                        <td id=\"T_38427da8_370f_11ea_9a05_0242ac1c0002row79_col1\" class=\"data row79 col1\" >530.456</td>\n",
              "                        <td id=\"T_38427da8_370f_11ea_9a05_0242ac1c0002row79_col2\" class=\"data row79 col2\" >1139</td>\n",
              "                        <td id=\"T_38427da8_370f_11ea_9a05_0242ac1c0002row79_col3\" class=\"data row79 col3\" >0.0490144</td>\n",
              "                        <td id=\"T_38427da8_370f_11ea_9a05_0242ac1c0002row79_col4\" class=\"data row79 col4\" >55.8275</td>\n",
              "                        <td id=\"T_38427da8_370f_11ea_9a05_0242ac1c0002row79_col5\" class=\"data row79 col5\" >1083.17</td>\n",
              "            </tr>\n",
              "            <tr>\n",
              "                        <th id=\"T_38427da8_370f_11ea_9a05_0242ac1c0002level0_row80\" class=\"row_heading level0 row80\" >80</th>\n",
              "                        <td id=\"T_38427da8_370f_11ea_9a05_0242ac1c0002row80_col0\" class=\"data row80 col0\" >19</td>\n",
              "                        <td id=\"T_38427da8_370f_11ea_9a05_0242ac1c0002row80_col1\" class=\"data row80 col1\" >415.617</td>\n",
              "                        <td id=\"T_38427da8_370f_11ea_9a05_0242ac1c0002row80_col2\" class=\"data row80 col2\" >869</td>\n",
              "                        <td id=\"T_38427da8_370f_11ea_9a05_0242ac1c0002row80_col3\" class=\"data row80 col3\" >0.0457152</td>\n",
              "                        <td id=\"T_38427da8_370f_11ea_9a05_0242ac1c0002row80_col4\" class=\"data row80 col4\" >39.7265</td>\n",
              "                        <td id=\"T_38427da8_370f_11ea_9a05_0242ac1c0002row80_col5\" class=\"data row80 col5\" >829.273</td>\n",
              "            </tr>\n",
              "            <tr>\n",
              "                        <th id=\"T_38427da8_370f_11ea_9a05_0242ac1c0002level0_row81\" class=\"row_heading level0 row81\" >81</th>\n",
              "                        <td id=\"T_38427da8_370f_11ea_9a05_0242ac1c0002row81_col0\" class=\"data row81 col0\" >17</td>\n",
              "                        <td id=\"T_38427da8_370f_11ea_9a05_0242ac1c0002row81_col1\" class=\"data row81 col1\" >339.554</td>\n",
              "                        <td id=\"T_38427da8_370f_11ea_9a05_0242ac1c0002row81_col2\" class=\"data row81 col2\" >704</td>\n",
              "                        <td id=\"T_38427da8_370f_11ea_9a05_0242ac1c0002row81_col3\" class=\"data row81 col3\" >0.0500657</td>\n",
              "                        <td id=\"T_38427da8_370f_11ea_9a05_0242ac1c0002row81_col4\" class=\"data row81 col4\" >35.2463</td>\n",
              "                        <td id=\"T_38427da8_370f_11ea_9a05_0242ac1c0002row81_col5\" class=\"data row81 col5\" >668.754</td>\n",
              "            </tr>\n",
              "            <tr>\n",
              "                        <th id=\"T_38427da8_370f_11ea_9a05_0242ac1c0002level0_row82\" class=\"row_heading level0 row82\" >82</th>\n",
              "                        <td id=\"T_38427da8_370f_11ea_9a05_0242ac1c0002row82_col0\" class=\"data row82 col0\" >11</td>\n",
              "                        <td id=\"T_38427da8_370f_11ea_9a05_0242ac1c0002row82_col1\" class=\"data row82 col1\" >201.985</td>\n",
              "                        <td id=\"T_38427da8_370f_11ea_9a05_0242ac1c0002row82_col2\" class=\"data row82 col2\" >429</td>\n",
              "                        <td id=\"T_38427da8_370f_11ea_9a05_0242ac1c0002row82_col3\" class=\"data row82 col3\" >0.0544595</td>\n",
              "                        <td id=\"T_38427da8_370f_11ea_9a05_0242ac1c0002row82_col4\" class=\"data row82 col4\" >23.3631</td>\n",
              "                        <td id=\"T_38427da8_370f_11ea_9a05_0242ac1c0002row82_col5\" class=\"data row82 col5\" >405.637</td>\n",
              "            </tr>\n",
              "            <tr>\n",
              "                        <th id=\"T_38427da8_370f_11ea_9a05_0242ac1c0002level0_row83\" class=\"row_heading level0 row83\" >83</th>\n",
              "                        <td id=\"T_38427da8_370f_11ea_9a05_0242ac1c0002row83_col0\" class=\"data row83 col0\" >10</td>\n",
              "                        <td id=\"T_38427da8_370f_11ea_9a05_0242ac1c0002row83_col1\" class=\"data row83 col1\" >102.489</td>\n",
              "                        <td id=\"T_38427da8_370f_11ea_9a05_0242ac1c0002row83_col2\" class=\"data row83 col2\" >216</td>\n",
              "                        <td id=\"T_38427da8_370f_11ea_9a05_0242ac1c0002row83_col3\" class=\"data row83 col3\" >0.0975717</td>\n",
              "                        <td id=\"T_38427da8_370f_11ea_9a05_0242ac1c0002row83_col4\" class=\"data row83 col4\" >21.0755</td>\n",
              "                        <td id=\"T_38427da8_370f_11ea_9a05_0242ac1c0002row83_col5\" class=\"data row83 col5\" >194.925</td>\n",
              "            </tr>\n",
              "            <tr>\n",
              "                        <th id=\"T_38427da8_370f_11ea_9a05_0242ac1c0002level0_row84\" class=\"row_heading level0 row84\" >84</th>\n",
              "                        <td id=\"T_38427da8_370f_11ea_9a05_0242ac1c0002row84_col0\" class=\"data row84 col0\" >10</td>\n",
              "                        <td id=\"T_38427da8_370f_11ea_9a05_0242ac1c0002row84_col1\" class=\"data row84 col1\" >59.039</td>\n",
              "                        <td id=\"T_38427da8_370f_11ea_9a05_0242ac1c0002row84_col2\" class=\"data row84 col2\" >143</td>\n",
              "                        <td id=\"T_38427da8_370f_11ea_9a05_0242ac1c0002row84_col3\" class=\"data row84 col3\" >0.16938</td>\n",
              "                        <td id=\"T_38427da8_370f_11ea_9a05_0242ac1c0002row84_col4\" class=\"data row84 col4\" >24.2213</td>\n",
              "                        <td id=\"T_38427da8_370f_11ea_9a05_0242ac1c0002row84_col5\" class=\"data row84 col5\" >118.779</td>\n",
              "            </tr>\n",
              "            <tr>\n",
              "                        <th id=\"T_38427da8_370f_11ea_9a05_0242ac1c0002level0_row85\" class=\"row_heading level0 row85\" >85</th>\n",
              "                        <td id=\"T_38427da8_370f_11ea_9a05_0242ac1c0002row85_col0\" class=\"data row85 col0\" >8</td>\n",
              "                        <td id=\"T_38427da8_370f_11ea_9a05_0242ac1c0002row85_col1\" class=\"data row85 col1\" >45.9083</td>\n",
              "                        <td id=\"T_38427da8_370f_11ea_9a05_0242ac1c0002row85_col2\" class=\"data row85 col2\" >94</td>\n",
              "                        <td id=\"T_38427da8_370f_11ea_9a05_0242ac1c0002row85_col3\" class=\"data row85 col3\" >0.17426</td>\n",
              "                        <td id=\"T_38427da8_370f_11ea_9a05_0242ac1c0002row85_col4\" class=\"data row85 col4\" >16.3805</td>\n",
              "                        <td id=\"T_38427da8_370f_11ea_9a05_0242ac1c0002row85_col5\" class=\"data row85 col5\" >77.6195</td>\n",
              "            </tr>\n",
              "            <tr>\n",
              "                        <th id=\"T_38427da8_370f_11ea_9a05_0242ac1c0002level0_row86\" class=\"row_heading level0 row86\" >86</th>\n",
              "                        <td id=\"T_38427da8_370f_11ea_9a05_0242ac1c0002row86_col0\" class=\"data row86 col0\" >6</td>\n",
              "                        <td id=\"T_38427da8_370f_11ea_9a05_0242ac1c0002row86_col1\" class=\"data row86 col1\" >29.3525</td>\n",
              "                        <td id=\"T_38427da8_370f_11ea_9a05_0242ac1c0002row86_col2\" class=\"data row86 col2\" >69</td>\n",
              "                        <td id=\"T_38427da8_370f_11ea_9a05_0242ac1c0002row86_col3\" class=\"data row86 col3\" >0.204412</td>\n",
              "                        <td id=\"T_38427da8_370f_11ea_9a05_0242ac1c0002row86_col4\" class=\"data row86 col4\" >14.1044</td>\n",
              "                        <td id=\"T_38427da8_370f_11ea_9a05_0242ac1c0002row86_col5\" class=\"data row86 col5\" >54.8956</td>\n",
              "            </tr>\n",
              "            <tr>\n",
              "                        <th id=\"T_38427da8_370f_11ea_9a05_0242ac1c0002level0_row87\" class=\"row_heading level0 row87\" >87</th>\n",
              "                        <td id=\"T_38427da8_370f_11ea_9a05_0242ac1c0002row87_col0\" class=\"data row87 col0\" >6</td>\n",
              "                        <td id=\"T_38427da8_370f_11ea_9a05_0242ac1c0002row87_col1\" class=\"data row87 col1\" >23.7125</td>\n",
              "                        <td id=\"T_38427da8_370f_11ea_9a05_0242ac1c0002row87_col2\" class=\"data row87 col2\" >54</td>\n",
              "                        <td id=\"T_38427da8_370f_11ea_9a05_0242ac1c0002row87_col3\" class=\"data row87 col3\" >0.253031</td>\n",
              "                        <td id=\"T_38427da8_370f_11ea_9a05_0242ac1c0002row87_col4\" class=\"data row87 col4\" >13.6637</td>\n",
              "                        <td id=\"T_38427da8_370f_11ea_9a05_0242ac1c0002row87_col5\" class=\"data row87 col5\" >40.3363</td>\n",
              "            </tr>\n",
              "            <tr>\n",
              "                        <th id=\"T_38427da8_370f_11ea_9a05_0242ac1c0002level0_row88\" class=\"row_heading level0 row88\" >88</th>\n",
              "                        <td id=\"T_38427da8_370f_11ea_9a05_0242ac1c0002row88_col0\" class=\"data row88 col0\" >3</td>\n",
              "                        <td id=\"T_38427da8_370f_11ea_9a05_0242ac1c0002row88_col1\" class=\"data row88 col1\" >12.9035</td>\n",
              "                        <td id=\"T_38427da8_370f_11ea_9a05_0242ac1c0002row88_col2\" class=\"data row88 col2\" >26</td>\n",
              "                        <td id=\"T_38427da8_370f_11ea_9a05_0242ac1c0002row88_col3\" class=\"data row88 col3\" >0.232495</td>\n",
              "                        <td id=\"T_38427da8_370f_11ea_9a05_0242ac1c0002row88_col4\" class=\"data row88 col4\" >6.04488</td>\n",
              "                        <td id=\"T_38427da8_370f_11ea_9a05_0242ac1c0002row88_col5\" class=\"data row88 col5\" >19.9551</td>\n",
              "            </tr>\n",
              "            <tr>\n",
              "                        <th id=\"T_38427da8_370f_11ea_9a05_0242ac1c0002level0_row89\" class=\"row_heading level0 row89\" >89</th>\n",
              "                        <td id=\"T_38427da8_370f_11ea_9a05_0242ac1c0002row89_col0\" class=\"data row89 col0\" >1</td>\n",
              "                        <td id=\"T_38427da8_370f_11ea_9a05_0242ac1c0002row89_col1\" class=\"data row89 col1\" >5.02669</td>\n",
              "                        <td id=\"T_38427da8_370f_11ea_9a05_0242ac1c0002row89_col2\" class=\"data row89 col2\" >11</td>\n",
              "                        <td id=\"T_38427da8_370f_11ea_9a05_0242ac1c0002row89_col3\" class=\"data row89 col3\" >0.198938</td>\n",
              "                        <td id=\"T_38427da8_370f_11ea_9a05_0242ac1c0002row89_col4\" class=\"data row89 col4\" >2.18832</td>\n",
              "                        <td id=\"T_38427da8_370f_11ea_9a05_0242ac1c0002row89_col5\" class=\"data row89 col5\" >8.81168</td>\n",
              "            </tr>\n",
              "            <tr>\n",
              "                        <th id=\"T_38427da8_370f_11ea_9a05_0242ac1c0002level0_row90\" class=\"row_heading level0 row90\" >90</th>\n",
              "                        <td id=\"T_38427da8_370f_11ea_9a05_0242ac1c0002row90_col0\" class=\"data row90 col0\" >0</td>\n",
              "                        <td id=\"T_38427da8_370f_11ea_9a05_0242ac1c0002row90_col1\" class=\"data row90 col1\" >2.45038</td>\n",
              "                        <td id=\"T_38427da8_370f_11ea_9a05_0242ac1c0002row90_col2\" class=\"data row90 col2\" >6</td>\n",
              "                        <td id=\"T_38427da8_370f_11ea_9a05_0242ac1c0002row90_col3\" class=\"data row90 col3\" >0</td>\n",
              "                        <td id=\"T_38427da8_370f_11ea_9a05_0242ac1c0002row90_col4\" class=\"data row90 col4\" >0</td>\n",
              "                        <td id=\"T_38427da8_370f_11ea_9a05_0242ac1c0002row90_col5\" class=\"data row90 col5\" >6</td>\n",
              "            </tr>\n",
              "            <tr>\n",
              "                        <th id=\"T_38427da8_370f_11ea_9a05_0242ac1c0002level0_row91\" class=\"row_heading level0 row91\" >91</th>\n",
              "                        <td id=\"T_38427da8_370f_11ea_9a05_0242ac1c0002row91_col0\" class=\"data row91 col0\" >0</td>\n",
              "                        <td id=\"T_38427da8_370f_11ea_9a05_0242ac1c0002row91_col1\" class=\"data row91 col1\" >4.45448</td>\n",
              "                        <td id=\"T_38427da8_370f_11ea_9a05_0242ac1c0002row91_col2\" class=\"data row91 col2\" >8</td>\n",
              "                        <td id=\"T_38427da8_370f_11ea_9a05_0242ac1c0002row91_col3\" class=\"data row91 col3\" >0</td>\n",
              "                        <td id=\"T_38427da8_370f_11ea_9a05_0242ac1c0002row91_col4\" class=\"data row91 col4\" >0</td>\n",
              "                        <td id=\"T_38427da8_370f_11ea_9a05_0242ac1c0002row91_col5\" class=\"data row91 col5\" >8</td>\n",
              "            </tr>\n",
              "            <tr>\n",
              "                        <th id=\"T_38427da8_370f_11ea_9a05_0242ac1c0002level0_row92\" class=\"row_heading level0 row92\" >92</th>\n",
              "                        <td id=\"T_38427da8_370f_11ea_9a05_0242ac1c0002row92_col0\" class=\"data row92 col0\" >0</td>\n",
              "                        <td id=\"T_38427da8_370f_11ea_9a05_0242ac1c0002row92_col1\" class=\"data row92 col1\" >3.78371</td>\n",
              "                        <td id=\"T_38427da8_370f_11ea_9a05_0242ac1c0002row92_col2\" class=\"data row92 col2\" >8</td>\n",
              "                        <td id=\"T_38427da8_370f_11ea_9a05_0242ac1c0002row92_col3\" class=\"data row92 col3\" >0</td>\n",
              "                        <td id=\"T_38427da8_370f_11ea_9a05_0242ac1c0002row92_col4\" class=\"data row92 col4\" >0</td>\n",
              "                        <td id=\"T_38427da8_370f_11ea_9a05_0242ac1c0002row92_col5\" class=\"data row92 col5\" >8</td>\n",
              "            </tr>\n",
              "            <tr>\n",
              "                        <th id=\"T_38427da8_370f_11ea_9a05_0242ac1c0002level0_row93\" class=\"row_heading level0 row93\" >93</th>\n",
              "                        <td id=\"T_38427da8_370f_11ea_9a05_0242ac1c0002row93_col0\" class=\"data row93 col0\" >0</td>\n",
              "                        <td id=\"T_38427da8_370f_11ea_9a05_0242ac1c0002row93_col1\" class=\"data row93 col1\" >1.65092</td>\n",
              "                        <td id=\"T_38427da8_370f_11ea_9a05_0242ac1c0002row93_col2\" class=\"data row93 col2\" >3</td>\n",
              "                        <td id=\"T_38427da8_370f_11ea_9a05_0242ac1c0002row93_col3\" class=\"data row93 col3\" >0</td>\n",
              "                        <td id=\"T_38427da8_370f_11ea_9a05_0242ac1c0002row93_col4\" class=\"data row93 col4\" >0</td>\n",
              "                        <td id=\"T_38427da8_370f_11ea_9a05_0242ac1c0002row93_col5\" class=\"data row93 col5\" >3</td>\n",
              "            </tr>\n",
              "            <tr>\n",
              "                        <th id=\"T_38427da8_370f_11ea_9a05_0242ac1c0002level0_row94\" class=\"row_heading level0 row94\" >94</th>\n",
              "                        <td id=\"T_38427da8_370f_11ea_9a05_0242ac1c0002row94_col0\" class=\"data row94 col0\" >0</td>\n",
              "                        <td id=\"T_38427da8_370f_11ea_9a05_0242ac1c0002row94_col1\" class=\"data row94 col1\" >0.260096</td>\n",
              "                        <td id=\"T_38427da8_370f_11ea_9a05_0242ac1c0002row94_col2\" class=\"data row94 col2\" >1</td>\n",
              "                        <td id=\"T_38427da8_370f_11ea_9a05_0242ac1c0002row94_col3\" class=\"data row94 col3\" >0</td>\n",
              "                        <td id=\"T_38427da8_370f_11ea_9a05_0242ac1c0002row94_col4\" class=\"data row94 col4\" >0</td>\n",
              "                        <td id=\"T_38427da8_370f_11ea_9a05_0242ac1c0002row94_col5\" class=\"data row94 col5\" >1</td>\n",
              "            </tr>\n",
              "    </tbody></table>"
            ],
            "text/plain": [
              "<pandas.io.formats.style.Styler at 0x7f334224f390>"
            ]
          },
          "metadata": {
            "tags": []
          },
          "execution_count": 60
        }
      ]
    },
    {
      "cell_type": "markdown",
      "metadata": {
        "id": "PLK4jai1dr6M",
        "colab_type": "text"
      },
      "source": [
        "Le dataframe ci-dessous rassemble les intervalles $[x_{min};x_{max}]$ vérifiant le critère de Cochran. Suite à ces observations, nous décidons de calculer les taux bruts pour les années $t \\in [2006;2013]$ et les âges $x \\in [20;80]$."
      ]
    },
    {
      "cell_type": "code",
      "metadata": {
        "id": "KmgjX1B_c7zZ",
        "colab_type": "code",
        "outputId": "f147182e-ca18-4e05-f9c3-a619d173400f",
        "colab": {
          "base_uri": "https://localhost:8080/",
          "height": 450
        }
      },
      "source": [
        "critere_de_cochran = pd.DataFrame()\n",
        "critere_de_cochran['Annee'] = [i for i in range(2000, 2014)]\n",
        "critere_de_cochran['x_min'] = [np.nan, np.nan, 36, 31, 28, 17, 17, 17, 16, 17, 18, 18, 19, 18]\n",
        "critere_de_cochran['x_max'] = [np.nan, np.nan, 67, 76, 77, 79, 80, 82, 83, 85, 88, 87, 89, 88]\n",
        "critere_de_cochran"
      ],
      "execution_count": 0,
      "outputs": [
        {
          "output_type": "execute_result",
          "data": {
            "text/html": [
              "<div>\n",
              "<style scoped>\n",
              "    .dataframe tbody tr th:only-of-type {\n",
              "        vertical-align: middle;\n",
              "    }\n",
              "\n",
              "    .dataframe tbody tr th {\n",
              "        vertical-align: top;\n",
              "    }\n",
              "\n",
              "    .dataframe thead th {\n",
              "        text-align: right;\n",
              "    }\n",
              "</style>\n",
              "<table border=\"1\" class=\"dataframe\">\n",
              "  <thead>\n",
              "    <tr style=\"text-align: right;\">\n",
              "      <th></th>\n",
              "      <th>Annee</th>\n",
              "      <th>x_min</th>\n",
              "      <th>x_max</th>\n",
              "    </tr>\n",
              "  </thead>\n",
              "  <tbody>\n",
              "    <tr>\n",
              "      <th>0</th>\n",
              "      <td>2000</td>\n",
              "      <td>NaN</td>\n",
              "      <td>NaN</td>\n",
              "    </tr>\n",
              "    <tr>\n",
              "      <th>1</th>\n",
              "      <td>2001</td>\n",
              "      <td>NaN</td>\n",
              "      <td>NaN</td>\n",
              "    </tr>\n",
              "    <tr>\n",
              "      <th>2</th>\n",
              "      <td>2002</td>\n",
              "      <td>36.0</td>\n",
              "      <td>67.0</td>\n",
              "    </tr>\n",
              "    <tr>\n",
              "      <th>3</th>\n",
              "      <td>2003</td>\n",
              "      <td>31.0</td>\n",
              "      <td>76.0</td>\n",
              "    </tr>\n",
              "    <tr>\n",
              "      <th>4</th>\n",
              "      <td>2004</td>\n",
              "      <td>28.0</td>\n",
              "      <td>77.0</td>\n",
              "    </tr>\n",
              "    <tr>\n",
              "      <th>5</th>\n",
              "      <td>2005</td>\n",
              "      <td>17.0</td>\n",
              "      <td>79.0</td>\n",
              "    </tr>\n",
              "    <tr>\n",
              "      <th>6</th>\n",
              "      <td>2006</td>\n",
              "      <td>17.0</td>\n",
              "      <td>80.0</td>\n",
              "    </tr>\n",
              "    <tr>\n",
              "      <th>7</th>\n",
              "      <td>2007</td>\n",
              "      <td>17.0</td>\n",
              "      <td>82.0</td>\n",
              "    </tr>\n",
              "    <tr>\n",
              "      <th>8</th>\n",
              "      <td>2008</td>\n",
              "      <td>16.0</td>\n",
              "      <td>83.0</td>\n",
              "    </tr>\n",
              "    <tr>\n",
              "      <th>9</th>\n",
              "      <td>2009</td>\n",
              "      <td>17.0</td>\n",
              "      <td>85.0</td>\n",
              "    </tr>\n",
              "    <tr>\n",
              "      <th>10</th>\n",
              "      <td>2010</td>\n",
              "      <td>18.0</td>\n",
              "      <td>88.0</td>\n",
              "    </tr>\n",
              "    <tr>\n",
              "      <th>11</th>\n",
              "      <td>2011</td>\n",
              "      <td>18.0</td>\n",
              "      <td>87.0</td>\n",
              "    </tr>\n",
              "    <tr>\n",
              "      <th>12</th>\n",
              "      <td>2012</td>\n",
              "      <td>19.0</td>\n",
              "      <td>89.0</td>\n",
              "    </tr>\n",
              "    <tr>\n",
              "      <th>13</th>\n",
              "      <td>2013</td>\n",
              "      <td>18.0</td>\n",
              "      <td>88.0</td>\n",
              "    </tr>\n",
              "  </tbody>\n",
              "</table>\n",
              "</div>"
            ],
            "text/plain": [
              "    Annee  x_min  x_max\n",
              "0    2000    NaN    NaN\n",
              "1    2001    NaN    NaN\n",
              "2    2002   36.0   67.0\n",
              "3    2003   31.0   76.0\n",
              "4    2004   28.0   77.0\n",
              "5    2005   17.0   79.0\n",
              "6    2006   17.0   80.0\n",
              "7    2007   17.0   82.0\n",
              "8    2008   16.0   83.0\n",
              "9    2009   17.0   85.0\n",
              "10   2010   18.0   88.0\n",
              "11   2011   18.0   87.0\n",
              "12   2012   19.0   89.0\n",
              "13   2013   18.0   88.0"
            ]
          },
          "metadata": {
            "tags": []
          },
          "execution_count": 61
        }
      ]
    },
    {
      "cell_type": "markdown",
      "metadata": {
        "id": "3mcrJXTAgXLO",
        "colab_type": "text"
      },
      "source": [
        "On peut maintenant calculer les taux bruts avec l'estimateur de Kaplan-Meier vu en cours. On utilisera le package *lifelines*."
      ]
    },
    {
      "cell_type": "code",
      "metadata": {
        "id": "b66FlI8r2Wyc",
        "colab_type": "code",
        "colab": {}
      },
      "source": [
        "# Population d'étude = contenance du PF du 01 janvier 2006 au 31 décembre 2013\n",
        "\n",
        "contrats_janv_2006 = df_contrats.loc[( df_contrats['DatEffet']<=pd.to_datetime('2006-01-01') )  &  ( df_contrats['FinObs']>pd.to_datetime('2006-01-01') )]\n",
        "contrats_janv_2007 = df_contrats.loc[( df_contrats['DatEffet']<=pd.to_datetime('2007-01-01') )  &  ( df_contrats['FinObs']>pd.to_datetime('2007-01-01') )]\n",
        "contrats_janv_2008 = df_contrats.loc[( df_contrats['DatEffet']<=pd.to_datetime('2008-01-01') )  &  ( df_contrats['FinObs']>pd.to_datetime('2008-01-01') )]\n",
        "contrats_janv_2009 = df_contrats.loc[( df_contrats['DatEffet']<=pd.to_datetime('2009-01-01') )  &  ( df_contrats['FinObs']>pd.to_datetime('2009-01-01') )]\n",
        "contrats_janv_2010 = df_contrats.loc[( df_contrats['DatEffet']<=pd.to_datetime('2010-01-01') )  &  ( df_contrats['FinObs']>pd.to_datetime('2010-01-01') )]\n",
        "contrats_janv_2011 = df_contrats.loc[( df_contrats['DatEffet']<=pd.to_datetime('2011-01-01') )  &  ( df_contrats['FinObs']>pd.to_datetime('2011-01-01') )]\n",
        "contrats_janv_2012 = df_contrats.loc[( df_contrats['DatEffet']<=pd.to_datetime('2012-01-01') )  &  ( df_contrats['FinObs']>pd.to_datetime('2012-01-01') )]\n",
        "contrats_janv_2013 = df_contrats.loc[( df_contrats['DatEffet']<=pd.to_datetime('2013-01-01') )  &  ( df_contrats['FinObs']>pd.to_datetime('2013-01-01') )]\n",
        "dataframes = [contrats_janv_2006, contrats_janv_2007, contrats_janv_2008, contrats_janv_2009, contrats_janv_2010, contrats_janv_2011, contrats_janv_2012, contrats_janv_2013]\n",
        "population = pd.concat(dataframes).drop_duplicates().reset_index(drop=True)"
      ],
      "execution_count": 0,
      "outputs": []
    },
    {
      "cell_type": "code",
      "metadata": {
        "id": "GuXDMrOjaz9t",
        "colab_type": "code",
        "outputId": "73e3ec9f-2229-4aff-8015-50320dd57a6f",
        "colab": {
          "base_uri": "https://localhost:8080/",
          "height": 66
        }
      },
      "source": [
        "print(\"effectif total: \", len(population))\n",
        "print(\"effectif observé: \", len(population.loc[population['CodSitu']=='Sinistre']))\n",
        "print(\"effectif censuré/tronqué: \", len(population) - len(population.loc[population['CodSitu']=='Sinistre']))"
      ],
      "execution_count": 0,
      "outputs": [
        {
          "output_type": "stream",
          "text": [
            "effectif total:  642856\n",
            "effectif observé:  17757\n",
            "effectif censuré/tronqué:  625099\n"
          ],
          "name": "stdout"
        }
      ]
    },
    {
      "cell_type": "code",
      "metadata": {
        "id": "AyW0HApdbihH",
        "colab_type": "code",
        "colab": {}
      },
      "source": [
        "# Ajout d'une colonne Observed\n",
        "\n",
        "# 1 si le décès est observé, 0 sinon\n",
        "population.loc[population['CodSitu']=='Sinistre', 'Observed'] = 1\n",
        "population.loc[population['CodSitu']!='Sinistre', 'Observed'] = 0"
      ],
      "execution_count": 0,
      "outputs": []
    },
    {
      "cell_type": "code",
      "metadata": {
        "id": "gDnFr8Kcfefm",
        "colab_type": "code",
        "colab": {}
      },
      "source": [
        "# Ajout d'une colonne Duration\n",
        "\n",
        "population.loc[population['CodSitu']=='Sinistre', 'Duration'] = population['AgeDC']\n",
        "population.loc[population['CodSitu']=='En Cours', 'Duration'] = (pd.to_datetime('2013-12-31') - pd.to_datetime(population.loc[population['CodSitu']=='En Cours', 'DatNaiss'].values)).days/365.25\n",
        "population.loc[population['CodSitu']=='Resilie', 'Duration'] = (pd.to_datetime(population.loc[population['CodSitu']=='Resilie', 'DatRes'].values) - pd.to_datetime(population.loc[population['CodSitu']=='Resilie', 'DatNaiss'].values)).days/365.25"
      ],
      "execution_count": 0,
      "outputs": []
    },
    {
      "cell_type": "code",
      "metadata": {
        "id": "Rz-jkyFOMDXB",
        "colab_type": "code",
        "colab": {}
      },
      "source": [
        "population['Observed'] = population['Observed'].apply(lambda x: int(x))\n",
        "population['Duration'] = population['Duration'].apply(lambda x: int(x))"
      ],
      "execution_count": 0,
      "outputs": []
    },
    {
      "cell_type": "code",
      "metadata": {
        "id": "k29q6MwIjnxE",
        "colab_type": "code",
        "outputId": "3776970a-78e2-47d3-e365-ecaaadf5b713",
        "colab": {
          "base_uri": "https://localhost:8080/",
          "height": 295
        }
      },
      "source": [
        "# Fonction de survie: estimateur de Kaplan-Meier\n",
        "\n",
        "T = population[\"Duration\"]\n",
        "E = population[\"Observed\"]\n",
        "\n",
        "kmf_H = KaplanMeierFitter()\n",
        "kmf_F = KaplanMeierFitter()\n",
        "\n",
        "H = (population[\"Sexe\"] == \"M\")\n",
        "\n",
        "kmf_H.fit(T[H], event_observed=E[H], label=\"Hommes\")\n",
        "kmf_F.fit(T[~H], event_observed=E[~H], label=\"Femmes\")\n",
        "\n",
        "kmf_H.plot(color='b', linewidth=1.25)\n",
        "kmf_F.plot(color='r', linewidth=1.25)\n",
        "\n",
        "plt.xlabel('Age')\n",
        "plt.ylabel('Proba')\n",
        "plt.title('Estimation de la fonction de survie par Kaplan-Meier')\n",
        "plt.show()"
      ],
      "execution_count": 0,
      "outputs": [
        {
          "output_type": "display_data",
          "data": {
            "image/png": "[encoded data removed]",
            "text/plain": [
              "<Figure size 432x288 with 1 Axes>"
            ]
          },
          "metadata": {
            "tags": []
          }
        }
      ]
    },
    {
      "cell_type": "code",
      "metadata": {
        "id": "-tUgedfaokE5",
        "colab_type": "code",
        "outputId": "207e7e90-1157-45d1-bb57-e78b1a4d041f",
        "colab": {
          "base_uri": "https://localhost:8080/",
          "height": 295
        }
      },
      "source": [
        "# Taux bruts: estimateur de Kaplan-Meier\n",
        "\n",
        "survival_km_H = kmf_H.survival_function_\n",
        "survival_km_F = kmf_F.survival_function_\n",
        "\n",
        "taux_bruts_H = -survival_km_H.pct_change()\n",
        "taux_bruts_H.iloc[0]['Hommes'] = 0\n",
        "taux_bruts_F = -survival_km_F.pct_change()\n",
        "taux_bruts_F.iloc[0]['Femmes'] = 0\n",
        "\n",
        "fig = plt.figure()\n",
        "ax = fig.add_subplot(111)\n",
        "taux_bruts_H.plot(ax=ax, color='b', linewidth=1.25)\n",
        "taux_bruts_F.plot(ax=ax, color='r', linewidth=1.25)\n",
        "\n",
        "plt.xlabel('Age')\n",
        "plt.ylabel('Proba')\n",
        "plt.title('Estimation des taux bruts par Kaplan-Meier')\n",
        "plt.show()"
      ],
      "execution_count": 0,
      "outputs": [
        {
          "output_type": "display_data",
          "data": {
            "image/png": "[encoded data removed]",
            "text/plain": [
              "<Figure size 432x288 with 1 Axes>"
            ]
          },
          "metadata": {
            "tags": []
          }
        }
      ]
    },
    {
      "cell_type": "markdown",
      "metadata": {
        "id": "RlilSKNjkpet",
        "colab_type": "text"
      },
      "source": [
        "Dans notre population comme dans la population en général, les femmes meurent moins vite que les hommes."
      ]
    },
    {
      "cell_type": "markdown",
      "metadata": {
        "colab_type": "text",
        "id": "oMVRrt0QlUS4"
      },
      "source": [
        "### **3.3) Lissage des taux bruts**"
      ]
    },
    {
      "cell_type": "markdown",
      "metadata": {
        "id": "lvAEp_eUogLd",
        "colab_type": "text"
      },
      "source": [
        "**a) Lissage**"
      ]
    },
    {
      "cell_type": "markdown",
      "metadata": {
        "id": "igZrbDL0lXua",
        "colab_type": "text"
      },
      "source": [
        "On commence par lisser les taux bruts avec une méthode paramétrique: le modèle de Gompertz-Makeham."
      ]
    },
    {
      "cell_type": "code",
      "metadata": {
        "id": "KiP5ss8KVfkK",
        "colab_type": "code",
        "colab": {}
      },
      "source": [
        "class GompertzFitter(ParametricUnivariateFitter):\n",
        "    _fitted_parameter_names = ['nu_', 'b_']\n",
        "\n",
        "    def _cumulative_hazard(self, params, times):\n",
        "        nu_, b_ = params\n",
        "        return nu_ * (grad.expm1(times * b_))"
      ],
      "execution_count": 0,
      "outputs": []
    },
    {
      "cell_type": "code",
      "metadata": {
        "id": "WfuUPki2oc7y",
        "colab_type": "code",
        "outputId": "57c5d089-9a0b-44b2-93b0-6e75b105f05a",
        "colab": {
          "base_uri": "https://localhost:8080/",
          "height": 295
        }
      },
      "source": [
        "# Lissage paramétrique: méthode de Gompertz-Makeham\n",
        "# Fonction de survie\n",
        "\n",
        "gptz_H = GompertzFitter()\n",
        "gptz_F = GompertzFitter()\n",
        "\n",
        "H = (population[\"Sexe\"] == \"M\")\n",
        "\n",
        "gptz_H.fit(T[H], event_observed=E[H], label=\"Hommes\")\n",
        "gptz_F.fit(T[~H], event_observed=E[~H], label=\"Femmes\")\n",
        "\n",
        "gptz_H.plot_survival_function(color='b', linewidth=1.25)\n",
        "gptz_F.plot_survival_function(color='r', linewidth=1.25)\n",
        "\n",
        "plt.xlabel('Age')\n",
        "plt.ylabel('Proba')\n",
        "plt.title('Estimation de la fonction de survie par Gompertz')\n",
        "plt.show()"
      ],
      "execution_count": 0,
      "outputs": [
        {
          "output_type": "display_data",
          "data": {
            "image/png": "[encoded data removed]",
            "text/plain": [
              "<Figure size 432x288 with 1 Axes>"
            ]
          },
          "metadata": {
            "tags": []
          }
        }
      ]
    },
    {
      "cell_type": "code",
      "metadata": {
        "id": "QRSPyhhNlI_E",
        "colab_type": "code",
        "outputId": "5f5bd868-8535-40ca-c6ff-2b01d3cf6f78",
        "colab": {
          "base_uri": "https://localhost:8080/",
          "height": 295
        }
      },
      "source": [
        "# Lissage paramétrique: méthode de Gompertz-Makeham\n",
        "# Taux\n",
        "\n",
        "taux_lisses_wb_H = gptz_H.hazard_\n",
        "taux_lisses_wb_F = gptz_F.hazard_\n",
        "\n",
        "gptz_H.plot_hazard(color='b', linewidth=1.25)\n",
        "gptz_F.plot_hazard(color='r', linewidth=1.25)\n",
        "\n",
        "plt.xlabel('Age')\n",
        "plt.ylabel('Proba')\n",
        "plt.title('Estimation des taux bruts par Gompertz')\n",
        "plt.show()"
      ],
      "execution_count": 0,
      "outputs": [
        {
          "output_type": "display_data",
          "data": {
            "image/png": "[encoded data removed]",
            "text/plain": [
              "<Figure size 432x288 with 1 Axes>"
            ]
          },
          "metadata": {
            "tags": []
          }
        }
      ]
    },
    {
      "cell_type": "markdown",
      "metadata": {
        "id": "nbzrwZjRm4FT",
        "colab_type": "text"
      },
      "source": [
        "Le lissage de Gompertz-Makeham semble accentuer la différence observée entre hommes et femmes. Essayons maintenant une méthode non-paramétrique, par exemple celle des splines polynomiaux."
      ]
    },
    {
      "cell_type": "code",
      "metadata": {
        "id": "QwpW81Lo0xjz",
        "colab_type": "code",
        "outputId": "f75e018a-f94b-425c-bfdd-25994102e20c",
        "colab": {
          "base_uri": "https://localhost:8080/",
          "height": 295
        }
      },
      "source": [
        "# Lissage non-paramétrique: splines polynomiaux\n",
        "# Fonction de survie\n",
        "\n",
        "H = (population[\"Sexe\"] == \"M\")\n",
        "\n",
        "knots_H = np.percentile(T[H].loc[E[H].astype(bool)], [0, 50, 75, 100])\n",
        "knots_F = np.percentile(T[~H].loc[E[~H].astype(bool)], [0, 50, 75, 100])\n",
        "\n",
        "sf_H = SplineFitter(knots_H)\n",
        "sf_F = SplineFitter(knots_F)\n",
        "\n",
        "sf_H.fit(T[H], E[H], label=\"Hommes\")\n",
        "sf_F.fit(T[~H], E[~H], label=\"Femmes\")\n",
        "\n",
        "sf_H.plot_survival_function(color='b', linewidth=1.25)\n",
        "sf_F.plot_survival_function(color='r', linewidth=1.25)\n",
        "\n",
        "plt.xlabel('Age')\n",
        "plt.ylabel('Proba')\n",
        "plt.title('Estimation de la fonction de survie par splines')\n",
        "plt.show()"
      ],
      "execution_count": 0,
      "outputs": [
        {
          "output_type": "display_data",
          "data": {
            "image/png": "[encoded data removed]",
            "text/plain": [
              "<Figure size 432x288 with 1 Axes>"
            ]
          },
          "metadata": {
            "tags": []
          }
        }
      ]
    },
    {
      "cell_type": "code",
      "metadata": {
        "id": "0UiVHW7bmhr_",
        "colab_type": "code",
        "outputId": "bc8be4ab-cd89-4e3f-edea-60fe4daf6d11",
        "colab": {
          "base_uri": "https://localhost:8080/",
          "height": 295
        }
      },
      "source": [
        "# Lissage non-paramétrique: splines polynomiaux\n",
        "# Taux\n",
        "\n",
        "taux_lisses_splines_H = sf_H.hazard_\n",
        "taux_lisses_splines_F = sf_F.hazard_\n",
        "\n",
        "sf_H.plot_hazard(color='b', linewidth=1.25)\n",
        "sf_F.plot_hazard(color='r', linewidth=1.25)\n",
        "\n",
        "plt.xlabel('Age')\n",
        "plt.ylabel('Proba')\n",
        "plt.title('Estimation des taux bruts par splines')\n",
        "plt.show()"
      ],
      "execution_count": 0,
      "outputs": [
        {
          "output_type": "display_data",
          "data": {
            "image/png": "[encoded data removed]",
            "text/plain": [
              "<Figure size 432x288 with 1 Axes>"
            ]
          },
          "metadata": {
            "tags": []
          }
        }
      ]
    },
    {
      "cell_type": "markdown",
      "metadata": {
        "id": "FBLmkF9KoQoc",
        "colab_type": "text"
      },
      "source": [
        "Le lissage par splines fait apparaître un écart moins important entre hommes et femmes, comme avec l'estimateur de Kaplan-Meier. "
      ]
    },
    {
      "cell_type": "markdown",
      "metadata": {
        "id": "YAiJRXibom-Q",
        "colab_type": "text"
      },
      "source": [
        "**b) Comparaison graphique**"
      ]
    },
    {
      "cell_type": "code",
      "metadata": {
        "id": "LmSWJboaQpUD",
        "colab_type": "code",
        "outputId": "f4055d3a-6c15-49da-d08b-856e0bcbaa80",
        "colab": {
          "base_uri": "https://localhost:8080/",
          "height": 295
        }
      },
      "source": [
        "# Fonction de survie hommes\n",
        "\n",
        "kmf_H.fit(T[H], event_observed=E[H], label=\"Survie brute\")\n",
        "gptz_H.fit(T[H], event_observed=E[H], label=\"Gompertz\")\n",
        "sf_H.fit(T[H], E[H], label=\"Splines\")\n",
        "\n",
        "kmf_H.plot_survival_function()\n",
        "gptz_H.plot_survival_function()\n",
        "sf_H.plot_survival_function()\n",
        "\n",
        "plt.xlabel('Age')\n",
        "plt.ylabel('Proba')\n",
        "plt.title('Estimation de la fonction de survie')\n",
        "plt.show()"
      ],
      "execution_count": 0,
      "outputs": [
        {
          "output_type": "display_data",
          "data": {
            "image/png": "[encoded data removed]",
            "text/plain": [
              "<Figure size 432x288 with 1 Axes>"
            ]
          },
          "metadata": {
            "tags": []
          }
        }
      ]
    },
    {
      "cell_type": "code",
      "metadata": {
        "id": "dYwjytoPt7Kq",
        "colab_type": "code",
        "outputId": "f7f150dc-3e61-4fe0-869c-c6e14d94950d",
        "colab": {
          "base_uri": "https://localhost:8080/",
          "height": 295
        }
      },
      "source": [
        "# Taux hommes\n",
        "\n",
        "times_H = np.linspace(0, 95, 96)\n",
        "taux_lisses_Gompertz_H = gptz_H.hazard_at_times(times_H).values\n",
        "taux_lisses_splines_H = sf_H.hazard_at_times(times_H).values\n",
        "\n",
        "plt.plot(times_H, taux_bruts_H, label='Taux Bruts')\n",
        "plt.plot(times_H, taux_lisses_Gompertz_H, label='Gompertz')\n",
        "plt.plot(times_H, taux_lisses_splines_H, label='Splines')\n",
        "plt.legend()\n",
        "\n",
        "plt.xlabel('Age')\n",
        "plt.ylabel('Proba')\n",
        "plt.title('Estimation des taux de mortalité')\n",
        "plt.show()"
      ],
      "execution_count": 0,
      "outputs": [
        {
          "output_type": "display_data",
          "data": {
            "image/png": "[encoded data removed]",
            "text/plain": [
              "<Figure size 432x288 with 1 Axes>"
            ]
          },
          "metadata": {
            "tags": []
          }
        }
      ]
    },
    {
      "cell_type": "markdown",
      "metadata": {
        "id": "_-8Y4zVnpiuM",
        "colab_type": "text"
      },
      "source": [
        "Les deux lissages sont graphiquement très proches l'un de l'autre pour les hommes."
      ]
    },
    {
      "cell_type": "code",
      "metadata": {
        "id": "flXLD5uJh4M3",
        "colab_type": "code",
        "outputId": "a344399d-196a-4944-b8c8-345a43e25ea5",
        "colab": {
          "base_uri": "https://localhost:8080/",
          "height": 295
        }
      },
      "source": [
        "# Fonction de survie femmes\n",
        "\n",
        "kmf_F.fit(T[~H], event_observed=E[~H], label=\"Survie brute\")\n",
        "gptz_F.fit(T[~H], event_observed=E[~H], label=\"Gompertz\")\n",
        "sf_F.fit(T[~H], E[~H], label=\"Splines\")\n",
        "\n",
        "kmf_F.plot_survival_function()\n",
        "gptz_F.plot_survival_function()\n",
        "sf_F.plot_survival_function()\n",
        "\n",
        "plt.xlabel('Age')\n",
        "plt.ylabel('Proba')\n",
        "plt.title('Estimation de la fonction de survie')\n",
        "plt.show()"
      ],
      "execution_count": 0,
      "outputs": [
        {
          "output_type": "display_data",
          "data": {
            "image/png": "[encoded data removed]",
            "text/plain": [
              "<Figure size 432x288 with 1 Axes>"
            ]
          },
          "metadata": {
            "tags": []
          }
        }
      ]
    },
    {
      "cell_type": "code",
      "metadata": {
        "id": "ugpypbVQv1kb",
        "colab_type": "code",
        "outputId": "10c5c97c-a698-4dcd-9199-1c905fa7844f",
        "colab": {
          "base_uri": "https://localhost:8080/",
          "height": 295
        }
      },
      "source": [
        "times_F = np.linspace(0, 96, 97)\n",
        "\n",
        "taux_lisses_Gompertz_F = gptz_F.hazard_at_times(times_F).values\n",
        "taux_lisses_splines_F = sf_F.hazard_at_times(times_F).values\n",
        "\n",
        "plt.plot(times_F, taux_bruts_F, label='Taux Bruts')\n",
        "plt.plot(times_F, taux_lisses_Gompertz_F, label='Gompertz')\n",
        "plt.plot(times_F, taux_lisses_splines_F, label='Splines')\n",
        "plt.legend()\n",
        "\n",
        "plt.xlabel('Age')\n",
        "plt.ylabel('Proba')\n",
        "plt.title('Estimation des taux de mortalité')\n",
        "plt.show()"
      ],
      "execution_count": 0,
      "outputs": [
        {
          "output_type": "display_data",
          "data": {
            "image/png": "[encoded data removed]",
            "text/plain": [
              "<Figure size 432x288 with 1 Axes>"
            ]
          },
          "metadata": {
            "tags": []
          }
        }
      ]
    },
    {
      "cell_type": "markdown",
      "metadata": {
        "id": "ZQM-A0J_qhAL",
        "colab_type": "text"
      },
      "source": [
        "En revanche, les deux lissages s'écartent aux grands âges pour les femmes. Le lissage par splines a l'air meilleur. On va confirmer cette intuition avec des tests statistiques."
      ]
    },
    {
      "cell_type": "markdown",
      "metadata": {
        "colab_type": "text",
        "id": "jC8LfHY6beTk"
      },
      "source": [
        "### **c) Tests statistiques**"
      ]
    },
    {
      "cell_type": "markdown",
      "metadata": {
        "id": "_pZKYtkDdUDq",
        "colab_type": "text"
      },
      "source": [
        "Par souci de simplicité, on va réaliser les tests sur la population totale et ne pas séparer les sexes."
      ]
    },
    {
      "cell_type": "markdown",
      "metadata": {
        "colab_type": "text",
        "id": "Wt7G9HWSjM1a"
      },
      "source": [
        "**Test du Chi-2**"
      ]
    },
    {
      "cell_type": "code",
      "metadata": {
        "id": "gs42pILKbhUp",
        "colab_type": "code",
        "colab": {}
      },
      "source": [
        "# Calcul des expositions pour chaque âge x de notre population\n",
        "\n",
        "df_test = pd.DataFrame()\n",
        "df_test['E_x'] = (result_2006['E_xt'] + result_2007['E_xt'] + result_2008['E_xt'] + result_2009['E_xt'] + result_2010['E_xt']\n",
        "+ result_2011['E_xt'] + result_2012['E_xt'] + result_2013['E_xt'])/8\n",
        "df_test = df_test.loc[(df_test.index >= 60) & (df_test.index <= 80)]"
      ],
      "execution_count": 0,
      "outputs": []
    },
    {
      "cell_type": "code",
      "metadata": {
        "id": "Fpxe8p_nigdW",
        "colab_type": "code",
        "colab": {}
      },
      "source": [
        "times = np.linspace(60, 80, 21)\n",
        "\n",
        "kmf = KaplanMeierFitter()\n",
        "kmf.fit(T, event_observed=E)\n",
        "survival_km = kmf.survival_function_\n",
        "taux_bruts = -survival_km.pct_change()['KM_estimate'].values[60:81]\n",
        "\n",
        "gptz = GompertzFitter()\n",
        "gptz.fit(T, event_observed=E)\n",
        "taux_lisses_Gompertz = gptz.hazard_at_times(times).values\n",
        "\n",
        "knots = np.percentile(T.loc[E.astype(bool)], [0, 50, 75, 100])\n",
        "sf = SplineFitter(knots)\n",
        "sf.fit(T, E)\n",
        "taux_lisses_splines = sf.hazard_at_times(times).values"
      ],
      "execution_count": 0,
      "outputs": []
    },
    {
      "cell_type": "code",
      "metadata": {
        "id": "aiinIKCDe2Lw",
        "colab_type": "code",
        "colab": {}
      },
      "source": [
        "df_test['taux bruts'] = taux_bruts\n",
        "df_test['taux Gompertz'] = taux_lisses_Gompertz\n",
        "df_test['taux splines'] = taux_lisses_splines\n",
        "df_test['Gompertz-bruts'] = df_test['taux Gompertz'] - df_test['taux bruts']\n",
        "df_test['splines-bruts'] = df_test['taux splines'] - df_test['taux bruts']"
      ],
      "execution_count": 0,
      "outputs": []
    },
    {
      "cell_type": "code",
      "metadata": {
        "id": "Cde7RlWIqK01",
        "colab_type": "code",
        "colab": {}
      },
      "source": [
        "# Calcul des statistiques de test\n",
        "\n",
        "statistique_Gompertz = (df_test['E_x']*(df_test['taux bruts'] - df_test['taux Gompertz'])**2/df_test['taux Gompertz']).sum()\n",
        "statistique_splines = (df_test['E_x']*(df_test['taux bruts'] - df_test['taux splines'])**2/df_test['taux splines']).sum()"
      ],
      "execution_count": 0,
      "outputs": []
    },
    {
      "cell_type": "code",
      "metadata": {
        "id": "xfbIFziTruWA",
        "colab_type": "code",
        "outputId": "f9a3bc6d-5a76-481c-dfbd-4fe8906f7357",
        "colab": {
          "base_uri": "https://localhost:8080/",
          "height": 33
        }
      },
      "source": [
        "statistique_Gompertz"
      ],
      "execution_count": 0,
      "outputs": [
        {
          "output_type": "execute_result",
          "data": {
            "text/plain": [
              "10.125490583849604"
            ]
          },
          "metadata": {
            "tags": []
          },
          "execution_count": 82
        }
      ]
    },
    {
      "cell_type": "code",
      "metadata": {
        "id": "T5uaK1VMrwSz",
        "colab_type": "code",
        "outputId": "a56c7a57-f64a-45d5-897e-8c795e3f82e1",
        "colab": {
          "base_uri": "https://localhost:8080/",
          "height": 33
        }
      },
      "source": [
        "statistique_splines"
      ],
      "execution_count": 0,
      "outputs": [
        {
          "output_type": "execute_result",
          "data": {
            "text/plain": [
              "6.060542838175609"
            ]
          },
          "metadata": {
            "tags": []
          },
          "execution_count": 83
        }
      ]
    },
    {
      "cell_type": "code",
      "metadata": {
        "id": "5PRGFh8fr9BM",
        "colab_type": "code",
        "outputId": "a5bdf149-6c1e-46bc-c415-1f3059be7efe",
        "colab": {
          "base_uri": "https://localhost:8080/",
          "height": 33
        }
      },
      "source": [
        "stats.chi2.sf(statistique_Gompertz, 20, loc=0, scale=1)"
      ],
      "execution_count": 0,
      "outputs": [
        {
          "output_type": "execute_result",
          "data": {
            "text/plain": [
              "0.9658389246985615"
            ]
          },
          "metadata": {
            "tags": []
          },
          "execution_count": 84
        }
      ]
    },
    {
      "cell_type": "code",
      "metadata": {
        "id": "lmBEx2STzop8",
        "colab_type": "code",
        "outputId": "dfc16932-89f7-4fc4-8b02-1a96d3d9ac75",
        "colab": {
          "base_uri": "https://localhost:8080/",
          "height": 33
        }
      },
      "source": [
        "stats.chi2.sf(statistique_splines, 20, loc=0, scale=1)"
      ],
      "execution_count": 0,
      "outputs": [
        {
          "output_type": "execute_result",
          "data": {
            "text/plain": [
              "0.9988132514459961"
            ]
          },
          "metadata": {
            "tags": []
          },
          "execution_count": 85
        }
      ]
    },
    {
      "cell_type": "markdown",
      "metadata": {
        "id": "4Pds7_aqsn7d",
        "colab_type": "text"
      },
      "source": [
        "On trouve une plus grande p-valeur pour la statistique du lissage par splines, ce qui conforte notre intuition graphique."
      ]
    },
    {
      "cell_type": "markdown",
      "metadata": {
        "id": "7Y-fuIKhjUOQ",
        "colab_type": "text"
      },
      "source": [
        "**Test des signes**"
      ]
    },
    {
      "cell_type": "code",
      "metadata": {
        "id": "Y7ced1QWzs2R",
        "colab_type": "code",
        "colab": {}
      },
      "source": [
        "import statsmodels.stats.descriptivestats as ssd"
      ],
      "execution_count": 0,
      "outputs": []
    },
    {
      "cell_type": "code",
      "metadata": {
        "id": "Z7WCMknrpEEg",
        "colab_type": "code",
        "outputId": "5eae0928-2794-4629-b339-8eb639a5da50",
        "colab": {
          "base_uri": "https://localhost:8080/",
          "height": 33
        }
      },
      "source": [
        "ssd.sign_test(df_test['Gompertz-bruts'], mu0=0)"
      ],
      "execution_count": 0,
      "outputs": [
        {
          "output_type": "execute_result",
          "data": {
            "text/plain": [
              "(9.5, 2.09808349609375e-05)"
            ]
          },
          "metadata": {
            "tags": []
          },
          "execution_count": 87
        }
      ]
    },
    {
      "cell_type": "code",
      "metadata": {
        "id": "52bKK56TqOFY",
        "colab_type": "code",
        "outputId": "c65e46f7-d052-4cfc-d94d-4a4b0f248f78",
        "colab": {
          "base_uri": "https://localhost:8080/",
          "height": 33
        }
      },
      "source": [
        "ssd.sign_test(df_test['splines-bruts'], mu0=0)"
      ],
      "execution_count": 0,
      "outputs": [
        {
          "output_type": "execute_result",
          "data": {
            "text/plain": [
              "(8.5, 0.00022125244140625)"
            ]
          },
          "metadata": {
            "tags": []
          },
          "execution_count": 88
        }
      ]
    },
    {
      "cell_type": "markdown",
      "metadata": {
        "id": "sc4OH6rEs4za",
        "colab_type": "text"
      },
      "source": [
        "Ici les p-values sont un peu aberrantes (erreur dans nos calculs?) mais on retrouve encore une plus grande p-valeur dans le cas du lissage par splines."
      ]
    },
    {
      "cell_type": "markdown",
      "metadata": {
        "id": "2bBUDB-xtIaL",
        "colab_type": "text"
      },
      "source": [
        "Pour finir de se convaincre que le meilleur lissage est la méthode des splines polynomiaux, on fait appel à la fonction *find_best_parametric_model()* du package *lifelines*. Cette fonction calcule les critères d'information d'Akaike d'un ensemble de modèles donnés (Gompertz, Weibull, splines...) et sélectionne le modèle de plus faible critère."
      ]
    },
    {
      "cell_type": "markdown",
      "metadata": {
        "id": "2Q5L3xUGsoQV",
        "colab_type": "text"
      },
      "source": [
        "**Critère AIC**"
      ]
    },
    {
      "cell_type": "code",
      "metadata": {
        "id": "LAACJ6fvqmCp",
        "colab_type": "code",
        "outputId": "349de711-fc0e-4a37-9613-7f8bb165a4be",
        "colab": {
          "base_uri": "https://localhost:8080/",
          "height": 33
        }
      },
      "source": [
        "best_model, best_aic_ = find_best_parametric_model(T, E)\n",
        "\n",
        "print(best_model)"
      ],
      "execution_count": 0,
      "outputs": [
        {
          "output_type": "stream",
          "text": [
            "<lifelines.SplineFitter:\"Spline_estimate\", fitted with 642856 total observations, 625099 right-censored observations>\n"
          ],
          "name": "stdout"
        }
      ]
    },
    {
      "cell_type": "markdown",
      "metadata": {
        "id": "XHdZz8O9u2DB",
        "colab_type": "text"
      },
      "source": [
        "### **3.4) Fermeture de la table**"
      ]
    },
    {
      "cell_type": "markdown",
      "metadata": {
        "id": "kO4dWWstu8jC",
        "colab_type": "text"
      },
      "source": [
        "Les modèles de lissage précédents ne sont pas adaptés aux grands âges (leur forme exponentielle les fera dépasser 1.0 avant des âges tout à fait atteignables). On va utiliser une autre méthode pour calculer les probabilités des grands âges."
      ]
    },
    {
      "cell_type": "markdown",
      "metadata": {
        "id": "SPejgJAGvfhl",
        "colab_type": "text"
      },
      "source": [
        "On utilise la méthode de Denuit et Goderniaux, qui consiste en une régression log-quadratique des taux de mortalité. On choisit un âge limite de 130 ans.\n",
        "\n",
        "Précisément, il s'agit de trouver les coefficients $a$, $b$ et $c$ qui minimisent l'écart quadratique entre les fonctions $x \\mapsto \\ln(\\hat q_x)$ et $x \\mapsto a + bx + cx^2$, sous les contraintes $q_{130} = 0$ et $q_{130}' = 0$."
      ]
    },
    {
      "cell_type": "code",
      "metadata": {
        "id": "w2A8_oJOVoBh",
        "colab_type": "code",
        "colab": {}
      },
      "source": [
        "taux_lisses_splines_H[0] = taux_lisses_splines_H[1]\n",
        "taux_lisses_splines_F[0] = taux_lisses_splines_F[1]\n",
        "table_experience_H = np.log(taux_lisses_splines_H)\n",
        "table_experience_F = np.log(taux_lisses_splines_F)"
      ],
      "execution_count": 0,
      "outputs": []
    },
    {
      "cell_type": "code",
      "metadata": {
        "id": "arpPnko94nlk",
        "colab_type": "code",
        "outputId": "7c757f34-7e5b-4834-bcfc-075c9deec745",
        "colab": {
          "base_uri": "https://localhost:8080/",
          "height": 508
        }
      },
      "source": [
        "# Détermination des coefficients hommes\n",
        "\n",
        "def func(x, a, b, c):\n",
        "    return c*x**2 + b*x + a\n",
        "\n",
        "x = times_H\n",
        "y = table_experience_H\n",
        "\n",
        "pmodel = Model(func)\n",
        "params = Parameters()\n",
        "params.add('c', value=1)\n",
        "params.add('b', expr='-260*c')\n",
        "params.add('a', expr='16900*c')\n",
        "\n",
        "result_H = pmodel.fit(y, params, x=x)\n",
        "\n",
        "print(result_H.fit_report())\n",
        "\n",
        "xnew = np.linspace(x[0], x[-1], 1000)\n",
        "ynew = result_H.eval(x=xnew)\n",
        "\n",
        "plt.plot(x, np.exp(y), 'b-', label='taux lissés Hommes')\n",
        "plt.plot(xnew, np.exp(ynew), 'k--', label='fermeture Hommes')\n",
        "plt.legend()\n",
        "plt.show()"
      ],
      "execution_count": 0,
      "outputs": [
        {
          "output_type": "stream",
          "text": [
            "[[Model]]\n",
            "    Model(func)\n",
            "[[Fit Statistics]]\n",
            "    # fitting method   = leastsq\n",
            "    # function evals   = 4\n",
            "    # data points      = 96\n",
            "    # variables        = 1\n",
            "    chi-square         = 34.1972225\n",
            "    reduced chi-square = 0.35997076\n",
            "    Akaike info crit   = -97.0915613\n",
            "    Bayesian info crit = -94.5272131\n",
            "[[Variables]]\n",
            "    c: -8.1601e-04 +/- 6.9005e-06 (0.85%) (init = 1)\n",
            "    b:  0.21216193 +/- 0.00179414 (0.85%) == '-260*c'\n",
            "    a: -13.7905255 +/- 0.11661920 (0.85%) == '16900*c'\n"
          ],
          "name": "stdout"
        },
        {
          "output_type": "display_data",
          "data": {
            "image/png": "[encoded data removed]",
            "text/plain": [
              "<Figure size 432x288 with 1 Axes>"
            ]
          },
          "metadata": {
            "tags": []
          }
        }
      ]
    },
    {
      "cell_type": "code",
      "metadata": {
        "id": "viy67FVT77N6",
        "colab_type": "code",
        "outputId": "bbc09b5d-40e9-4ce6-8634-80764f0cf75a",
        "colab": {
          "base_uri": "https://localhost:8080/",
          "height": 508
        }
      },
      "source": [
        "# Détermination des coefficients femmes\n",
        "\n",
        "x = times_F\n",
        "y = table_experience_F\n",
        "\n",
        "pmodel = Model(func)\n",
        "params = Parameters()\n",
        "params.add('c', value=1)\n",
        "params.add('b', expr='-260*c')\n",
        "params.add('a', expr='16900*c')\n",
        "\n",
        "result_F = pmodel.fit(y, params, x=x)\n",
        "\n",
        "print(result_F.fit_report())\n",
        "\n",
        "xnew = np.linspace(x[0], x[-1], 1000)\n",
        "ynew = result_F.eval(x=xnew)\n",
        "\n",
        "plt.plot(x, np.exp(y), 'r-', label='taux lissés Femmes')\n",
        "plt.plot(xnew, np.exp(ynew), 'k--', label='fermeture Femmes')\n",
        "plt.legend()\n",
        "plt.show()"
      ],
      "execution_count": 0,
      "outputs": [
        {
          "output_type": "stream",
          "text": [
            "[[Model]]\n",
            "    Model(func)\n",
            "[[Fit Statistics]]\n",
            "    # fitting method   = leastsq\n",
            "    # function evals   = 4\n",
            "    # data points      = 97\n",
            "    # variables        = 1\n",
            "    chi-square         = 91.5598187\n",
            "    reduced chi-square = 0.95374811\n",
            "    Akaike info crit   = -3.59869101\n",
            "    Bayesian info crit = -1.02398003\n",
            "[[Variables]]\n",
            "    c: -8.9520e-04 +/- 1.1231e-05 (1.25%) (init = 1)\n",
            "    b:  0.23275150 +/- 0.00292013 (1.25%) == '-260*c'\n",
            "    a: -15.1288472 +/- 0.18980818 (1.25%) == '16900*c'\n"
          ],
          "name": "stdout"
        },
        {
          "output_type": "display_data",
          "data": {
            "image/png": "[encoded data removed]",
            "text/plain": [
              "<Figure size 432x288 with 1 Axes>"
            ]
          },
          "metadata": {
            "tags": []
          }
        }
      ]
    },
    {
      "cell_type": "code",
      "metadata": {
        "id": "5vvJ1ZCH1XS5",
        "colab_type": "code",
        "colab": {}
      },
      "source": [
        "def fermeture_H(x):\n",
        "  coeffs = result_H.values\n",
        "  return exp(coeffs['c']*x**2 + coeffs['b']*x + coeffs['a'])\n",
        "\n",
        "def fermeture_F(x):\n",
        "  coeffs = result_F.values\n",
        "  return exp(coeffs['c']*x**2 + coeffs['b']*x + coeffs['a'])"
      ],
      "execution_count": 0,
      "outputs": []
    },
    {
      "cell_type": "code",
      "metadata": {
        "id": "myN02Q0KC9M2",
        "colab_type": "code",
        "colab": {}
      },
      "source": [
        "# On conserve toutes les valeurs des taux lissés jusqu'à 95 ans pour les Hommes\n",
        "# les taux allant de 96 à 130 ans sont extrapolés avec la fonction de fermeture\n",
        "\n",
        "annees_fermeture_H = np.linspace(96, 130, 35)\n",
        "valeurs_fermeture_H = [fermeture_H(x) for x in annees_fermeture_H]\n",
        "\n",
        "table_fermee_H = pd.DataFrame()\n",
        "table_fermee_H['q_x'] = np.append(np.exp(table_experience_H), valeurs_fermeture_H)"
      ],
      "execution_count": 0,
      "outputs": []
    },
    {
      "cell_type": "code",
      "metadata": {
        "id": "2BFb3Rz0I3jp",
        "colab_type": "code",
        "colab": {}
      },
      "source": [
        "# on conserve toutes les valeurs des taux lissés jusqu'à 96 ans pour les Femmes\n",
        "# les taux allant de 97 à 130 ans sont extrapolés avec la fonction de fermeture\n",
        "\n",
        "annees_fermeture_F = np.linspace(97, 130, 34)\n",
        "valeurs_fermeture_F = [fermeture_F(x) for x in annees_fermeture_F]\n",
        "\n",
        "table_fermee_F = pd.DataFrame()\n",
        "table_fermee_F['q_x'] = np.append(np.exp(table_experience_F), valeurs_fermeture_F)"
      ],
      "execution_count": 0,
      "outputs": []
    },
    {
      "cell_type": "code",
      "metadata": {
        "id": "hkWjb3pFEzqI",
        "colab_type": "code",
        "outputId": "68f74a9b-363e-4af3-d674-e9c1c0506e5c",
        "colab": {
          "base_uri": "https://localhost:8080/",
          "height": 391
        }
      },
      "source": [
        "table_fermee_H"
      ],
      "execution_count": 0,
      "outputs": [
        {
          "output_type": "execute_result",
          "data": {
            "text/html": [
              "<div>\n",
              "<style scoped>\n",
              "    .dataframe tbody tr th:only-of-type {\n",
              "        vertical-align: middle;\n",
              "    }\n",
              "\n",
              "    .dataframe tbody tr th {\n",
              "        vertical-align: top;\n",
              "    }\n",
              "\n",
              "    .dataframe thead th {\n",
              "        text-align: right;\n",
              "    }\n",
              "</style>\n",
              "<table border=\"1\" class=\"dataframe\">\n",
              "  <thead>\n",
              "    <tr style=\"text-align: right;\">\n",
              "      <th></th>\n",
              "      <th>q_x</th>\n",
              "    </tr>\n",
              "  </thead>\n",
              "  <tbody>\n",
              "    <tr>\n",
              "      <th>0</th>\n",
              "      <td>0.000003</td>\n",
              "    </tr>\n",
              "    <tr>\n",
              "      <th>1</th>\n",
              "      <td>0.000003</td>\n",
              "    </tr>\n",
              "    <tr>\n",
              "      <th>2</th>\n",
              "      <td>0.000002</td>\n",
              "    </tr>\n",
              "    <tr>\n",
              "      <th>3</th>\n",
              "      <td>0.000003</td>\n",
              "    </tr>\n",
              "    <tr>\n",
              "      <th>4</th>\n",
              "      <td>0.000004</td>\n",
              "    </tr>\n",
              "    <tr>\n",
              "      <th>...</th>\n",
              "      <td>...</td>\n",
              "    </tr>\n",
              "    <tr>\n",
              "      <th>126</th>\n",
              "      <td>0.987029</td>\n",
              "    </tr>\n",
              "    <tr>\n",
              "      <th>127</th>\n",
              "      <td>0.992683</td>\n",
              "    </tr>\n",
              "    <tr>\n",
              "      <th>128</th>\n",
              "      <td>0.996741</td>\n",
              "    </tr>\n",
              "    <tr>\n",
              "      <th>129</th>\n",
              "      <td>0.999184</td>\n",
              "    </tr>\n",
              "    <tr>\n",
              "      <th>130</th>\n",
              "      <td>1.000000</td>\n",
              "    </tr>\n",
              "  </tbody>\n",
              "</table>\n",
              "<p>131 rows × 1 columns</p>\n",
              "</div>"
            ],
            "text/plain": [
              "          q_x\n",
              "0    0.000003\n",
              "1    0.000003\n",
              "2    0.000002\n",
              "3    0.000003\n",
              "4    0.000004\n",
              "..        ...\n",
              "126  0.987029\n",
              "127  0.992683\n",
              "128  0.996741\n",
              "129  0.999184\n",
              "130  1.000000\n",
              "\n",
              "[131 rows x 1 columns]"
            ]
          },
          "metadata": {
            "tags": []
          },
          "execution_count": 96
        }
      ]
    },
    {
      "cell_type": "code",
      "metadata": {
        "id": "49AczZJ3KK3g",
        "colab_type": "code",
        "outputId": "9cb9046c-05b2-47b9-bd8c-03e03d83b92a",
        "colab": {
          "base_uri": "https://localhost:8080/",
          "height": 391
        }
      },
      "source": [
        "table_fermee_F"
      ],
      "execution_count": 0,
      "outputs": [
        {
          "output_type": "execute_result",
          "data": {
            "text/html": [
              "<div>\n",
              "<style scoped>\n",
              "    .dataframe tbody tr th:only-of-type {\n",
              "        vertical-align: middle;\n",
              "    }\n",
              "\n",
              "    .dataframe tbody tr th {\n",
              "        vertical-align: top;\n",
              "    }\n",
              "\n",
              "    .dataframe thead th {\n",
              "        text-align: right;\n",
              "    }\n",
              "</style>\n",
              "<table border=\"1\" class=\"dataframe\">\n",
              "  <thead>\n",
              "    <tr style=\"text-align: right;\">\n",
              "      <th></th>\n",
              "      <th>q_x</th>\n",
              "    </tr>\n",
              "  </thead>\n",
              "  <tbody>\n",
              "    <tr>\n",
              "      <th>0</th>\n",
              "      <td>0.000002</td>\n",
              "    </tr>\n",
              "    <tr>\n",
              "      <th>1</th>\n",
              "      <td>0.000002</td>\n",
              "    </tr>\n",
              "    <tr>\n",
              "      <th>2</th>\n",
              "      <td>0.000002</td>\n",
              "    </tr>\n",
              "    <tr>\n",
              "      <th>3</th>\n",
              "      <td>0.000002</td>\n",
              "    </tr>\n",
              "    <tr>\n",
              "      <th>4</th>\n",
              "      <td>0.000002</td>\n",
              "    </tr>\n",
              "    <tr>\n",
              "      <th>...</th>\n",
              "      <td>...</td>\n",
              "    </tr>\n",
              "    <tr>\n",
              "      <th>126</th>\n",
              "      <td>0.985779</td>\n",
              "    </tr>\n",
              "    <tr>\n",
              "      <th>127</th>\n",
              "      <td>0.991976</td>\n",
              "    </tr>\n",
              "    <tr>\n",
              "      <th>128</th>\n",
              "      <td>0.996426</td>\n",
              "    </tr>\n",
              "    <tr>\n",
              "      <th>129</th>\n",
              "      <td>0.999105</td>\n",
              "    </tr>\n",
              "    <tr>\n",
              "      <th>130</th>\n",
              "      <td>1.000000</td>\n",
              "    </tr>\n",
              "  </tbody>\n",
              "</table>\n",
              "<p>131 rows × 1 columns</p>\n",
              "</div>"
            ],
            "text/plain": [
              "          q_x\n",
              "0    0.000002\n",
              "1    0.000002\n",
              "2    0.000002\n",
              "3    0.000002\n",
              "4    0.000002\n",
              "..        ...\n",
              "126  0.985779\n",
              "127  0.991976\n",
              "128  0.996426\n",
              "129  0.999105\n",
              "130  1.000000\n",
              "\n",
              "[131 rows x 1 columns]"
            ]
          },
          "metadata": {
            "tags": []
          },
          "execution_count": 97
        }
      ]
    },
    {
      "cell_type": "markdown",
      "metadata": {
        "id": "GRGxbmiQuJ_6",
        "colab_type": "text"
      },
      "source": [
        "Enfin, on code une fonction qui reprend les étapes précédentes. La fonction *get_life_table()* prend en entrées l'année (type *int*) et le sexe ('M' ou 'F', type *str*) et renvoie la table fermée correspondante. On y fera appel dans la partie 4)."
      ]
    },
    {
      "cell_type": "code",
      "metadata": {
        "id": "rBUx2kO41bn4",
        "colab_type": "code",
        "colab": {}
      },
      "source": [
        "def get_life_table(annee, sexe):\n",
        "  # annee = int, sexe = 'M' ou 'F'\n",
        "  population = df_contrats.loc[( df_contrats['DatEffet']<=pd.to_datetime(str(annee) + '-01-01') )  &  ( df_contrats['FinObs']>pd.to_datetime(str(annee) + '-01-01') )]\n",
        "  # ajout d'une colonne observed\n",
        "  # 1 si le décès est observé pendant l'année, 0 sinon\n",
        "  population['Observed'] = population['DatDC'].apply(lambda x: 1 if x.year==annee else 0)\n",
        "  population['Observed'] = population['Observed'].apply(lambda x: int(x))\n",
        "  # ajout d'une colonne duration\n",
        "  population.loc[population['Observed']==1, 'Duration'] = population['AgeDC']\n",
        "  # ici la borne sup du temps = 01 janvier de l'année considérée\n",
        "  # si on meurt/résilie après dans la fenêtre, ou qu'on est encore là au 31-12-2013 alors\n",
        "  population.loc[(population['CodSitu']=='En Cours')|(pd.to_datetime(population['DatRes'].values).year>annee)|(pd.to_datetime(population['DatDC'].values).year>annee), 'Duration'] = (pd.to_datetime(str(annee) + '-12-31') - pd.to_datetime(population.loc[(population['CodSitu']=='En Cours')|(pd.to_datetime(population['DatRes'].values).year>annee)|(pd.to_datetime(population['DatDC'].values).year>annee), 'DatNaiss'].values)).days/365.25\n",
        "  population.loc[pd.to_datetime(population['DatRes'].values).year==annee, 'Duration'] = (pd.to_datetime(population.loc[pd.to_datetime(population['DatRes'].values).year==annee, 'DatRes'].values) - pd.to_datetime(population.loc[pd.to_datetime(population['DatRes'].values).year==annee, 'DatNaiss'].values)).days/365.25\n",
        "  population['Duration'] = population['Duration'].apply(lambda x: int(x))\n",
        "\n",
        "  T = population[\"Duration\"]\n",
        "  E = population[\"Observed\"]\n",
        "\n",
        "  H = (population[\"Sexe\"] == sexe)\n",
        "  knots = np.percentile(T[H].loc[E[H].astype(bool)], [0, 50, 75, 100])\n",
        "  sf = SplineFitter(knots)\n",
        "  sf.fit(T[H], E[H])\n",
        "\n",
        "  if sexe == 'M':\n",
        "    times = np.linspace(0, 95, 96)\n",
        "    annees_fermeture = np.linspace(96, 130, 35)\n",
        "  else:\n",
        "    times = np.linspace(0, 96, 97)\n",
        "    annees_fermeture = np.linspace(97, 130, 34)\n",
        "\n",
        "  taux_lisses_splines = sf.hazard_at_times(times).values\n",
        "  taux_lisses_splines[0] = taux_lisses_splines[1]\n",
        "\n",
        "  table_experience = np.log(np.abs(taux_lisses_splines))\n",
        "\n",
        "  x = times\n",
        "  y = table_experience\n",
        "  pmodel = Model(func)\n",
        "  params = Parameters()\n",
        "  params.add('c', value=1)\n",
        "  params.add('b', expr='-260*c')\n",
        "  params.add('a', expr='16900*c')\n",
        "  result = pmodel.fit(y, params, x=x)\n",
        "\n",
        "  coeffs = result.values\n",
        "\n",
        "  valeurs_fermeture = [exp(coeffs['c']*x**2 + coeffs['b']*x + coeffs['a']) for x in annees_fermeture]\n",
        "\n",
        "  table_fermee = pd.DataFrame()\n",
        "  table_fermee['q_x'] = np.append(np.exp(table_experience), valeurs_fermeture)\n",
        "\n",
        "  return table_fermee"
      ],
      "execution_count": 0,
      "outputs": []
    },
    {
      "cell_type": "markdown",
      "metadata": {
        "colab_type": "text",
        "id": "jMqlduHe28qj"
      },
      "source": [
        "# **4) Table de mortalité prospective**"
      ]
    },
    {
      "cell_type": "markdown",
      "metadata": {
        "colab_type": "text",
        "id": "afh3UIEX3H4p"
      },
      "source": [
        "## **4.1) Modèle de Lee-Carter**"
      ]
    },
    {
      "cell_type": "markdown",
      "metadata": {
        "id": "xd6Eq2Wu3kVe",
        "colab_type": "text"
      },
      "source": [
        "$$ ln(\\mu_{x,t}) = \\alpha_x + \\beta_x * k_t + \\epsilon_{x,t} \n",
        "\\Longrightarrow \n",
        "\\\\ (\\alpha_x, \\beta_x, k_t) = argmin \\sum_{x,t} (ln(\\mu_{x,t}) - \\alpha_x - \\beta_x * k_t)$$\n",
        "Sous les constraintes:\n",
        "$ \\sum_{x = x_1}^{x_m} \\beta_x = 1$  et  $ \\sum_{t = t_1}^{t_n} k_t = 0$ \n",
        " \n",
        "Nous estimerons ces paramères par moindres carrés ordinaires:\n",
        "\n",
        "\n",
        "$$ LS(\\alpha, \\beta, k) = \\sum_{x,t} (ln(\\mu_{x,t}^*) - \\alpha_x - \\beta_x * k_t)^2$$\n",
        "\n",
        "En dérivant par rapport aux variables cherchées $(\\alpha_x, \\beta_x, k_t)$, on obtient:\n",
        "\n",
        "$$ \\alpha_x = \\frac{\\sum_{t}ln(\\mu_{x,t})}{t_n-t_1-1}$$\n",
        "\n",
        "\n",
        "Les estimations de $\\beta_x$ et $k_t$ sont obtenues en utilisant la décomposition en valeurs singulières de la matrice M = $(ln(\\mu_{x_i,t_j}) − \\alpha_{x_i} )_{i,j}$. En particulier, étant donnée la décomposition $M = USV^T$, les paramètres ont été estimés comme suit:\n",
        "$$\\beta_x = \\frac{u_1}{ \\sum_{j = 1}^{x_m-x_1+1} u_{1j} } $$\n",
        "$$ k_t = (\\sum_{j = 1}^{x_m-x_1+1} u_{1j})s_1v_1^T$$\n",
        "avec:\\\n",
        "$u_1$ le vecteur propre correspondant à la plus grande valeur propre de la matrice $MM^T$\\\n",
        "$v_1$ le vecteur propre correspondant à la plus grande valeur propre de la matrice $M^TM$\\\n",
        "$s_1$ la plus grande valeur propre des matrices U ou V"
      ]
    },
    {
      "cell_type": "code",
      "metadata": {
        "id": "C-77-SUc6mb8",
        "colab_type": "code",
        "colab": {}
      },
      "source": [
        "def Tx_Brut_fct(sexe):\n",
        "  t1 = 2006\n",
        "  tn = 2013\n",
        "  Nt = 2013 - 2006 + 1\n",
        "  Nx = len(get_life_table(2006, sexe))\n",
        "  Tx = list()\n",
        "  Tt = list()\n",
        "  qx = list()\n",
        "  for t in range(2006,2014):\n",
        "    qx = qx + list(get_life_table(t, sexe).q_x.values)\n",
        "    Tt = Tt + [t for x in range(0,Nx)]\n",
        "    Tx = Tx + [x for x in range(0,Nx)]\n",
        "  Tx_Brut = pd.DataFrame()\n",
        "  Tx_Brut['val'] = qx\n",
        "  Tx_Brut['t'] = Tt\n",
        "  Tx_Brut['x'] = Tx\n",
        "  return(Tx_Brut)\n",
        "  "
      ],
      "execution_count": 0,
      "outputs": []
    },
    {
      "cell_type": "code",
      "metadata": {
        "id": "EZaXCEzUKQn3",
        "colab_type": "code",
        "colab": {}
      },
      "source": [
        "sexe = \"M\"\n",
        "t1 = 2006\n",
        "tn = 2013\n",
        "Nt = 2013 - 2006 + 1\n",
        "Nx = len(get_life_table(2006, sexe))\n",
        "TB = Tx_Brut_fct(sexe)"
      ],
      "execution_count": 0,
      "outputs": []
    },
    {
      "cell_type": "code",
      "metadata": {
        "id": "dr3ZEkVud2vq",
        "colab_type": "code",
        "colab": {}
      },
      "source": [
        "### Lee Carter implementation\n",
        "\n",
        "alpha = pd.DataFrame()\n",
        "alpha[\"x\"] = TB.x.unique()\n",
        "alpha[\"estimator\"] = np.array([TB[TB[\"x\"]==x].val.apply(lambda x: log(x)).sum() / (tn-t1+1)  for x in alpha.x])\n",
        "M = np.zeros((Nx,Nt), dtype=np.float)\n",
        "for idx,t in enumerate(TB.t.unique()):\n",
        "  # M[:,idx] = np.array([log(Tx_Brut[Tx_Brut[\"x\"]==x][Tx_Brut[\"t\"]==t].values[0]) - alpha[alpha[\"x\"]==x].estimator.values[0]  for x in alpha.x])\n",
        "  M[:,idx] = np.array([TB[TB[\"t\"]==t].val.apply(lambda x: log(x)).iloc[i] - alpha.estimator.iloc[i] for i in range(131)])\n",
        "U,S,V = linalg.svd(M)\n",
        "w1, V1 = linalg.eig(np.dot(M,M.T))\n",
        "w2, V2 = linalg.eig(np.dot(M.T,M))\n",
        "s1 = linalg.eigvals(U).max().real\n",
        "u1 = V1[:,np.argmax(w1)].real\n",
        "v1 = V2[:,np.argmax(w2)].real\n",
        "Z  = u1.sum()\n",
        "beta = pd.DataFrame()\n",
        "beta[\"x\"] = TB.x.unique()\n",
        "beta[\"estimator\"] = (1/Z)*u1\n",
        "k = pd.DataFrame()\n",
        "k[\"t\"] = TB.t.unique()\n",
        "v1 = v1.reshape(len(v1),1)\n",
        "k[\"estimator\"] = Z*s1*v1\n"
      ],
      "execution_count": 0,
      "outputs": []
    },
    {
      "cell_type": "code",
      "metadata": {
        "id": "a01AWgkihphY",
        "colab_type": "code",
        "outputId": "d18330ee-1db5-4aaf-cdb2-bc2e3cca466f",
        "colab": {
          "base_uri": "https://localhost:8080/",
          "height": 391
        }
      },
      "source": [
        "TB"
      ],
      "execution_count": 0,
      "outputs": [
        {
          "output_type": "execute_result",
          "data": {
            "text/html": [
              "<div>\n",
              "<style scoped>\n",
              "    .dataframe tbody tr th:only-of-type {\n",
              "        vertical-align: middle;\n",
              "    }\n",
              "\n",
              "    .dataframe tbody tr th {\n",
              "        vertical-align: top;\n",
              "    }\n",
              "\n",
              "    .dataframe thead th {\n",
              "        text-align: right;\n",
              "    }\n",
              "</style>\n",
              "<table border=\"1\" class=\"dataframe\">\n",
              "  <thead>\n",
              "    <tr style=\"text-align: right;\">\n",
              "      <th></th>\n",
              "      <th>val</th>\n",
              "      <th>t</th>\n",
              "      <th>x</th>\n",
              "    </tr>\n",
              "  </thead>\n",
              "  <tbody>\n",
              "    <tr>\n",
              "      <th>0</th>\n",
              "      <td>2.074839e-05</td>\n",
              "      <td>2006</td>\n",
              "      <td>0</td>\n",
              "    </tr>\n",
              "    <tr>\n",
              "      <th>1</th>\n",
              "      <td>2.074839e-05</td>\n",
              "      <td>2006</td>\n",
              "      <td>1</td>\n",
              "    </tr>\n",
              "    <tr>\n",
              "      <th>2</th>\n",
              "      <td>5.981850e-10</td>\n",
              "      <td>2006</td>\n",
              "      <td>2</td>\n",
              "    </tr>\n",
              "    <tr>\n",
              "      <th>3</th>\n",
              "      <td>1.568717e-12</td>\n",
              "      <td>2006</td>\n",
              "      <td>3</td>\n",
              "    </tr>\n",
              "    <tr>\n",
              "      <th>4</th>\n",
              "      <td>2.669271e-14</td>\n",
              "      <td>2006</td>\n",
              "      <td>4</td>\n",
              "    </tr>\n",
              "    <tr>\n",
              "      <th>...</th>\n",
              "      <td>...</td>\n",
              "      <td>...</td>\n",
              "      <td>...</td>\n",
              "    </tr>\n",
              "    <tr>\n",
              "      <th>1043</th>\n",
              "      <td>9.841679e-01</td>\n",
              "      <td>2013</td>\n",
              "      <td>126</td>\n",
              "    </tr>\n",
              "    <tr>\n",
              "      <th>1044</th>\n",
              "      <td>9.910633e-01</td>\n",
              "      <td>2013</td>\n",
              "      <td>127</td>\n",
              "    </tr>\n",
              "    <tr>\n",
              "      <th>1045</th>\n",
              "      <td>9.960182e-01</td>\n",
              "      <td>2013</td>\n",
              "      <td>128</td>\n",
              "    </tr>\n",
              "    <tr>\n",
              "      <th>1046</th>\n",
              "      <td>9.990031e-01</td>\n",
              "      <td>2013</td>\n",
              "      <td>129</td>\n",
              "    </tr>\n",
              "    <tr>\n",
              "      <th>1047</th>\n",
              "      <td>1.000000e+00</td>\n",
              "      <td>2013</td>\n",
              "      <td>130</td>\n",
              "    </tr>\n",
              "  </tbody>\n",
              "</table>\n",
              "<p>1048 rows × 3 columns</p>\n",
              "</div>"
            ],
            "text/plain": [
              "               val     t    x\n",
              "0     2.074839e-05  2006    0\n",
              "1     2.074839e-05  2006    1\n",
              "2     5.981850e-10  2006    2\n",
              "3     1.568717e-12  2006    3\n",
              "4     2.669271e-14  2006    4\n",
              "...            ...   ...  ...\n",
              "1043  9.841679e-01  2013  126\n",
              "1044  9.910633e-01  2013  127\n",
              "1045  9.960182e-01  2013  128\n",
              "1046  9.990031e-01  2013  129\n",
              "1047  1.000000e+00  2013  130\n",
              "\n",
              "[1048 rows x 3 columns]"
            ]
          },
          "metadata": {
            "tags": []
          },
          "execution_count": 103
        }
      ]
    },
    {
      "cell_type": "code",
      "metadata": {
        "id": "oev2_44GdqOJ",
        "colab_type": "code",
        "outputId": "3d7b58f9-1919-4935-f8d2-80ddf9075823",
        "colab": {
          "base_uri": "https://localhost:8080/",
          "height": 391
        }
      },
      "source": [
        "alpha"
      ],
      "execution_count": 0,
      "outputs": [
        {
          "output_type": "execute_result",
          "data": {
            "text/html": [
              "<div>\n",
              "<style scoped>\n",
              "    .dataframe tbody tr th:only-of-type {\n",
              "        vertical-align: middle;\n",
              "    }\n",
              "\n",
              "    .dataframe tbody tr th {\n",
              "        vertical-align: top;\n",
              "    }\n",
              "\n",
              "    .dataframe thead th {\n",
              "        text-align: right;\n",
              "    }\n",
              "</style>\n",
              "<table border=\"1\" class=\"dataframe\">\n",
              "  <thead>\n",
              "    <tr style=\"text-align: right;\">\n",
              "      <th></th>\n",
              "      <th>x</th>\n",
              "      <th>estimator</th>\n",
              "    </tr>\n",
              "  </thead>\n",
              "  <tbody>\n",
              "    <tr>\n",
              "      <th>0</th>\n",
              "      <td>0</td>\n",
              "      <td>-10.573040</td>\n",
              "    </tr>\n",
              "    <tr>\n",
              "      <th>1</th>\n",
              "      <td>1</td>\n",
              "      <td>-10.573040</td>\n",
              "    </tr>\n",
              "    <tr>\n",
              "      <th>2</th>\n",
              "      <td>2</td>\n",
              "      <td>-17.254378</td>\n",
              "    </tr>\n",
              "    <tr>\n",
              "      <th>3</th>\n",
              "      <td>3</td>\n",
              "      <td>-21.154509</td>\n",
              "    </tr>\n",
              "    <tr>\n",
              "      <th>4</th>\n",
              "      <td>4</td>\n",
              "      <td>-23.879864</td>\n",
              "    </tr>\n",
              "    <tr>\n",
              "      <th>...</th>\n",
              "      <td>...</td>\n",
              "      <td>...</td>\n",
              "    </tr>\n",
              "    <tr>\n",
              "      <th>126</th>\n",
              "      <td>126</td>\n",
              "      <td>-0.052858</td>\n",
              "    </tr>\n",
              "    <tr>\n",
              "      <th>127</th>\n",
              "      <td>127</td>\n",
              "      <td>-0.029733</td>\n",
              "    </tr>\n",
              "    <tr>\n",
              "      <th>128</th>\n",
              "      <td>128</td>\n",
              "      <td>-0.013214</td>\n",
              "    </tr>\n",
              "    <tr>\n",
              "      <th>129</th>\n",
              "      <td>129</td>\n",
              "      <td>-0.003304</td>\n",
              "    </tr>\n",
              "    <tr>\n",
              "      <th>130</th>\n",
              "      <td>130</td>\n",
              "      <td>0.000000</td>\n",
              "    </tr>\n",
              "  </tbody>\n",
              "</table>\n",
              "<p>131 rows × 2 columns</p>\n",
              "</div>"
            ],
            "text/plain": [
              "       x  estimator\n",
              "0      0 -10.573040\n",
              "1      1 -10.573040\n",
              "2      2 -17.254378\n",
              "3      3 -21.154509\n",
              "4      4 -23.879864\n",
              "..   ...        ...\n",
              "126  126  -0.052858\n",
              "127  127  -0.029733\n",
              "128  128  -0.013214\n",
              "129  129  -0.003304\n",
              "130  130   0.000000\n",
              "\n",
              "[131 rows x 2 columns]"
            ]
          },
          "metadata": {
            "tags": []
          },
          "execution_count": 104
        }
      ]
    },
    {
      "cell_type": "code",
      "metadata": {
        "id": "bdBtFJ95fvce",
        "colab_type": "code",
        "outputId": "deaa571e-954a-4cb0-cd03-ad7e95e5db86",
        "colab": {
          "base_uri": "https://localhost:8080/",
          "height": 391
        }
      },
      "source": [
        "beta"
      ],
      "execution_count": 0,
      "outputs": [
        {
          "output_type": "execute_result",
          "data": {
            "text/html": [
              "<div>\n",
              "<style scoped>\n",
              "    .dataframe tbody tr th:only-of-type {\n",
              "        vertical-align: middle;\n",
              "    }\n",
              "\n",
              "    .dataframe tbody tr th {\n",
              "        vertical-align: top;\n",
              "    }\n",
              "\n",
              "    .dataframe thead th {\n",
              "        text-align: right;\n",
              "    }\n",
              "</style>\n",
              "<table border=\"1\" class=\"dataframe\">\n",
              "  <thead>\n",
              "    <tr style=\"text-align: right;\">\n",
              "      <th></th>\n",
              "      <th>x</th>\n",
              "      <th>estimator</th>\n",
              "    </tr>\n",
              "  </thead>\n",
              "  <tbody>\n",
              "    <tr>\n",
              "      <th>0</th>\n",
              "      <td>0</td>\n",
              "      <td>2.479611e-05</td>\n",
              "    </tr>\n",
              "    <tr>\n",
              "      <th>1</th>\n",
              "      <td>1</td>\n",
              "      <td>2.479611e-05</td>\n",
              "    </tr>\n",
              "    <tr>\n",
              "      <th>2</th>\n",
              "      <td>2</td>\n",
              "      <td>1.925106e-03</td>\n",
              "    </tr>\n",
              "    <tr>\n",
              "      <th>3</th>\n",
              "      <td>3</td>\n",
              "      <td>3.028194e-03</td>\n",
              "    </tr>\n",
              "    <tr>\n",
              "      <th>4</th>\n",
              "      <td>4</td>\n",
              "      <td>3.815662e-03</td>\n",
              "    </tr>\n",
              "    <tr>\n",
              "      <th>...</th>\n",
              "      <td>...</td>\n",
              "      <td>...</td>\n",
              "    </tr>\n",
              "    <tr>\n",
              "      <th>126</th>\n",
              "      <td>126</td>\n",
              "      <td>1.332736e-05</td>\n",
              "    </tr>\n",
              "    <tr>\n",
              "      <th>127</th>\n",
              "      <td>127</td>\n",
              "      <td>7.496640e-06</td>\n",
              "    </tr>\n",
              "    <tr>\n",
              "      <th>128</th>\n",
              "      <td>128</td>\n",
              "      <td>3.331840e-06</td>\n",
              "    </tr>\n",
              "    <tr>\n",
              "      <th>129</th>\n",
              "      <td>129</td>\n",
              "      <td>8.329600e-07</td>\n",
              "    </tr>\n",
              "    <tr>\n",
              "      <th>130</th>\n",
              "      <td>130</td>\n",
              "      <td>-0.000000e+00</td>\n",
              "    </tr>\n",
              "  </tbody>\n",
              "</table>\n",
              "<p>131 rows × 2 columns</p>\n",
              "</div>"
            ],
            "text/plain": [
              "       x     estimator\n",
              "0      0  2.479611e-05\n",
              "1      1  2.479611e-05\n",
              "2      2  1.925106e-03\n",
              "3      3  3.028194e-03\n",
              "4      4  3.815662e-03\n",
              "..   ...           ...\n",
              "126  126  1.332736e-05\n",
              "127  127  7.496640e-06\n",
              "128  128  3.331840e-06\n",
              "129  129  8.329600e-07\n",
              "130  130 -0.000000e+00\n",
              "\n",
              "[131 rows x 2 columns]"
            ]
          },
          "metadata": {
            "tags": []
          },
          "execution_count": 105
        }
      ]
    },
    {
      "cell_type": "code",
      "metadata": {
        "id": "2nmG5vxefw4M",
        "colab_type": "code",
        "outputId": "8119e1b1-1dad-41c2-fa65-3cee191f9c77",
        "colab": {
          "base_uri": "https://localhost:8080/",
          "height": 277
        }
      },
      "source": [
        "k"
      ],
      "execution_count": 0,
      "outputs": [
        {
          "output_type": "execute_result",
          "data": {
            "text/html": [
              "<div>\n",
              "<style scoped>\n",
              "    .dataframe tbody tr th:only-of-type {\n",
              "        vertical-align: middle;\n",
              "    }\n",
              "\n",
              "    .dataframe tbody tr th {\n",
              "        vertical-align: top;\n",
              "    }\n",
              "\n",
              "    .dataframe thead th {\n",
              "        text-align: right;\n",
              "    }\n",
              "</style>\n",
              "<table border=\"1\" class=\"dataframe\">\n",
              "  <thead>\n",
              "    <tr style=\"text-align: right;\">\n",
              "      <th></th>\n",
              "      <th>t</th>\n",
              "      <th>estimator</th>\n",
              "    </tr>\n",
              "  </thead>\n",
              "  <tbody>\n",
              "    <tr>\n",
              "      <th>0</th>\n",
              "      <td>2006</td>\n",
              "      <td>1.819081</td>\n",
              "    </tr>\n",
              "    <tr>\n",
              "      <th>1</th>\n",
              "      <td>2007</td>\n",
              "      <td>-3.310193</td>\n",
              "    </tr>\n",
              "    <tr>\n",
              "      <th>2</th>\n",
              "      <td>2008</td>\n",
              "      <td>4.548457</td>\n",
              "    </tr>\n",
              "    <tr>\n",
              "      <th>3</th>\n",
              "      <td>2009</td>\n",
              "      <td>-3.303338</td>\n",
              "    </tr>\n",
              "    <tr>\n",
              "      <th>4</th>\n",
              "      <td>2010</td>\n",
              "      <td>-3.293463</td>\n",
              "    </tr>\n",
              "    <tr>\n",
              "      <th>5</th>\n",
              "      <td>2011</td>\n",
              "      <td>3.370640</td>\n",
              "    </tr>\n",
              "    <tr>\n",
              "      <th>6</th>\n",
              "      <td>2012</td>\n",
              "      <td>3.468251</td>\n",
              "    </tr>\n",
              "    <tr>\n",
              "      <th>7</th>\n",
              "      <td>2013</td>\n",
              "      <td>-3.299436</td>\n",
              "    </tr>\n",
              "  </tbody>\n",
              "</table>\n",
              "</div>"
            ],
            "text/plain": [
              "      t  estimator\n",
              "0  2006   1.819081\n",
              "1  2007  -3.310193\n",
              "2  2008   4.548457\n",
              "3  2009  -3.303338\n",
              "4  2010  -3.293463\n",
              "5  2011   3.370640\n",
              "6  2012   3.468251\n",
              "7  2013  -3.299436"
            ]
          },
          "metadata": {
            "tags": []
          },
          "execution_count": 106
        }
      ]
    },
    {
      "cell_type": "code",
      "metadata": {
        "id": "nNjkRCb96tGX",
        "colab_type": "code",
        "outputId": "cef4084f-bd04-427d-b860-aae475d9ef47",
        "colab": {
          "base_uri": "https://localhost:8080/",
          "height": 802
        }
      },
      "source": [
        "# Affichage des paramètres estimés\n",
        "\n",
        "# a_male, b_male, k_male = Lee_carter(table_fermee_H)\n",
        "# a_female, b_female, k_female = Lee_carter(table_fermee_F)\n",
        "a_male, b_male, k_male = alpha, beta, k\n",
        "#a_female, b_female, k_female = Lee_carter('F')\n",
        "x = a_male['x']\n",
        "t = k_male['t']\n",
        "plt.plot(x, a_male['estimator'])\n",
        "plt.xlabel('age x')\n",
        "plt.ylabel('Alpha homme')\n",
        "plt.show()\n",
        "plt.plot(x, b_male['estimator'])\n",
        "plt.xlabel('age x')\n",
        "plt.ylabel('Beta homme')\n",
        "plt.show()\n",
        "plt.plot(t, k_male['estimator'])\n",
        "plt.xlabel('Année t')\n",
        "plt.ylabel('Time index homme')\n",
        "plt.show()\n",
        "\n",
        "#plt.plot(x, a_female['estimator'])\n",
        "#plt.xlabel('age x')\n",
        "#plt.ylabel('Alpha femme')\n",
        "#plt.plot(x, b_female['estimator'])\n",
        "#plt.xlabel('age x')\n",
        "#plt.ylabel('Beta femme')\n",
        "#plt.plot(t, k_female['estimator'])\n",
        "#plt.xlabel('Année t')\n",
        "#plt.ylabel('Time index femme')"
      ],
      "execution_count": 0,
      "outputs": [
        {
          "output_type": "display_data",
          "data": {
            "image/png": "[encoded data removed]",
            "text/plain": [
              "<Figure size 432x288 with 1 Axes>"
            ]
          },
          "metadata": {
            "tags": []
          }
        },
        {
          "output_type": "display_data",
          "data": {
            "image/png": "[encoded data removed]",
            "text/plain": [
              "<Figure size 432x288 with 1 Axes>"
            ]
          },
          "metadata": {
            "tags": []
          }
        },
        {
          "output_type": "display_data",
          "data": {
            "image/png": "[encoded data removed]",
            "text/plain": [
              "<Figure size 432x288 with 1 Axes>"
            ]
          },
          "metadata": {
            "tags": []
          }
        }
      ]
    },
    {
      "cell_type": "markdown",
      "metadata": {
        "colab_type": "text",
        "id": "v0qzxMnw3RsO"
      },
      "source": [
        "## **4.2) Projection du facteur $k_t$**"
      ]
    },
    {
      "cell_type": "markdown",
      "metadata": {
        "id": "WMUCqll962PJ",
        "colab_type": "text"
      },
      "source": [
        "Pour projeter l'indice $k_t$, on adopte la marche aléatoire suivante:\n",
        "$$ k_t = k_{t-1} + d + \\epsilon_t$$\n",
        "où $\\epsilon_t \\sim N(0,1)$\\\n",
        "et où le drift $d$ est calculé en utilisant les valeurs de $k$ calculées précédemment:\\\n",
        "$ d = \\frac{k_{t_n}-k_{t_1}}{t_n - t_1} $"
      ]
    },
    {
      "cell_type": "markdown",
      "metadata": {
        "colab_type": "text",
        "id": "EUC_Wc4U3Af2"
      },
      "source": [
        "# **5) Gestion actif-passif**"
      ]
    },
    {
      "cell_type": "markdown",
      "metadata": {
        "id": "jgMlQ-4G71KP",
        "colab_type": "text"
      },
      "source": [
        "\n",
        "\n",
        "1.   \n",
        "$$Cout = V(t=0) = E^{P*Q}[e^{-rT_x}(K-S_{T_x})1_{T_x <= T}] \\\n",
        "                = \\int_{t = 0}^T C_t*P(T_x = t)dt$$\n",
        "avec $C_t$ la prime d'un put européen de maturité t et de strike K.\n",
        "Donc $$C_tt = Ke^{−rT} \\phi_N(0,1)(d1) − S_0\\phi_N(0,1)(d2)$$\n",
        "\n",
        "2.   \n",
        "Il suffit donc de calculer les prix des calls et puis utiliser les tables de mortalité pour les $P(T_x=t)$ selon l'age du client.\n",
        "Pour le calcul sous integrale, on utilise la methode des differences finies.\n",
        "On peut aussi utiliser monte carlo on diffusion de scénarios\n",
        "\n"
      ]
    },
    {
      "cell_type": "code",
      "metadata": {
        "id": "siSxL8w-2_8y",
        "colab_type": "code",
        "colab": {}
      },
      "source": [
        "def pgaussred(x):\n",
        "    \"\"\"fonction de répartition de la loi normale centrée réduite\n",
        "       (= probabilité qu'une variable aléatoire distribuée selon\n",
        "       cette loi soit inférieure à x)\n",
        "       calcul par intégration numérique: 2000 tranches par écart-type\n",
        "       résultat arrondi à 7 chiffres après la virgule\n",
        "    \"\"\"\n",
        "    if x==0:\n",
        "        return 0.5\n",
        "    u=abs(x)\n",
        "    n=int(u*2000)\n",
        "    du=u/n\n",
        "    k=1/sqrt(2*pi)\n",
        "    u1=0\n",
        "    f1=k\n",
        "    p=0.5\n",
        "    for i in range(0,n):\n",
        "        u2=u1+du\n",
        "        f2=k*exp(-0.5*u2*u2)\n",
        "        p=p+(f1+f2)*du*0.5\n",
        "        u1=u2\n",
        "        f1=f2\n",
        "    if x<0:\n",
        "        p = 1.0-p\n",
        "    return round(p, 7)"
      ],
      "execution_count": 0,
      "outputs": []
    },
    {
      "cell_type": "code",
      "metadata": {
        "id": "kWizWNqh78sJ",
        "colab_type": "code",
        "colab": {}
      },
      "source": [
        "def prix_put(t,sigma,r,K,S0):\n",
        "  d1 = (sigma*t^(1/2))^(-1)*log(K/S0)-(r*(t^(1/2)))/sigma+sigma*(t^(1/2))/2\n",
        "  d2 = (sigma*t^(1/2))^(-1)*log(K/S0)-(r*(t^(1/2)))/sigma-sigma*(t^(1/2))/2\n",
        "  F_m1 = pgaussred(-d1) #calcul de ΦN(0,1)(−d1) F_m2<-pnorm(-d2) #calcul de ΦN(0,1)(−d2)\n",
        "  F_p1 = pgaussred(d1) #calcul de ΦN(0,1)(d1) F_p2<-pnorm(d2) #calcul de ΦN(0,1)(d2)\n",
        "  P0 = K*exp(-r*t)*F_p1-S0*F_p2 #Calcul de P0\n",
        "  return(P0)"
      ],
      "execution_count": 0,
      "outputs": []
    },
    {
      "cell_type": "code",
      "metadata": {
        "id": "4DolQw3j8At_",
        "colab_type": "code",
        "colab": {}
      },
      "source": [
        "def Prix_garantie(K,T,sigma,r,S0,mortalite):\n",
        "  t = np.linspace(0,T,1000)\n",
        "  dt = T/1000\n",
        "  I = 0\n",
        "  for t in dt:\n",
        "    I = I + prix_put(t,sigma,r,K,S0)*mortalite[t]*dt\n",
        "  return(I)"
      ],
      "execution_count": 0,
      "outputs": []
    }
  ]
}